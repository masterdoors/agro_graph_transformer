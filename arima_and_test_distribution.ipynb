{
 "cells": [
  {
   "cell_type": "code",
   "execution_count": 2,
   "id": "00a5ad81-1006-48e1-94ee-9600ca3eb889",
   "metadata": {},
   "outputs": [],
   "source": [
    "import pickle\n",
    "import numpy as np\n",
    "\n",
    "features_min, features_max = np.load(\"norm_constants.npy\",allow_pickle=True).tolist()\n",
    "\n",
    "with open('cluster_year.pkl', 'rb') as f:\n",
    "    cluster_year = pickle.load(f)\n",
    "\n",
    "with open('name_encoder.pkl', 'rb') as f:\n",
    "    le = pickle.load(f)\n"
   ]
  },
  {
   "cell_type": "markdown",
   "id": "6f71cf66-bcfe-468a-8da9-5fabec9ad655",
   "metadata": {},
   "source": [
    "# ARIMA"
   ]
  },
  {
   "cell_type": "code",
   "execution_count": 4,
   "id": "d3181f2c-3006-46cb-a5f2-29b39da6dca2",
   "metadata": {},
   "outputs": [],
   "source": [
    "from sktime.forecasting.naive import NaiveForecaster\n",
    "from sktime.utils.plotting import plot_series\n",
    "from sktime.utils.dependencies import _check_soft_dependencies\n",
    "import warnings\n",
    "from sktime.forecasting.arima import AutoARIMA\n",
    "from sklearn.metrics import mean_squared_error\n",
    "import pandas as pd\n",
    "\n",
    "warnings.filterwarnings(\"ignore\") \n",
    "\n",
    "years2concat = {}\n",
    "for c, y in cluster_year:\n",
    "    if c not in years2concat:\n",
    "         years2concat[c] = []    \n",
    "    years2concat[c].append(y)\n",
    "\n",
    "\n",
    "y_pred = []\n",
    "y_true = []\n",
    "\n",
    "for c, y in cluster_year:\n",
    "    for j,k in cluster_year[c,y][1]:\n",
    "        targs = cluster_year[c,y][1][j,k][1]\n",
    "        datas = cluster_year[c,y][1][j,k][0][:,0]\n",
    "        datas2 = cluster_year[c,y][1][j,k][0][:,2]\n",
    "\n",
    "        ys = pd.Series(targs[:4].flatten())\n",
    "        y_ = pd.Series(targs.flatten())\n",
    "        xst = pd.DataFrame(datas2[:4].reshape(-1,1),index=ys.index)    \n",
    "\n",
    "\n",
    "        xs = pd.DataFrame(datas2.reshape(-1,1),index=y_.index)  \n",
    "        #print(xs)\n",
    "\n",
    "        amodel = AutoARIMA(suppress_warnings=True,start_p=2,start_q=2,seasonal=False,maxiter=500).fit(ys,X=xst)\n",
    "\n",
    "        y_p = amodel.predict(fh=np.asarray([1]),X=xs)\n",
    "       \n",
    "        y_pred.append(float(y_p)) #, batch_size=batch_size)\n",
    "        #print(targs,y_pred[len(y_pred) - 1])\n",
    "\n",
    "        y_true.append(targs[4])\n",
    "        #break\n",
    "\n"
   ]
  },
  {
   "cell_type": "code",
   "execution_count": 5,
   "id": "eed9fa1b-1d88-454b-a218-5acf40409a53",
   "metadata": {},
   "outputs": [
    {
     "name": "stdout",
     "output_type": "stream",
     "text": [
      "r2:  0.7195369929114069\n",
      "mae:  184639931.85786268\n",
      "mse:  2.1436493467374224e+17\n"
     ]
    }
   ],
   "source": [
    "from sklearn.metrics import mean_squared_error\n",
    "from sklearn.metrics import mean_absolute_error\n",
    "from sklearn.metrics import r2_score\n",
    "\n",
    "r2 = r2_score(np.asarray(y_pred).flatten(),np.asarray(y_true).flatten())    \n",
    "print(\"r2: \",r2)\n",
    "\n",
    "mae = mean_absolute_error(np.asarray(y_pred).flatten() * features_max[0],np.asarray(y_true).flatten() * features_max[0])\n",
    "print(\"mae: \",mae)\n",
    "\n",
    "mse = mean_squared_error(np.asarray(y_pred).flatten() * features_max[0],np.asarray(y_true).flatten() * features_max[0])\n",
    "print(\"mse: \",mse)"
   ]
  },
  {
   "cell_type": "markdown",
   "id": "4eb165ea-d41f-4e7f-81d1-1a350e44ae14",
   "metadata": {},
   "source": [
    "# Distribution"
   ]
  },
  {
   "cell_type": "code",
   "execution_count": 15,
   "id": "1bbc92b7-731a-466d-938d-d244efbd5669",
   "metadata": {},
   "outputs": [
    {
     "data": {
      "image/png": "[encoded data removed]",
      "text/plain": [
       "<Figure size 640x480 with 1 Axes>"
      ]
     },
     "metadata": {},
     "output_type": "display_data"
    }
   ],
   "source": [
    "import matplotlib.pyplot as plt\n",
    "import numpy as np\n",
    "\n",
    "r = np.asarray(y_true) - np.asarray(y_pred)\n",
    "# Create the histogram\n",
    "plt.hist(y_true, bins=50)\n",
    "\n",
    "# Show the plot\n",
    "plt.show()"
   ]
  },
  {
   "cell_type": "markdown",
   "id": "51f2cd98-eb80-48da-8873-a8e83d0fa64c",
   "metadata": {},
   "source": [
    "# KS-test"
   ]
  },
  {
   "cell_type": "code",
   "execution_count": 475,
   "id": "023ff50b-63ee-40a3-bd38-c546032efd72",
   "metadata": {},
   "outputs": [],
   "source": [
    "from scipy.stats import beta\n",
    "\n",
    "values = []\n",
    "values2 = []\n",
    "diffs = []\n",
    "for x in np.arange(0.001,1,0.001):\n",
    "    values.append(beta.cdf(x, 0.35, 7))\n",
    "    \n",
    "    values2.append(float(y_true[y_true < x].shape[0]) / y_true.shape[0])\n",
    "    diffs.append(np.abs(values[len(values) - 1] - values2[len(values2)-1]))"
   ]
  },
  {
   "cell_type": "code",
   "execution_count": 476,
   "id": "b3ef29f4-80d5-41f6-b94c-b646902906a4",
   "metadata": {},
   "outputs": [
    {
     "data": {
      "text/plain": [
       "[<matplotlib.lines.Line2D at 0x7efe9ecd0b50>]"
      ]
     },
     "execution_count": 476,
     "metadata": {},
     "output_type": "execute_result"
    },
    {
     "data": {
      "image/png": "[encoded data removed]",
      "text/plain": [
       "<Figure size 640x480 with 1 Axes>"
      ]
     },
     "metadata": {},
     "output_type": "display_data"
    }
   ],
   "source": [
    "plt.plot(np.asarray(np.arange(0.001,1,0.001)),values)\n",
    "plt.plot(np.asarray(np.arange(0.001,1,0.001)),values2)"
   ]
  },
  {
   "cell_type": "code",
   "execution_count": 477,
   "id": "3464c3e7-ea5b-4d1b-8c08-8dee885e4c91",
   "metadata": {},
   "outputs": [],
   "source": [
    "dfs = np.asarray([z for z in zip(np.asarray(np.arange(0.001,1,0.001)),diffs)])"
   ]
  },
  {
   "cell_type": "code",
   "execution_count": 478,
   "id": "1d23f9d5-9dbc-4e08-b8c1-30b0b9976718",
   "metadata": {},
   "outputs": [
    {
     "data": {
      "text/plain": [
       "0.04154640169196644"
      ]
     },
     "execution_count": 478,
     "metadata": {},
     "output_type": "execute_result"
    }
   ],
   "source": [
    "dfs[:,1].max()"
   ]
  },
  {
   "cell_type": "code",
   "execution_count": 468,
   "id": "a29d8fe2-5d28-4d60-8344-2194b7ea1173",
   "metadata": {},
   "outputs": [
    {
     "data": {
      "text/plain": [
       "KstestResult(statistic=0.04348058932410748, pvalue=0.06150368748391266, statistic_location=0.25427504810225293, statistic_sign=-1)"
      ]
     },
     "execution_count": 468,
     "metadata": {},
     "output_type": "execute_result"
    }
   ],
   "source": [
    "from scipy.stats import kstest\n",
    "\n",
    "def bcdf(x):\n",
    "    return beta.cdf(x, 0.38, 8) \n",
    "\n",
    "kstest(y_true,bcdf,method=\"exact\")"
   ]
  },
  {
   "cell_type": "code",
   "execution_count": null,
   "id": "3549fd25-576d-4db7-8cc0-bcc3d2112083",
   "metadata": {},
   "outputs": [],
   "source": []
  }
 ],
 "metadata": {
  "kernelspec": {
   "display_name": "Python 3 (ipykernel)",
   "language": "python",
   "name": "python3"
  },
  "language_info": {
   "codemirror_mode": {
    "name": "ipython",
    "version": 3
   },
   "file_extension": ".py",
   "mimetype": "text/x-python",
   "name": "python",
   "nbconvert_exporter": "python",
   "pygments_lexer": "ipython3",
   "version": "3.9.13"
  }
 },
 "nbformat": 4,
 "nbformat_minor": 5
}
