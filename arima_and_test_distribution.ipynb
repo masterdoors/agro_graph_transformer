{
 "cells": [
  {
   "cell_type": "code",
   "execution_count": 2,
   "id": "00a5ad81-1006-48e1-94ee-9600ca3eb889",
   "metadata": {},
   "outputs": [],
   "source": [
    "import pickle\n",
    "import numpy as np\n",
    "\n",
    "features_min, features_max = np.load(\"norm_constants.npy\",allow_pickle=True).tolist()\n",
    "\n",
    "with open('cluster_year.pkl', 'rb') as f:\n",
    "    cluster_year = pickle.load(f)\n",
    "\n",
    "with open('name_encoder.pkl', 'rb') as f:\n",
    "    le = pickle.load(f)\n"
   ]
  },
  {
   "cell_type": "markdown",
   "id": "6f71cf66-bcfe-468a-8da9-5fabec9ad655",
   "metadata": {},
   "source": [
    "# ARIMA"
   ]
  },
  {
   "cell_type": "code",
   "execution_count": 4,
   "id": "d3181f2c-3006-46cb-a5f2-29b39da6dca2",
   "metadata": {},
   "outputs": [],
   "source": [
    "from sktime.forecasting.naive import NaiveForecaster\n",
    "from sktime.utils.plotting import plot_series\n",
    "from sktime.utils.dependencies import _check_soft_dependencies\n",
    "import warnings\n",
    "from sktime.forecasting.arima import AutoARIMA\n",
    "from sklearn.metrics import mean_squared_error\n",
    "import pandas as pd\n",
    "\n",
    "warnings.filterwarnings(\"ignore\") \n",
    "\n",
    "years2concat = {}\n",
    "for c, y in cluster_year:\n",
    "    if c not in years2concat:\n",
    "         years2concat[c] = []    \n",
    "    years2concat[c].append(y)\n",
    "\n",
    "\n",
    "y_pred = []\n",
    "y_true = []\n",
    "\n",
    "for c, y in cluster_year:\n",
    "    for j,k in cluster_year[c,y][1]:\n",
    "        targs = cluster_year[c,y][1][j,k][1]\n",
    "        datas = cluster_year[c,y][1][j,k][0][:,0]\n",
    "        datas2 = cluster_year[c,y][1][j,k][0][:,2]\n",
    "\n",
    "        ys = pd.Series(targs[:4].flatten())\n",
    "        y_ = pd.Series(targs.flatten())\n",
    "        xst = pd.DataFrame(datas2[:4].reshape(-1,1),index=ys.index)    \n",
    "\n",
    "\n",
    "        xs = pd.DataFrame(datas2.reshape(-1,1),index=y_.index)  \n",
    "        #print(xs)\n",
    "\n",
    "        amodel = AutoARIMA(suppress_warnings=True,start_p=2,start_q=2,seasonal=False,maxiter=500).fit(ys,X=xst)\n",
    "\n",
    "        y_p = amodel.predict(fh=np.asarray([1]),X=xs)\n",
    "       \n",
    "        y_pred.append(float(y_p)) #, batch_size=batch_size)\n",
    "        #print(targs,y_pred[len(y_pred) - 1])\n",
    "\n",
    "        y_true.append(targs[4])\n",
    "        #break\n",
    "\n"
   ]
  },
  {
   "cell_type": "code",
   "execution_count": 5,
   "id": "eed9fa1b-1d88-454b-a218-5acf40409a53",
   "metadata": {},
   "outputs": [
    {
     "name": "stdout",
     "output_type": "stream",
     "text": [
      "r2:  0.7195369929114069\n",
      "mae:  184639931.85786268\n",
      "mse:  2.1436493467374224e+17\n"
     ]
    }
   ],
   "source": [
    "from sklearn.metrics import mean_squared_error\n",
    "from sklearn.metrics import mean_absolute_error\n",
    "from sklearn.metrics import r2_score\n",
    "\n",
    "r2 = r2_score(np.asarray(y_pred).flatten(),np.asarray(y_true).flatten())    \n",
    "print(\"r2: \",r2)\n",
    "\n",
    "mae = mean_absolute_error(np.asarray(y_pred).flatten() * features_max[0],np.asarray(y_true).flatten() * features_max[0])\n",
    "print(\"mae: \",mae)\n",
    "\n",
    "mse = mean_squared_error(np.asarray(y_pred).flatten() * features_max[0],np.asarray(y_true).flatten() * features_max[0])\n",
    "print(\"mse: \",mse)"
   ]
  },
  {
   "cell_type": "markdown",
   "id": "4eb165ea-d41f-4e7f-81d1-1a350e44ae14",
   "metadata": {},
   "source": [
    "# residuals"
   ]
  },
  {
   "cell_type": "code",
   "execution_count": 15,
   "id": "1bbc92b7-731a-466d-938d-d244efbd5669",
   "metadata": {},
   "outputs": [
    {
     "data": {
      "image/png": "[encoded data removed]",
      "text/plain": [
       "<Figure size 640x480 with 1 Axes>"
      ]
     },
     "metadata": {},
     "output_type": "display_data"
    }
   ],
   "source": [
    "import matplotlib.pyplot as plt\n",
    "import numpy as np\n",
    "\n",
    "r = np.asarray(y_true) - np.asarray(y_pred)\n",
    "# Create the histogram\n",
    "plt.hist(y_true, bins=50)\n",
    "\n",
    "# Show the plot\n",
    "plt.show()"
   ]
  },
  {
   "cell_type": "code",
   "execution_count": null,
   "id": "f51fc485-46c7-48fc-b71e-56eb01a5d40d",
   "metadata": {},
   "outputs": [],
   "source": [
    "from scipy.stats import kstest\n",
    "\n",
    "max_pval = 0.\n",
    "max_a = 0\n",
    "max_b = 0\n",
    "\n",
    "y_true = np.asarray(y_true)\n",
    "\n",
    "for a in np.arange(0.1,3,0.1):\n",
    "    for b in np.arange(1,100,0.01):\n",
    "        stat, p_val = kstest(y_true[(y_true > 0) & (y_true < 1)],'beta',args=(a,b))\n",
    "        #print(a,b,p_val)\n",
    "        if p_val > max_pval:\n",
    "            max_pval = p_val\n",
    "            max_a = a\n",
    "            max_b = b"
   ]
  },
  {
   "cell_type": "code",
   "execution_count": null,
   "id": "64cb7115-212c-4431-b0ec-b272877397c6",
   "metadata": {},
   "outputs": [],
   "source": [
    "max_pval"
   ]
  },
  {
   "cell_type": "code",
   "execution_count": null,
   "id": "bb2be88f-996a-4c12-ae1f-4dbe8c3eee0d",
   "metadata": {},
   "outputs": [],
   "source": [
    "max_a"
   ]
  },
  {
   "cell_type": "code",
   "execution_count": null,
   "id": "e0e00cba-cf39-4474-a700-22c70f8e288a",
   "metadata": {},
   "outputs": [],
   "source": [
    "max_b"
   ]
  },
  {
   "cell_type": "code",
   "execution_count": 40,
   "id": "33b568c3-ffdb-4255-be88-e94c155778c0",
   "metadata": {},
   "outputs": [
    {
     "data": {
      "text/plain": [
       "KstestResult(statistic=0.1930118588896047, pvalue=9.582708241550457e-30, statistic_location=0.056927409733032376, statistic_sign=-1)"
      ]
     },
     "execution_count": 40,
     "metadata": {},
     "output_type": "execute_result"
    }
   ],
   "source": [
    "kstest(y_true[(y_true > 0) & (y_true < 1)],'beta',args=(1,50))"
   ]
  },
  {
   "cell_type": "code",
   "execution_count": 42,
   "id": "13c810cb-8176-44ef-8e3d-e7be757de7a2",
   "metadata": {},
   "outputs": [
    {
     "name": "stdout",
     "output_type": "stream",
     "text": [
      "Estimated alpha: 0.35389210406968014\n",
      "Estimated beta: 5.238943607335745\n"
     ]
    }
   ],
   "source": [
    "from scipy.stats import beta\n",
    "params = beta.fit(y_true[(y_true > 0) & (y_true < 1)], floc=0, fscale=1)\n",
    "\n",
    "# The first two elements of 'params' are alpha and beta\n",
    "alpha_estimated = params[0]\n",
    "beta_estimated = params[1]\n",
    "\n",
    "print(f\"Estimated alpha: {alpha_estimated}\")\n",
    "print(f\"Estimated beta: {beta_estimated}\")"
   ]
  },
  {
   "cell_type": "code",
   "execution_count": 45,
   "id": "8fb98219-b67d-4b07-84c4-9bd2bf801762",
   "metadata": {},
   "outputs": [
    {
     "data": {
      "text/plain": [
       "KstestResult(statistic=0.05565059009488771, pvalue=0.0074284882740531495, statistic_location=0.0003866076298769371, statistic_sign=-1)"
      ]
     },
     "execution_count": 45,
     "metadata": {},
     "output_type": "execute_result"
    }
   ],
   "source": [
    "kstest(y_true[(y_true > 0) & (y_true < 1)],'beta',args=(0.363,7.5))"
   ]
  },
  {
   "cell_type": "code",
   "execution_count": null,
   "id": "023ff50b-63ee-40a3-bd38-c546032efd72",
   "metadata": {},
   "outputs": [],
   "source": []
  }
 ],
 "metadata": {
  "kernelspec": {
   "display_name": "Python 3 (ipykernel)",
   "language": "python",
   "name": "python3"
  },
  "language_info": {
   "codemirror_mode": {
    "name": "ipython",
    "version": 3
   },
   "file_extension": ".py",
   "mimetype": "text/x-python",
   "name": "python",
   "nbconvert_exporter": "python",
   "pygments_lexer": "ipython3",
   "version": "3.9.13"
  }
 },
 "nbformat": 4,
 "nbformat_minor": 5
}
