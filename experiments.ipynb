{
 "cells": [
  {
   "cell_type": "code",
   "execution_count": 1,
   "id": "99a9a5a7-b801-4428-8e58-b205d13279e6",
   "metadata": {},
   "outputs": [],
   "source": [
    "import pickle\n",
    "import numpy as np\n",
    "\n",
    "features_min, features_max = np.load(\"norm_constants.npy\",allow_pickle=True).tolist()\n",
    "\n",
    "with open('cluster_year.pkl', 'rb') as f:\n",
    "    cluster_year = pickle.load(f)\n",
    "\n",
    "with open('name_encoder.pkl', 'rb') as f:\n",
    "    le = pickle.load(f)\n"
   ]
  },
  {
   "cell_type": "markdown",
   "id": "173edf61-3427-4895-bb4d-26fc1760e5bb",
   "metadata": {},
   "source": [
    "## LSTM/GRU"
   ]
  },
  {
   "cell_type": "code",
   "execution_count": 2,
   "id": "f4b6c5b1-6049-4699-84df-4cd9f97bf777",
   "metadata": {},
   "outputs": [
    {
     "name": "stderr",
     "output_type": "stream",
     "text": [
      "2025-08-23 01:34:21.114840: E external/local_xla/xla/stream_executor/cuda/cuda_fft.cc:467] Unable to register cuFFT factory: Attempting to register factory for plugin cuFFT when one has already been registered\n",
      "WARNING: All log messages before absl::InitializeLog() is called are written to STDERR\n",
      "E0000 00:00:1755902061.527804  839447 cuda_dnn.cc:8579] Unable to register cuDNN factory: Attempting to register factory for plugin cuDNN when one has already been registered\n",
      "E0000 00:00:1755902061.696674  839447 cuda_blas.cc:1407] Unable to register cuBLAS factory: Attempting to register factory for plugin cuBLAS when one has already been registered\n",
      "W0000 00:00:1755902064.428662  839447 computation_placer.cc:177] computation placer already registered. Please check linkage and avoid linking the same target more than once.\n",
      "W0000 00:00:1755902064.428699  839447 computation_placer.cc:177] computation placer already registered. Please check linkage and avoid linking the same target more than once.\n",
      "W0000 00:00:1755902064.428700  839447 computation_placer.cc:177] computation placer already registered. Please check linkage and avoid linking the same target more than once.\n",
      "W0000 00:00:1755902064.428702  839447 computation_placer.cc:177] computation placer already registered. Please check linkage and avoid linking the same target more than once.\n",
      "2025-08-23 01:34:25.072879: I tensorflow/core/platform/cpu_feature_guard.cc:210] This TensorFlow binary is optimized to use available CPU instructions in performance-critical operations.\n",
      "To enable the following instructions: AVX2 FMA, in other operations, rebuild TensorFlow with the appropriate compiler flags.\n"
     ]
    }
   ],
   "source": [
    "def warn(*args, **kwargs):\n",
    "    pass\n",
    "import warnings\n",
    "warnings.warn = warn\n",
    "\n",
    "\n",
    "def printf(*args, fname=\"log.txt\"):\n",
    "    with open(os.path.join(\"test_outputs\",fname),\"a+\") as f:\n",
    "        for a in args:\n",
    "            f.write(str(a) + \" \")\n",
    "        f.write(\"\\n\") \n",
    "    print(args) \n",
    "\n",
    "from sklearn.metrics import mean_squared_error\n",
    "from sklearn.metrics import mean_absolute_error\n",
    "from sklearn.metrics import r2_score\n",
    "import tensorflow as tf\n",
    "\n",
    "import optuna\n",
    "import os"
   ]
  },
  {
   "cell_type": "code",
   "execution_count": 3,
   "id": "2e973a4b-3cc5-4621-93e1-57460dd30f1c",
   "metadata": {},
   "outputs": [
    {
     "name": "stderr",
     "output_type": "stream",
     "text": [
      "[I 2025-08-23 01:34:37,990] A new study created in memory with name: no-name-23fb512d-d7dc-4037-9d7c-cae7aab592c4\n",
      "2025-08-23 01:34:38.023664: E external/local_xla/xla/stream_executor/cuda/cuda_platform.cc:51] failed call to cuInit: INTERNAL: CUDA error: Failed call to cuInit: UNKNOWN ERROR (303)\n"
     ]
    },
    {
     "name": "stdout",
     "output_type": "stream",
     "text": [
      "\u001b[1m7/7\u001b[0m \u001b[32m━━━━━━━━━━━━━━━━━━━━\u001b[0m\u001b[37m\u001b[0m \u001b[1m0s\u001b[0m 23ms/step\n",
      "\u001b[1m7/7\u001b[0m \u001b[32m━━━━━━━━━━━━━━━━━━━━\u001b[0m\u001b[37m\u001b[0m \u001b[1m0s\u001b[0m 21ms/step\n",
      "WARNING:tensorflow:5 out of the last 15 calls to <function TensorFlowTrainer.make_predict_function.<locals>.one_step_on_data_distributed at 0x7f164c6e3ca0> triggered tf.function retracing. Tracing is expensive and the excessive number of tracings could be due to (1) creating @tf.function repeatedly in a loop, (2) passing tensors with different shapes, (3) passing Python objects instead of tensors. For (1), please define your @tf.function outside of the loop. For (2), @tf.function has reduce_retracing=True option that can avoid unnecessary retracing. For (3), please refer to https://www.tensorflow.org/guide/function#controlling_retracing and https://www.tensorflow.org/api_docs/python/tf/function for  more details.\n",
      "\u001b[1m7/7\u001b[0m \u001b[32m━━━━━━━━━━━━━━━━━━━━\u001b[0m\u001b[37m\u001b[0m \u001b[1m0s\u001b[0m 21ms/step\n"
     ]
    },
    {
     "name": "stderr",
     "output_type": "stream",
     "text": [
      "[I 2025-08-23 01:36:26,400] Trial 0 finished with value: 0.004038883028835872 and parameters: {'lr': 0.0029634807873267117, 'hs': 15, 'dropout': 0.07762635886697528}. Best is trial 0 with value: 0.004038883028835872.\n"
     ]
    },
    {
     "name": "stdout",
     "output_type": "stream",
     "text": [
      "WARNING:tensorflow:5 out of the last 15 calls to <function TensorFlowTrainer.make_predict_function.<locals>.one_step_on_data_distributed at 0x7f164fb9bdc0> triggered tf.function retracing. Tracing is expensive and the excessive number of tracings could be due to (1) creating @tf.function repeatedly in a loop, (2) passing tensors with different shapes, (3) passing Python objects instead of tensors. For (1), please define your @tf.function outside of the loop. For (2), @tf.function has reduce_retracing=True option that can avoid unnecessary retracing. For (3), please refer to https://www.tensorflow.org/guide/function#controlling_retracing and https://www.tensorflow.org/api_docs/python/tf/function for  more details.\n",
      "\u001b[1m7/7\u001b[0m \u001b[32m━━━━━━━━━━━━━━━━━━━━\u001b[0m\u001b[37m\u001b[0m \u001b[1m0s\u001b[0m 21ms/step\n",
      "\u001b[1m7/7\u001b[0m \u001b[32m━━━━━━━━━━━━━━━━━━━━\u001b[0m\u001b[37m\u001b[0m \u001b[1m0s\u001b[0m 21ms/step\n",
      "\u001b[1m7/7\u001b[0m \u001b[32m━━━━━━━━━━━━━━━━━━━━\u001b[0m\u001b[37m\u001b[0m \u001b[1m0s\u001b[0m 50ms/step\n"
     ]
    },
    {
     "name": "stderr",
     "output_type": "stream",
     "text": [
      "[I 2025-08-23 01:38:08,368] Trial 1 finished with value: 0.00396357945969137 and parameters: {'lr': 0.003854664623415963, 'hs': 10, 'dropout': 0.15720289740269122}. Best is trial 1 with value: 0.00396357945969137.\n"
     ]
    },
    {
     "name": "stdout",
     "output_type": "stream",
     "text": [
      "\u001b[1m7/7\u001b[0m \u001b[32m━━━━━━━━━━━━━━━━━━━━\u001b[0m\u001b[37m\u001b[0m \u001b[1m0s\u001b[0m 22ms/step\n",
      "\u001b[1m7/7\u001b[0m \u001b[32m━━━━━━━━━━━━━━━━━━━━\u001b[0m\u001b[37m\u001b[0m \u001b[1m0s\u001b[0m 21ms/step\n",
      "\u001b[1m7/7\u001b[0m \u001b[32m━━━━━━━━━━━━━━━━━━━━\u001b[0m\u001b[37m\u001b[0m \u001b[1m0s\u001b[0m 21ms/step\n"
     ]
    },
    {
     "name": "stderr",
     "output_type": "stream",
     "text": [
      "[I 2025-08-23 01:39:51,354] Trial 2 finished with value: 0.003472980355944764 and parameters: {'lr': 0.006018111108416738, 'hs': 15, 'dropout': 0.1211840352183779}. Best is trial 2 with value: 0.003472980355944764.\n"
     ]
    },
    {
     "name": "stdout",
     "output_type": "stream",
     "text": [
      "\u001b[1m7/7\u001b[0m \u001b[32m━━━━━━━━━━━━━━━━━━━━\u001b[0m\u001b[37m\u001b[0m \u001b[1m0s\u001b[0m 21ms/step\n",
      "\u001b[1m7/7\u001b[0m \u001b[32m━━━━━━━━━━━━━━━━━━━━\u001b[0m\u001b[37m\u001b[0m \u001b[1m0s\u001b[0m 22ms/step\n",
      "\u001b[1m7/7\u001b[0m \u001b[32m━━━━━━━━━━━━━━━━━━━━\u001b[0m\u001b[37m\u001b[0m \u001b[1m0s\u001b[0m 21ms/step\n"
     ]
    },
    {
     "name": "stderr",
     "output_type": "stream",
     "text": [
      "[I 2025-08-23 01:41:37,801] Trial 3 finished with value: 0.0035388379573801734 and parameters: {'lr': 0.0069785289253990225, 'hs': 12, 'dropout': 0.1841922704500597}. Best is trial 2 with value: 0.003472980355944764.\n"
     ]
    },
    {
     "name": "stdout",
     "output_type": "stream",
     "text": [
      "\u001b[1m7/7\u001b[0m \u001b[32m━━━━━━━━━━━━━━━━━━━━\u001b[0m\u001b[37m\u001b[0m \u001b[1m0s\u001b[0m 21ms/step\n",
      "\u001b[1m7/7\u001b[0m \u001b[32m━━━━━━━━━━━━━━━━━━━━\u001b[0m\u001b[37m\u001b[0m \u001b[1m0s\u001b[0m 21ms/step\n",
      "\u001b[1m7/7\u001b[0m \u001b[32m━━━━━━━━━━━━━━━━━━━━\u001b[0m\u001b[37m\u001b[0m \u001b[1m0s\u001b[0m 21ms/step\n"
     ]
    },
    {
     "name": "stderr",
     "output_type": "stream",
     "text": [
      "[I 2025-08-23 01:43:19,840] Trial 4 finished with value: 0.0028803733459704943 and parameters: {'lr': 0.006704605528343786, 'hs': 11, 'dropout': 0.07977019553951972}. Best is trial 4 with value: 0.0028803733459704943.\n"
     ]
    },
    {
     "name": "stdout",
     "output_type": "stream",
     "text": [
      "\u001b[1m7/7\u001b[0m \u001b[32m━━━━━━━━━━━━━━━━━━━━\u001b[0m\u001b[37m\u001b[0m \u001b[1m0s\u001b[0m 20ms/step\n",
      "\u001b[1m7/7\u001b[0m \u001b[32m━━━━━━━━━━━━━━━━━━━━\u001b[0m\u001b[37m\u001b[0m \u001b[1m0s\u001b[0m 21ms/step\n",
      "\u001b[1m7/7\u001b[0m \u001b[32m━━━━━━━━━━━━━━━━━━━━\u001b[0m\u001b[37m\u001b[0m \u001b[1m0s\u001b[0m 22ms/step\n"
     ]
    },
    {
     "name": "stderr",
     "output_type": "stream",
     "text": [
      "[I 2025-08-23 01:45:04,048] Trial 5 finished with value: 0.01527754641573876 and parameters: {'lr': 0.0043817567276726995, 'hs': 24, 'dropout': 0.10859848521078325}. Best is trial 4 with value: 0.0028803733459704943.\n"
     ]
    },
    {
     "name": "stdout",
     "output_type": "stream",
     "text": [
      "\u001b[1m7/7\u001b[0m \u001b[32m━━━━━━━━━━━━━━━━━━━━\u001b[0m\u001b[37m\u001b[0m \u001b[1m0s\u001b[0m 21ms/step\n",
      "\u001b[1m7/7\u001b[0m \u001b[32m━━━━━━━━━━━━━━━━━━━━\u001b[0m\u001b[37m\u001b[0m \u001b[1m0s\u001b[0m 21ms/step\n",
      "\u001b[1m7/7\u001b[0m \u001b[32m━━━━━━━━━━━━━━━━━━━━\u001b[0m\u001b[37m\u001b[0m \u001b[1m0s\u001b[0m 21ms/step\n"
     ]
    },
    {
     "name": "stderr",
     "output_type": "stream",
     "text": [
      "[I 2025-08-23 01:46:47,486] Trial 6 finished with value: 0.003932555831988046 and parameters: {'lr': 0.0005557593185338077, 'hs': 21, 'dropout': 0.1093695372177871}. Best is trial 4 with value: 0.0028803733459704943.\n"
     ]
    },
    {
     "name": "stdout",
     "output_type": "stream",
     "text": [
      "\u001b[1m7/7\u001b[0m \u001b[32m━━━━━━━━━━━━━━━━━━━━\u001b[0m\u001b[37m\u001b[0m \u001b[1m0s\u001b[0m 21ms/step\n",
      "\u001b[1m7/7\u001b[0m \u001b[32m━━━━━━━━━━━━━━━━━━━━\u001b[0m\u001b[37m\u001b[0m \u001b[1m0s\u001b[0m 23ms/step\n",
      "\u001b[1m7/7\u001b[0m \u001b[32m━━━━━━━━━━━━━━━━━━━━\u001b[0m\u001b[37m\u001b[0m \u001b[1m0s\u001b[0m 21ms/step\n"
     ]
    },
    {
     "name": "stderr",
     "output_type": "stream",
     "text": [
      "[I 2025-08-23 01:48:30,805] Trial 7 finished with value: 0.003922756308685229 and parameters: {'lr': 0.00741485652569045, 'hs': 18, 'dropout': 0.14995382896849035}. Best is trial 4 with value: 0.0028803733459704943.\n"
     ]
    },
    {
     "name": "stdout",
     "output_type": "stream",
     "text": [
      "\u001b[1m7/7\u001b[0m \u001b[32m━━━━━━━━━━━━━━━━━━━━\u001b[0m\u001b[37m\u001b[0m \u001b[1m0s\u001b[0m 21ms/step\n",
      "\u001b[1m7/7\u001b[0m \u001b[32m━━━━━━━━━━━━━━━━━━━━\u001b[0m\u001b[37m\u001b[0m \u001b[1m0s\u001b[0m 21ms/step\n",
      "\u001b[1m7/7\u001b[0m \u001b[32m━━━━━━━━━━━━━━━━━━━━\u001b[0m\u001b[37m\u001b[0m \u001b[1m0s\u001b[0m 21ms/step\n"
     ]
    },
    {
     "name": "stderr",
     "output_type": "stream",
     "text": [
      "[I 2025-08-23 01:50:14,910] Trial 8 finished with value: 0.00313246176425376 and parameters: {'lr': 0.003185825771476618, 'hs': 28, 'dropout': 0.12635046350405726}. Best is trial 4 with value: 0.0028803733459704943.\n"
     ]
    },
    {
     "name": "stdout",
     "output_type": "stream",
     "text": [
      "\u001b[1m7/7\u001b[0m \u001b[32m━━━━━━━━━━━━━━━━━━━━\u001b[0m\u001b[37m\u001b[0m \u001b[1m0s\u001b[0m 21ms/step\n",
      "\u001b[1m7/7\u001b[0m \u001b[32m━━━━━━━━━━━━━━━━━━━━\u001b[0m\u001b[37m\u001b[0m \u001b[1m0s\u001b[0m 21ms/step\n",
      "\u001b[1m7/7\u001b[0m \u001b[32m━━━━━━━━━━━━━━━━━━━━\u001b[0m\u001b[37m\u001b[0m \u001b[1m0s\u001b[0m 21ms/step\n"
     ]
    },
    {
     "name": "stderr",
     "output_type": "stream",
     "text": [
      "[I 2025-08-23 01:51:55,628] Trial 9 finished with value: 0.0034962213726408703 and parameters: {'lr': 0.002867040712687, 'hs': 12, 'dropout': 0.1414753785474604}. Best is trial 4 with value: 0.0028803733459704943.\n"
     ]
    },
    {
     "name": "stdout",
     "output_type": "stream",
     "text": [
      "\u001b[1m7/7\u001b[0m \u001b[32m━━━━━━━━━━━━━━━━━━━━\u001b[0m\u001b[37m\u001b[0m \u001b[1m0s\u001b[0m 21ms/step\n",
      "\u001b[1m7/7\u001b[0m \u001b[32m━━━━━━━━━━━━━━━━━━━━\u001b[0m\u001b[37m\u001b[0m \u001b[1m0s\u001b[0m 22ms/step\n",
      "\u001b[1m7/7\u001b[0m \u001b[32m━━━━━━━━━━━━━━━━━━━━\u001b[0m\u001b[37m\u001b[0m \u001b[1m0s\u001b[0m 21ms/step\n"
     ]
    },
    {
     "name": "stderr",
     "output_type": "stream",
     "text": [
      "[I 2025-08-23 01:53:38,462] Trial 10 finished with value: 0.0026996922440768946 and parameters: {'lr': 0.009656550670523362, 'hs': 2, 'dropout': 0.053153100998522024}. Best is trial 10 with value: 0.0026996922440768946.\n"
     ]
    },
    {
     "name": "stdout",
     "output_type": "stream",
     "text": [
      "\u001b[1m7/7\u001b[0m \u001b[32m━━━━━━━━━━━━━━━━━━━━\u001b[0m\u001b[37m\u001b[0m \u001b[1m0s\u001b[0m 20ms/step\n",
      "\u001b[1m7/7\u001b[0m \u001b[32m━━━━━━━━━━━━━━━━━━━━\u001b[0m\u001b[37m\u001b[0m \u001b[1m0s\u001b[0m 21ms/step\n",
      "\u001b[1m7/7\u001b[0m \u001b[32m━━━━━━━━━━━━━━━━━━━━\u001b[0m\u001b[37m\u001b[0m \u001b[1m0s\u001b[0m 21ms/step\n"
     ]
    },
    {
     "name": "stderr",
     "output_type": "stream",
     "text": [
      "[I 2025-08-23 01:55:19,637] Trial 11 finished with value: 0.0030898630846630287 and parameters: {'lr': 0.009610988711718574, 'hs': 2, 'dropout': 0.054516334426083966}. Best is trial 10 with value: 0.0026996922440768946.\n"
     ]
    },
    {
     "name": "stdout",
     "output_type": "stream",
     "text": [
      "\u001b[1m7/7\u001b[0m \u001b[32m━━━━━━━━━━━━━━━━━━━━\u001b[0m\u001b[37m\u001b[0m \u001b[1m0s\u001b[0m 21ms/step\n",
      "\u001b[1m7/7\u001b[0m \u001b[32m━━━━━━━━━━━━━━━━━━━━\u001b[0m\u001b[37m\u001b[0m \u001b[1m0s\u001b[0m 21ms/step\n",
      "\u001b[1m7/7\u001b[0m \u001b[32m━━━━━━━━━━━━━━━━━━━━\u001b[0m\u001b[37m\u001b[0m \u001b[1m0s\u001b[0m 21ms/step\n"
     ]
    },
    {
     "name": "stderr",
     "output_type": "stream",
     "text": [
      "[I 2025-08-23 01:57:00,802] Trial 12 finished with value: 0.002683137013098816 and parameters: {'lr': 0.009959164576252755, 'hs': 3, 'dropout': 0.05324362823328643}. Best is trial 12 with value: 0.002683137013098816.\n"
     ]
    },
    {
     "name": "stdout",
     "output_type": "stream",
     "text": [
      "\u001b[1m7/7\u001b[0m \u001b[32m━━━━━━━━━━━━━━━━━━━━\u001b[0m\u001b[37m\u001b[0m \u001b[1m0s\u001b[0m 21ms/step\n",
      "\u001b[1m7/7\u001b[0m \u001b[32m━━━━━━━━━━━━━━━━━━━━\u001b[0m\u001b[37m\u001b[0m \u001b[1m0s\u001b[0m 22ms/step\n",
      "\u001b[1m7/7\u001b[0m \u001b[32m━━━━━━━━━━━━━━━━━━━━\u001b[0m\u001b[37m\u001b[0m \u001b[1m0s\u001b[0m 21ms/step\n"
     ]
    },
    {
     "name": "stderr",
     "output_type": "stream",
     "text": [
      "[I 2025-08-23 01:58:42,689] Trial 13 finished with value: 0.0038661446017320814 and parameters: {'lr': 0.009882598194395239, 'hs': 2, 'dropout': 0.05274145440175414}. Best is trial 12 with value: 0.002683137013098816.\n"
     ]
    },
    {
     "name": "stdout",
     "output_type": "stream",
     "text": [
      "\u001b[1m7/7\u001b[0m \u001b[32m━━━━━━━━━━━━━━━━━━━━\u001b[0m\u001b[37m\u001b[0m \u001b[1m0s\u001b[0m 21ms/step\n",
      "\u001b[1m7/7\u001b[0m \u001b[32m━━━━━━━━━━━━━━━━━━━━\u001b[0m\u001b[37m\u001b[0m \u001b[1m0s\u001b[0m 20ms/step\n",
      "\u001b[1m7/7\u001b[0m \u001b[32m━━━━━━━━━━━━━━━━━━━━\u001b[0m\u001b[37m\u001b[0m \u001b[1m0s\u001b[0m 21ms/step\n"
     ]
    },
    {
     "name": "stderr",
     "output_type": "stream",
     "text": [
      "[I 2025-08-23 02:00:22,726] Trial 14 finished with value: 0.0027691844052366264 and parameters: {'lr': 0.008685925308028492, 'hs': 6, 'dropout': 0.08186735217970376}. Best is trial 12 with value: 0.002683137013098816.\n"
     ]
    },
    {
     "name": "stdout",
     "output_type": "stream",
     "text": [
      "\u001b[1m7/7\u001b[0m \u001b[32m━━━━━━━━━━━━━━━━━━━━\u001b[0m\u001b[37m\u001b[0m \u001b[1m0s\u001b[0m 21ms/step\n",
      "\u001b[1m7/7\u001b[0m \u001b[32m━━━━━━━━━━━━━━━━━━━━\u001b[0m\u001b[37m\u001b[0m \u001b[1m0s\u001b[0m 21ms/step\n",
      "\u001b[1m7/7\u001b[0m \u001b[32m━━━━━━━━━━━━━━━━━━━━\u001b[0m\u001b[37m\u001b[0m \u001b[1m0s\u001b[0m 21ms/step\n"
     ]
    },
    {
     "name": "stderr",
     "output_type": "stream",
     "text": [
      "[I 2025-08-23 02:02:03,272] Trial 15 finished with value: 0.0031499299915309395 and parameters: {'lr': 0.008393221737165798, 'hs': 6, 'dropout': 0.06672351908797494}. Best is trial 12 with value: 0.002683137013098816.\n"
     ]
    },
    {
     "name": "stdout",
     "output_type": "stream",
     "text": [
      "\u001b[1m7/7\u001b[0m \u001b[32m━━━━━━━━━━━━━━━━━━━━\u001b[0m\u001b[37m\u001b[0m \u001b[1m0s\u001b[0m 21ms/step\n",
      "\u001b[1m7/7\u001b[0m \u001b[32m━━━━━━━━━━━━━━━━━━━━\u001b[0m\u001b[37m\u001b[0m \u001b[1m0s\u001b[0m 21ms/step\n",
      "\u001b[1m7/7\u001b[0m \u001b[32m━━━━━━━━━━━━━━━━━━━━\u001b[0m\u001b[37m\u001b[0m \u001b[1m0s\u001b[0m 22ms/step\n"
     ]
    },
    {
     "name": "stderr",
     "output_type": "stream",
     "text": [
      "[I 2025-08-23 02:03:48,928] Trial 16 finished with value: 0.003658325146440608 and parameters: {'lr': 0.008382445606465293, 'hs': 6, 'dropout': 0.09827371646986394}. Best is trial 12 with value: 0.002683137013098816.\n"
     ]
    },
    {
     "name": "stdout",
     "output_type": "stream",
     "text": [
      "\u001b[1m7/7\u001b[0m \u001b[32m━━━━━━━━━━━━━━━━━━━━\u001b[0m\u001b[37m\u001b[0m \u001b[1m0s\u001b[0m 22ms/step\n",
      "\u001b[1m7/7\u001b[0m \u001b[32m━━━━━━━━━━━━━━━━━━━━\u001b[0m\u001b[37m\u001b[0m \u001b[1m0s\u001b[0m 21ms/step\n",
      "\u001b[1m7/7\u001b[0m \u001b[32m━━━━━━━━━━━━━━━━━━━━\u001b[0m\u001b[37m\u001b[0m \u001b[1m0s\u001b[0m 21ms/step\n"
     ]
    },
    {
     "name": "stderr",
     "output_type": "stream",
     "text": [
      "[I 2025-08-23 02:05:35,172] Trial 17 finished with value: 0.003187659056664903 and parameters: {'lr': 0.009964456188229474, 'hs': 32, 'dropout': 0.19759933271296595}. Best is trial 12 with value: 0.002683137013098816.\n"
     ]
    },
    {
     "name": "stdout",
     "output_type": "stream",
     "text": [
      "\u001b[1m7/7\u001b[0m \u001b[32m━━━━━━━━━━━━━━━━━━━━\u001b[0m\u001b[37m\u001b[0m \u001b[1m0s\u001b[0m 21ms/step\n",
      "\u001b[1m7/7\u001b[0m \u001b[32m━━━━━━━━━━━━━━━━━━━━\u001b[0m\u001b[37m\u001b[0m \u001b[1m0s\u001b[0m 21ms/step\n",
      "\u001b[1m7/7\u001b[0m \u001b[32m━━━━━━━━━━━━━━━━━━━━\u001b[0m\u001b[37m\u001b[0m \u001b[1m0s\u001b[0m 21ms/step\n"
     ]
    },
    {
     "name": "stderr",
     "output_type": "stream",
     "text": [
      "[I 2025-08-23 02:07:16,754] Trial 18 finished with value: 0.0033371340844390667 and parameters: {'lr': 0.005463071601425636, 'hs': 8, 'dropout': 0.09129137704597239}. Best is trial 12 with value: 0.002683137013098816.\n"
     ]
    },
    {
     "name": "stdout",
     "output_type": "stream",
     "text": [
      "\u001b[1m7/7\u001b[0m \u001b[32m━━━━━━━━━━━━━━━━━━━━\u001b[0m\u001b[37m\u001b[0m \u001b[1m0s\u001b[0m 21ms/step\n",
      "\u001b[1m7/7\u001b[0m \u001b[32m━━━━━━━━━━━━━━━━━━━━\u001b[0m\u001b[37m\u001b[0m \u001b[1m0s\u001b[0m 21ms/step\n",
      "\u001b[1m7/7\u001b[0m \u001b[32m━━━━━━━━━━━━━━━━━━━━\u001b[0m\u001b[37m\u001b[0m \u001b[1m0s\u001b[0m 21ms/step\n"
     ]
    },
    {
     "name": "stderr",
     "output_type": "stream",
     "text": [
      "[I 2025-08-23 02:08:57,836] Trial 19 finished with value: 0.017305093631628604 and parameters: {'lr': 0.0012765088237117802, 'hs': 2, 'dropout': 0.06081824816842985}. Best is trial 12 with value: 0.002683137013098816.\n"
     ]
    },
    {
     "name": "stdout",
     "output_type": "stream",
     "text": [
      "\u001b[1m7/7\u001b[0m \u001b[32m━━━━━━━━━━━━━━━━━━━━\u001b[0m\u001b[37m\u001b[0m \u001b[1m0s\u001b[0m 21ms/step\n",
      "\u001b[1m7/7\u001b[0m \u001b[32m━━━━━━━━━━━━━━━━━━━━\u001b[0m\u001b[37m\u001b[0m \u001b[1m0s\u001b[0m 21ms/step\n",
      "\u001b[1m7/7\u001b[0m \u001b[32m━━━━━━━━━━━━━━━━━━━━\u001b[0m\u001b[37m\u001b[0m \u001b[1m0s\u001b[0m 20ms/step\n"
     ]
    },
    {
     "name": "stderr",
     "output_type": "stream",
     "text": [
      "[I 2025-08-23 02:10:38,057] Trial 20 finished with value: 0.0029419211770008707 and parameters: {'lr': 0.007967329457605081, 'hs': 4, 'dropout': 0.06855320567409201}. Best is trial 12 with value: 0.002683137013098816.\n"
     ]
    },
    {
     "name": "stdout",
     "output_type": "stream",
     "text": [
      "\u001b[1m7/7\u001b[0m \u001b[32m━━━━━━━━━━━━━━━━━━━━\u001b[0m\u001b[37m\u001b[0m \u001b[1m0s\u001b[0m 21ms/step\n",
      "\u001b[1m7/7\u001b[0m \u001b[32m━━━━━━━━━━━━━━━━━━━━\u001b[0m\u001b[37m\u001b[0m \u001b[1m0s\u001b[0m 21ms/step\n",
      "\u001b[1m7/7\u001b[0m \u001b[32m━━━━━━━━━━━━━━━━━━━━\u001b[0m\u001b[37m\u001b[0m \u001b[1m0s\u001b[0m 21ms/step\n"
     ]
    },
    {
     "name": "stderr",
     "output_type": "stream",
     "text": [
      "[I 2025-08-23 02:12:21,906] Trial 21 finished with value: 0.002925187209491753 and parameters: {'lr': 0.00891533576430345, 'hs': 6, 'dropout': 0.08398895167968101}. Best is trial 12 with value: 0.002683137013098816.\n"
     ]
    },
    {
     "name": "stdout",
     "output_type": "stream",
     "text": [
      "\u001b[1m7/7\u001b[0m \u001b[32m━━━━━━━━━━━━━━━━━━━━\u001b[0m\u001b[37m\u001b[0m \u001b[1m0s\u001b[0m 21ms/step\n",
      "\u001b[1m7/7\u001b[0m \u001b[32m━━━━━━━━━━━━━━━━━━━━\u001b[0m\u001b[37m\u001b[0m \u001b[1m0s\u001b[0m 21ms/step\n",
      "\u001b[1m7/7\u001b[0m \u001b[32m━━━━━━━━━━━━━━━━━━━━\u001b[0m\u001b[37m\u001b[0m \u001b[1m0s\u001b[0m 21ms/step\n"
     ]
    },
    {
     "name": "stderr",
     "output_type": "stream",
     "text": [
      "[I 2025-08-23 02:14:03,179] Trial 22 finished with value: 0.0028734666244764977 and parameters: {'lr': 0.009012123406410895, 'hs': 5, 'dropout': 0.07194796698912093}. Best is trial 12 with value: 0.002683137013098816.\n"
     ]
    },
    {
     "name": "stdout",
     "output_type": "stream",
     "text": [
      "\u001b[1m7/7\u001b[0m \u001b[32m━━━━━━━━━━━━━━━━━━━━\u001b[0m\u001b[37m\u001b[0m \u001b[1m0s\u001b[0m 21ms/step\n",
      "\u001b[1m7/7\u001b[0m \u001b[32m━━━━━━━━━━━━━━━━━━━━\u001b[0m\u001b[37m\u001b[0m \u001b[1m0s\u001b[0m 21ms/step\n",
      "\u001b[1m7/7\u001b[0m \u001b[32m━━━━━━━━━━━━━━━━━━━━\u001b[0m\u001b[37m\u001b[0m \u001b[1m0s\u001b[0m 21ms/step\n"
     ]
    },
    {
     "name": "stderr",
     "output_type": "stream",
     "text": [
      "[I 2025-08-23 02:15:43,907] Trial 23 finished with value: 0.004062677196421512 and parameters: {'lr': 0.009072699433034969, 'hs': 9, 'dropout': 0.06009051538516512}. Best is trial 12 with value: 0.002683137013098816.\n"
     ]
    },
    {
     "name": "stdout",
     "output_type": "stream",
     "text": [
      "\u001b[1m7/7\u001b[0m \u001b[32m━━━━━━━━━━━━━━━━━━━━\u001b[0m\u001b[37m\u001b[0m \u001b[1m0s\u001b[0m 21ms/step\n",
      "\u001b[1m7/7\u001b[0m \u001b[32m━━━━━━━━━━━━━━━━━━━━\u001b[0m\u001b[37m\u001b[0m \u001b[1m0s\u001b[0m 21ms/step\n",
      "\u001b[1m7/7\u001b[0m \u001b[32m━━━━━━━━━━━━━━━━━━━━\u001b[0m\u001b[37m\u001b[0m \u001b[1m0s\u001b[0m 20ms/step\n"
     ]
    },
    {
     "name": "stderr",
     "output_type": "stream",
     "text": [
      "[I 2025-08-23 02:17:24,393] Trial 24 finished with value: 0.0034713181953152004 and parameters: {'lr': 0.007827977706967434, 'hs': 4, 'dropout': 0.09530910511619717}. Best is trial 12 with value: 0.002683137013098816.\n"
     ]
    },
    {
     "name": "stdout",
     "output_type": "stream",
     "text": [
      "\u001b[1m7/7\u001b[0m \u001b[32m━━━━━━━━━━━━━━━━━━━━\u001b[0m\u001b[37m\u001b[0m \u001b[1m0s\u001b[0m 20ms/step\n",
      "\u001b[1m7/7\u001b[0m \u001b[32m━━━━━━━━━━━━━━━━━━━━\u001b[0m\u001b[37m\u001b[0m \u001b[1m0s\u001b[0m 21ms/step\n",
      "\u001b[1m7/7\u001b[0m \u001b[32m━━━━━━━━━━━━━━━━━━━━\u001b[0m\u001b[37m\u001b[0m \u001b[1m0s\u001b[0m 22ms/step\n"
     ]
    },
    {
     "name": "stderr",
     "output_type": "stream",
     "text": [
      "[I 2025-08-23 02:19:10,833] Trial 25 finished with value: 0.0027088245429637598 and parameters: {'lr': 0.006305987947355924, 'hs': 8, 'dropout': 0.05024340279194779}. Best is trial 12 with value: 0.002683137013098816.\n"
     ]
    },
    {
     "name": "stdout",
     "output_type": "stream",
     "text": [
      "\u001b[1m7/7\u001b[0m \u001b[32m━━━━━━━━━━━━━━━━━━━━\u001b[0m\u001b[37m\u001b[0m \u001b[1m0s\u001b[0m 21ms/step\n",
      "\u001b[1m7/7\u001b[0m \u001b[32m━━━━━━━━━━━━━━━━━━━━\u001b[0m\u001b[37m\u001b[0m \u001b[1m0s\u001b[0m 21ms/step\n",
      "\u001b[1m7/7\u001b[0m \u001b[32m━━━━━━━━━━━━━━━━━━━━\u001b[0m\u001b[37m\u001b[0m \u001b[1m0s\u001b[0m 21ms/step\n"
     ]
    },
    {
     "name": "stderr",
     "output_type": "stream",
     "text": [
      "[I 2025-08-23 02:20:54,307] Trial 26 finished with value: 0.0027583335891912266 and parameters: {'lr': 0.005921083606996993, 'hs': 8, 'dropout': 0.05667734373476391}. Best is trial 12 with value: 0.002683137013098816.\n"
     ]
    },
    {
     "name": "stdout",
     "output_type": "stream",
     "text": [
      "\u001b[1m7/7\u001b[0m \u001b[32m━━━━━━━━━━━━━━━━━━━━\u001b[0m\u001b[37m\u001b[0m \u001b[1m0s\u001b[0m 20ms/step\n",
      "\u001b[1m7/7\u001b[0m \u001b[32m━━━━━━━━━━━━━━━━━━━━\u001b[0m\u001b[37m\u001b[0m \u001b[1m0s\u001b[0m 21ms/step\n",
      "\u001b[1m7/7\u001b[0m \u001b[32m━━━━━━━━━━━━━━━━━━━━\u001b[0m\u001b[37m\u001b[0m \u001b[1m0s\u001b[0m 20ms/step\n"
     ]
    },
    {
     "name": "stderr",
     "output_type": "stream",
     "text": [
      "[I 2025-08-23 02:22:35,241] Trial 27 finished with value: 0.0031797470655230095 and parameters: {'lr': 0.006696645725595595, 'hs': 2, 'dropout': 0.0501642025010307}. Best is trial 12 with value: 0.002683137013098816.\n"
     ]
    },
    {
     "name": "stdout",
     "output_type": "stream",
     "text": [
      "\u001b[1m7/7\u001b[0m \u001b[32m━━━━━━━━━━━━━━━━━━━━\u001b[0m\u001b[37m\u001b[0m \u001b[1m0s\u001b[0m 20ms/step\n",
      "\u001b[1m7/7\u001b[0m \u001b[32m━━━━━━━━━━━━━━━━━━━━\u001b[0m\u001b[37m\u001b[0m \u001b[1m0s\u001b[0m 20ms/step\n",
      "\u001b[1m7/7\u001b[0m \u001b[32m━━━━━━━━━━━━━━━━━━━━\u001b[0m\u001b[37m\u001b[0m \u001b[1m0s\u001b[0m 20ms/step\n"
     ]
    },
    {
     "name": "stderr",
     "output_type": "stream",
     "text": [
      "[I 2025-08-23 02:24:16,870] Trial 28 finished with value: 0.0036925869279478825 and parameters: {'lr': 0.00170379275571794, 'hs': 13, 'dropout': 0.07120129642205802}. Best is trial 12 with value: 0.002683137013098816.\n"
     ]
    },
    {
     "name": "stdout",
     "output_type": "stream",
     "text": [
      "\u001b[1m7/7\u001b[0m \u001b[32m━━━━━━━━━━━━━━━━━━━━\u001b[0m\u001b[37m\u001b[0m \u001b[1m0s\u001b[0m 20ms/step\n",
      "\u001b[1m7/7\u001b[0m \u001b[32m━━━━━━━━━━━━━━━━━━━━\u001b[0m\u001b[37m\u001b[0m \u001b[1m0s\u001b[0m 20ms/step\n",
      "\u001b[1m7/7\u001b[0m \u001b[32m━━━━━━━━━━━━━━━━━━━━\u001b[0m\u001b[37m\u001b[0m \u001b[1m0s\u001b[0m 20ms/step\n"
     ]
    },
    {
     "name": "stderr",
     "output_type": "stream",
     "text": [
      "[I 2025-08-23 02:25:58,884] Trial 29 finished with value: 0.0032143576100236286 and parameters: {'lr': 0.004867393527351366, 'hs': 15, 'dropout': 0.050231604575455155}. Best is trial 12 with value: 0.002683137013098816.\n"
     ]
    },
    {
     "name": "stdout",
     "output_type": "stream",
     "text": [
      "\u001b[1m7/7\u001b[0m \u001b[32m━━━━━━━━━━━━━━━━━━━━\u001b[0m\u001b[37m\u001b[0m \u001b[1m0s\u001b[0m 20ms/step\n",
      "\u001b[1m7/7\u001b[0m \u001b[32m━━━━━━━━━━━━━━━━━━━━\u001b[0m\u001b[37m\u001b[0m \u001b[1m0s\u001b[0m 20ms/step\n",
      "\u001b[1m7/7\u001b[0m \u001b[32m━━━━━━━━━━━━━━━━━━━━\u001b[0m\u001b[37m\u001b[0m \u001b[1m0s\u001b[0m 20ms/step\n"
     ]
    },
    {
     "name": "stderr",
     "output_type": "stream",
     "text": [
      "[I 2025-08-23 02:27:40,609] Trial 30 finished with value: 0.002366750230067776 and parameters: {'lr': 0.009277888785614046, 'hs': 18, 'dropout': 0.07581532850137189}. Best is trial 30 with value: 0.002366750230067776.\n"
     ]
    },
    {
     "name": "stdout",
     "output_type": "stream",
     "text": [
      "\u001b[1m7/7\u001b[0m \u001b[32m━━━━━━━━━━━━━━━━━━━━\u001b[0m\u001b[37m\u001b[0m \u001b[1m0s\u001b[0m 21ms/step\n",
      "\u001b[1m7/7\u001b[0m \u001b[32m━━━━━━━━━━━━━━━━━━━━\u001b[0m\u001b[37m\u001b[0m \u001b[1m0s\u001b[0m 20ms/step\n",
      "\u001b[1m7/7\u001b[0m \u001b[32m━━━━━━━━━━━━━━━━━━━━\u001b[0m\u001b[37m\u001b[0m \u001b[1m0s\u001b[0m 21ms/step\n"
     ]
    },
    {
     "name": "stderr",
     "output_type": "stream",
     "text": [
      "[I 2025-08-23 02:29:25,460] Trial 31 finished with value: 0.00316173758657236 and parameters: {'lr': 0.009437791162515372, 'hs': 19, 'dropout': 0.06468898454105053}. Best is trial 30 with value: 0.002366750230067776.\n"
     ]
    },
    {
     "name": "stdout",
     "output_type": "stream",
     "text": [
      "\u001b[1m7/7\u001b[0m \u001b[32m━━━━━━━━━━━━━━━━━━━━\u001b[0m\u001b[37m\u001b[0m \u001b[1m0s\u001b[0m 22ms/step\n",
      "\u001b[1m7/7\u001b[0m \u001b[32m━━━━━━━━━━━━━━━━━━━━\u001b[0m\u001b[37m\u001b[0m \u001b[1m0s\u001b[0m 21ms/step\n",
      "\u001b[1m7/7\u001b[0m \u001b[32m━━━━━━━━━━━━━━━━━━━━\u001b[0m\u001b[37m\u001b[0m \u001b[1m0s\u001b[0m 21ms/step\n"
     ]
    },
    {
     "name": "stderr",
     "output_type": "stream",
     "text": [
      "[I 2025-08-23 02:31:10,841] Trial 32 finished with value: 0.003300554441102847 and parameters: {'lr': 0.008085291900507337, 'hs': 23, 'dropout': 0.07575980751293561}. Best is trial 30 with value: 0.002366750230067776.\n"
     ]
    },
    {
     "name": "stdout",
     "output_type": "stream",
     "text": [
      "\u001b[1m7/7\u001b[0m \u001b[32m━━━━━━━━━━━━━━━━━━━━\u001b[0m\u001b[37m\u001b[0m \u001b[1m0s\u001b[0m 21ms/step\n",
      "\u001b[1m7/7\u001b[0m \u001b[32m━━━━━━━━━━━━━━━━━━━━\u001b[0m\u001b[37m\u001b[0m \u001b[1m0s\u001b[0m 20ms/step\n",
      "\u001b[1m7/7\u001b[0m \u001b[32m━━━━━━━━━━━━━━━━━━━━\u001b[0m\u001b[37m\u001b[0m \u001b[1m0s\u001b[0m 21ms/step\n"
     ]
    },
    {
     "name": "stderr",
     "output_type": "stream",
     "text": [
      "[I 2025-08-23 02:32:53,051] Trial 33 finished with value: 0.002805412753053197 and parameters: {'lr': 0.007410314234475517, 'hs': 15, 'dropout': 0.08781538429972993}. Best is trial 30 with value: 0.002366750230067776.\n"
     ]
    },
    {
     "name": "stdout",
     "output_type": "stream",
     "text": [
      "\u001b[1m7/7\u001b[0m \u001b[32m━━━━━━━━━━━━━━━━━━━━\u001b[0m\u001b[37m\u001b[0m \u001b[1m0s\u001b[0m 20ms/step\n",
      "\u001b[1m7/7\u001b[0m \u001b[32m━━━━━━━━━━━━━━━━━━━━\u001b[0m\u001b[37m\u001b[0m \u001b[1m0s\u001b[0m 20ms/step\n",
      "\u001b[1m7/7\u001b[0m \u001b[32m━━━━━━━━━━━━━━━━━━━━\u001b[0m\u001b[37m\u001b[0m \u001b[1m0s\u001b[0m 20ms/step\n"
     ]
    },
    {
     "name": "stderr",
     "output_type": "stream",
     "text": [
      "[I 2025-08-23 02:34:35,312] Trial 34 finished with value: 0.002433236578767569 and parameters: {'lr': 0.009274461265580708, 'hs': 20, 'dropout': 0.06240959687109613}. Best is trial 30 with value: 0.002366750230067776.\n"
     ]
    },
    {
     "name": "stdout",
     "output_type": "stream",
     "text": [
      "\u001b[1m7/7\u001b[0m \u001b[32m━━━━━━━━━━━━━━━━━━━━\u001b[0m\u001b[37m\u001b[0m \u001b[1m0s\u001b[0m 21ms/step\n",
      "\u001b[1m7/7\u001b[0m \u001b[32m━━━━━━━━━━━━━━━━━━━━\u001b[0m\u001b[37m\u001b[0m \u001b[1m0s\u001b[0m 21ms/step\n",
      "\u001b[1m7/7\u001b[0m \u001b[32m━━━━━━━━━━━━━━━━━━━━\u001b[0m\u001b[37m\u001b[0m \u001b[1m0s\u001b[0m 20ms/step\n"
     ]
    },
    {
     "name": "stderr",
     "output_type": "stream",
     "text": [
      "[I 2025-08-23 02:36:17,552] Trial 35 finished with value: 0.0030481332468648907 and parameters: {'lr': 0.009353245890007375, 'hs': 21, 'dropout': 0.1698456056749061}. Best is trial 30 with value: 0.002366750230067776.\n"
     ]
    },
    {
     "name": "stdout",
     "output_type": "stream",
     "text": [
      "\u001b[1m7/7\u001b[0m \u001b[32m━━━━━━━━━━━━━━━━━━━━\u001b[0m\u001b[37m\u001b[0m \u001b[1m0s\u001b[0m 20ms/step\n",
      "\u001b[1m7/7\u001b[0m \u001b[32m━━━━━━━━━━━━━━━━━━━━\u001b[0m\u001b[37m\u001b[0m \u001b[1m0s\u001b[0m 20ms/step\n",
      "\u001b[1m7/7\u001b[0m \u001b[32m━━━━━━━━━━━━━━━━━━━━\u001b[0m\u001b[37m\u001b[0m \u001b[1m0s\u001b[0m 21ms/step\n"
     ]
    },
    {
     "name": "stderr",
     "output_type": "stream",
     "text": [
      "[I 2025-08-23 02:38:00,605] Trial 36 finished with value: 0.0035131173066276643 and parameters: {'lr': 0.009891378294638086, 'hs': 25, 'dropout': 0.10228471901342917}. Best is trial 30 with value: 0.002366750230067776.\n"
     ]
    },
    {
     "name": "stdout",
     "output_type": "stream",
     "text": [
      "\u001b[1m7/7\u001b[0m \u001b[32m━━━━━━━━━━━━━━━━━━━━\u001b[0m\u001b[37m\u001b[0m \u001b[1m0s\u001b[0m 20ms/step\n",
      "\u001b[1m7/7\u001b[0m \u001b[32m━━━━━━━━━━━━━━━━━━━━\u001b[0m\u001b[37m\u001b[0m \u001b[1m0s\u001b[0m 21ms/step\n",
      "\u001b[1m7/7\u001b[0m \u001b[32m━━━━━━━━━━━━━━━━━━━━\u001b[0m\u001b[37m\u001b[0m \u001b[1m0s\u001b[0m 20ms/step\n"
     ]
    },
    {
     "name": "stderr",
     "output_type": "stream",
     "text": [
      "[I 2025-08-23 02:39:43,295] Trial 37 finished with value: 0.00310981991526397 and parameters: {'lr': 0.008623902196904223, 'hs': 20, 'dropout': 0.07703337557147823}. Best is trial 30 with value: 0.002366750230067776.\n"
     ]
    },
    {
     "name": "stdout",
     "output_type": "stream",
     "text": [
      "\u001b[1m7/7\u001b[0m \u001b[32m━━━━━━━━━━━━━━━━━━━━\u001b[0m\u001b[37m\u001b[0m \u001b[1m0s\u001b[0m 20ms/step\n",
      "\u001b[1m7/7\u001b[0m \u001b[32m━━━━━━━━━━━━━━━━━━━━\u001b[0m\u001b[37m\u001b[0m \u001b[1m0s\u001b[0m 26ms/step\n",
      "\u001b[1m7/7\u001b[0m \u001b[32m━━━━━━━━━━━━━━━━━━━━\u001b[0m\u001b[37m\u001b[0m \u001b[1m0s\u001b[0m 21ms/step\n"
     ]
    },
    {
     "name": "stderr",
     "output_type": "stream",
     "text": [
      "[I 2025-08-23 02:41:28,360] Trial 38 finished with value: 0.0028856122152693107 and parameters: {'lr': 0.00931770473436452, 'hs': 17, 'dropout': 0.062174148308475036}. Best is trial 30 with value: 0.002366750230067776.\n"
     ]
    },
    {
     "name": "stdout",
     "output_type": "stream",
     "text": [
      "\u001b[1m7/7\u001b[0m \u001b[32m━━━━━━━━━━━━━━━━━━━━\u001b[0m\u001b[37m\u001b[0m \u001b[1m0s\u001b[0m 21ms/step\n",
      "\u001b[1m7/7\u001b[0m \u001b[32m━━━━━━━━━━━━━━━━━━━━\u001b[0m\u001b[37m\u001b[0m \u001b[1m0s\u001b[0m 22ms/step\n",
      "\u001b[1m7/7\u001b[0m \u001b[32m━━━━━━━━━━━━━━━━━━━━\u001b[0m\u001b[37m\u001b[0m \u001b[1m0s\u001b[0m 21ms/step\n"
     ]
    },
    {
     "name": "stderr",
     "output_type": "stream",
     "text": [
      "[I 2025-08-23 02:43:14,256] Trial 39 finished with value: 0.0029202177838578785 and parameters: {'lr': 0.007391944336617629, 'hs': 26, 'dropout': 0.12872840682387426}. Best is trial 30 with value: 0.002366750230067776.\n"
     ]
    },
    {
     "name": "stdout",
     "output_type": "stream",
     "text": [
      "\u001b[1m7/7\u001b[0m \u001b[32m━━━━━━━━━━━━━━━━━━━━\u001b[0m\u001b[37m\u001b[0m \u001b[1m0s\u001b[0m 21ms/step\n",
      "\u001b[1m7/7\u001b[0m \u001b[32m━━━━━━━━━━━━━━━━━━━━\u001b[0m\u001b[37m\u001b[0m \u001b[1m0s\u001b[0m 20ms/step\n",
      "\u001b[1m7/7\u001b[0m \u001b[32m━━━━━━━━━━━━━━━━━━━━\u001b[0m\u001b[37m\u001b[0m \u001b[1m0s\u001b[0m 20ms/step\n"
     ]
    },
    {
     "name": "stderr",
     "output_type": "stream",
     "text": [
      "[I 2025-08-23 02:44:56,187] Trial 40 finished with value: 0.0028140308945960786 and parameters: {'lr': 0.007675024555835576, 'hs': 16, 'dropout': 0.11547662447867794}. Best is trial 30 with value: 0.002366750230067776.\n"
     ]
    },
    {
     "name": "stdout",
     "output_type": "stream",
     "text": [
      "\u001b[1m7/7\u001b[0m \u001b[32m━━━━━━━━━━━━━━━━━━━━\u001b[0m\u001b[37m\u001b[0m \u001b[1m0s\u001b[0m 21ms/step\n",
      "\u001b[1m7/7\u001b[0m \u001b[32m━━━━━━━━━━━━━━━━━━━━\u001b[0m\u001b[37m\u001b[0m \u001b[1m0s\u001b[0m 20ms/step\n",
      "\u001b[1m7/7\u001b[0m \u001b[32m━━━━━━━━━━━━━━━━━━━━\u001b[0m\u001b[37m\u001b[0m \u001b[1m0s\u001b[0m 20ms/step\n"
     ]
    },
    {
     "name": "stderr",
     "output_type": "stream",
     "text": [
      "[I 2025-08-23 02:46:39,298] Trial 41 finished with value: 0.003852835062038261 and parameters: {'lr': 0.0038197550254326362, 'hs': 22, 'dropout': 0.06031378932246783}. Best is trial 30 with value: 0.002366750230067776.\n"
     ]
    },
    {
     "name": "stdout",
     "output_type": "stream",
     "text": [
      "\u001b[1m7/7\u001b[0m \u001b[32m━━━━━━━━━━━━━━━━━━━━\u001b[0m\u001b[37m\u001b[0m \u001b[1m0s\u001b[0m 21ms/step\n",
      "\u001b[1m7/7\u001b[0m \u001b[32m━━━━━━━━━━━━━━━━━━━━\u001b[0m\u001b[37m\u001b[0m \u001b[1m0s\u001b[0m 21ms/step\n",
      "\u001b[1m7/7\u001b[0m \u001b[32m━━━━━━━━━━━━━━━━━━━━\u001b[0m\u001b[37m\u001b[0m \u001b[1m0s\u001b[0m 20ms/step\n"
     ]
    },
    {
     "name": "stderr",
     "output_type": "stream",
     "text": [
      "[I 2025-08-23 02:48:20,445] Trial 42 finished with value: 0.003009467499439991 and parameters: {'lr': 0.006460416444552836, 'hs': 13, 'dropout': 0.06864419416351993}. Best is trial 30 with value: 0.002366750230067776.\n"
     ]
    },
    {
     "name": "stdout",
     "output_type": "stream",
     "text": [
      "\u001b[1m7/7\u001b[0m \u001b[32m━━━━━━━━━━━━━━━━━━━━\u001b[0m\u001b[37m\u001b[0m \u001b[1m0s\u001b[0m 20ms/step\n",
      "\u001b[1m7/7\u001b[0m \u001b[32m━━━━━━━━━━━━━━━━━━━━\u001b[0m\u001b[37m\u001b[0m \u001b[1m0s\u001b[0m 20ms/step\n",
      "\u001b[1m7/7\u001b[0m \u001b[32m━━━━━━━━━━━━━━━━━━━━\u001b[0m\u001b[37m\u001b[0m \u001b[1m0s\u001b[0m 20ms/step\n"
     ]
    },
    {
     "name": "stderr",
     "output_type": "stream",
     "text": [
      "[I 2025-08-23 02:50:01,487] Trial 43 finished with value: 0.0029869818111636 and parameters: {'lr': 0.009453463178806295, 'hs': 10, 'dropout': 0.05530483287868311}. Best is trial 30 with value: 0.002366750230067776.\n"
     ]
    },
    {
     "name": "stdout",
     "output_type": "stream",
     "text": [
      "\u001b[1m7/7\u001b[0m \u001b[32m━━━━━━━━━━━━━━━━━━━━\u001b[0m\u001b[37m\u001b[0m \u001b[1m0s\u001b[0m 23ms/step\n",
      "\u001b[1m7/7\u001b[0m \u001b[32m━━━━━━━━━━━━━━━━━━━━\u001b[0m\u001b[37m\u001b[0m \u001b[1m0s\u001b[0m 20ms/step\n",
      "\u001b[1m7/7\u001b[0m \u001b[32m━━━━━━━━━━━━━━━━━━━━\u001b[0m\u001b[37m\u001b[0m \u001b[1m0s\u001b[0m 20ms/step\n"
     ]
    },
    {
     "name": "stderr",
     "output_type": "stream",
     "text": [
      "[I 2025-08-23 02:51:43,271] Trial 44 finished with value: 0.0031842942110083526 and parameters: {'lr': 0.008361095855031272, 'hs': 18, 'dropout': 0.07757098521066384}. Best is trial 30 with value: 0.002366750230067776.\n"
     ]
    },
    {
     "name": "stdout",
     "output_type": "stream",
     "text": [
      "\u001b[1m7/7\u001b[0m \u001b[32m━━━━━━━━━━━━━━━━━━━━\u001b[0m\u001b[37m\u001b[0m \u001b[1m0s\u001b[0m 20ms/step\n",
      "\u001b[1m7/7\u001b[0m \u001b[32m━━━━━━━━━━━━━━━━━━━━\u001b[0m\u001b[37m\u001b[0m \u001b[1m0s\u001b[0m 20ms/step\n",
      "\u001b[1m7/7\u001b[0m \u001b[32m━━━━━━━━━━━━━━━━━━━━\u001b[0m\u001b[37m\u001b[0m \u001b[1m0s\u001b[0m 20ms/step\n"
     ]
    },
    {
     "name": "stderr",
     "output_type": "stream",
     "text": [
      "[I 2025-08-23 02:53:23,159] Trial 45 finished with value: 0.0033035704923804325 and parameters: {'lr': 0.00709722363067272, 'hs': 3, 'dropout': 0.050764520567690145}. Best is trial 30 with value: 0.002366750230067776.\n"
     ]
    },
    {
     "name": "stdout",
     "output_type": "stream",
     "text": [
      "\u001b[1m7/7\u001b[0m \u001b[32m━━━━━━━━━━━━━━━━━━━━\u001b[0m\u001b[37m\u001b[0m \u001b[1m0s\u001b[0m 20ms/step\n",
      "\u001b[1m7/7\u001b[0m \u001b[32m━━━━━━━━━━━━━━━━━━━━\u001b[0m\u001b[37m\u001b[0m \u001b[1m0s\u001b[0m 27ms/step\n",
      "\u001b[1m7/7\u001b[0m \u001b[32m━━━━━━━━━━━━━━━━━━━━\u001b[0m\u001b[37m\u001b[0m \u001b[1m0s\u001b[0m 22ms/step\n"
     ]
    },
    {
     "name": "stderr",
     "output_type": "stream",
     "text": [
      "[I 2025-08-23 02:55:13,707] Trial 46 finished with value: 0.003152597580166733 and parameters: {'lr': 0.009994088901324335, 'hs': 4, 'dropout': 0.06325085168157693}. Best is trial 30 with value: 0.002366750230067776.\n"
     ]
    },
    {
     "name": "stdout",
     "output_type": "stream",
     "text": [
      "\u001b[1m7/7\u001b[0m \u001b[32m━━━━━━━━━━━━━━━━━━━━\u001b[0m\u001b[37m\u001b[0m \u001b[1m0s\u001b[0m 21ms/step\n",
      "\u001b[1m7/7\u001b[0m \u001b[32m━━━━━━━━━━━━━━━━━━━━\u001b[0m\u001b[37m\u001b[0m \u001b[1m0s\u001b[0m 21ms/step\n",
      "\u001b[1m7/7\u001b[0m \u001b[32m━━━━━━━━━━━━━━━━━━━━\u001b[0m\u001b[37m\u001b[0m \u001b[1m0s\u001b[0m 21ms/step\n"
     ]
    },
    {
     "name": "stderr",
     "output_type": "stream",
     "text": [
      "[I 2025-08-23 02:56:57,002] Trial 47 finished with value: 0.003263417387312936 and parameters: {'lr': 0.008906742513286645, 'hs': 7, 'dropout': 0.08282316553604538}. Best is trial 30 with value: 0.002366750230067776.\n"
     ]
    },
    {
     "name": "stdout",
     "output_type": "stream",
     "text": [
      "\u001b[1m7/7\u001b[0m \u001b[32m━━━━━━━━━━━━━━━━━━━━\u001b[0m\u001b[37m\u001b[0m \u001b[1m0s\u001b[0m 21ms/step\n",
      "\u001b[1m7/7\u001b[0m \u001b[32m━━━━━━━━━━━━━━━━━━━━\u001b[0m\u001b[37m\u001b[0m \u001b[1m0s\u001b[0m 20ms/step\n",
      "\u001b[1m7/7\u001b[0m \u001b[32m━━━━━━━━━━━━━━━━━━━━\u001b[0m\u001b[37m\u001b[0m \u001b[1m0s\u001b[0m 20ms/step\n"
     ]
    },
    {
     "name": "stderr",
     "output_type": "stream",
     "text": [
      "[I 2025-08-23 02:58:39,361] Trial 48 finished with value: 0.003762918876579442 and parameters: {'lr': 0.006160120604097364, 'hs': 11, 'dropout': 0.07095907873573995}. Best is trial 30 with value: 0.002366750230067776.\n"
     ]
    },
    {
     "name": "stdout",
     "output_type": "stream",
     "text": [
      "\u001b[1m7/7\u001b[0m \u001b[32m━━━━━━━━━━━━━━━━━━━━\u001b[0m\u001b[37m\u001b[0m \u001b[1m0s\u001b[0m 21ms/step\n",
      "\u001b[1m7/7\u001b[0m \u001b[32m━━━━━━━━━━━━━━━━━━━━\u001b[0m\u001b[37m\u001b[0m \u001b[1m0s\u001b[0m 21ms/step\n",
      "\u001b[1m7/7\u001b[0m \u001b[32m━━━━━━━━━━━━━━━━━━━━\u001b[0m\u001b[37m\u001b[0m \u001b[1m0s\u001b[0m 20ms/step\n"
     ]
    },
    {
     "name": "stderr",
     "output_type": "stream",
     "text": [
      "[I 2025-08-23 03:00:21,434] Trial 49 finished with value: 0.00304209641280985 and parameters: {'lr': 0.0044825893367451495, 'hs': 14, 'dropout': 0.05846800395316108}. Best is trial 30 with value: 0.002366750230067776.\n"
     ]
    },
    {
     "name": "stdout",
     "output_type": "stream",
     "text": [
      "\u001b[1m10/10\u001b[0m \u001b[32m━━━━━━━━━━━━━━━━━━━━\u001b[0m\u001b[37m\u001b[0m \u001b[1m0s\u001b[0m 14ms/step\n"
     ]
    },
    {
     "name": "stderr",
     "output_type": "stream",
     "text": [
      "[I 2025-08-23 03:00:59,612] A new study created in memory with name: no-name-16756a09-7040-4598-a2d8-5369cce77900\n"
     ]
    },
    {
     "name": "stdout",
     "output_type": "stream",
     "text": [
      "('LSTM', 2.004686746705462e+17, 209366070.83469126, 0.7129404552658196)\n",
      "\u001b[1m7/7\u001b[0m \u001b[32m━━━━━━━━━━━━━━━━━━━━\u001b[0m\u001b[37m\u001b[0m \u001b[1m0s\u001b[0m 22ms/step\n",
      "\u001b[1m7/7\u001b[0m \u001b[32m━━━━━━━━━━━━━━━━━━━━\u001b[0m\u001b[37m\u001b[0m \u001b[1m0s\u001b[0m 23ms/step\n",
      "\u001b[1m7/7\u001b[0m \u001b[32m━━━━━━━━━━━━━━━━━━━━\u001b[0m\u001b[37m\u001b[0m \u001b[1m0s\u001b[0m 22ms/step\n"
     ]
    },
    {
     "name": "stderr",
     "output_type": "stream",
     "text": [
      "[I 2025-08-23 03:02:42,504] Trial 0 finished with value: 0.004117946819391254 and parameters: {'lr': 0.008993665390720204, 'hs': 2, 'dropout': 0.1674274693906031}. Best is trial 0 with value: 0.004117946819391254.\n"
     ]
    },
    {
     "name": "stdout",
     "output_type": "stream",
     "text": [
      "\u001b[1m7/7\u001b[0m \u001b[32m━━━━━━━━━━━━━━━━━━━━\u001b[0m\u001b[37m\u001b[0m \u001b[1m0s\u001b[0m 23ms/step\n",
      "\u001b[1m7/7\u001b[0m \u001b[32m━━━━━━━━━━━━━━━━━━━━\u001b[0m\u001b[37m\u001b[0m \u001b[1m0s\u001b[0m 23ms/step\n",
      "\u001b[1m7/7\u001b[0m \u001b[32m━━━━━━━━━━━━━━━━━━━━\u001b[0m\u001b[37m\u001b[0m \u001b[1m0s\u001b[0m 23ms/step\n"
     ]
    },
    {
     "name": "stderr",
     "output_type": "stream",
     "text": [
      "[I 2025-08-23 03:04:28,374] Trial 1 finished with value: 0.0034778911306976488 and parameters: {'lr': 0.009765510244978277, 'hs': 31, 'dropout': 0.17005257094494688}. Best is trial 1 with value: 0.0034778911306976488.\n"
     ]
    },
    {
     "name": "stdout",
     "output_type": "stream",
     "text": [
      "\u001b[1m7/7\u001b[0m \u001b[32m━━━━━━━━━━━━━━━━━━━━\u001b[0m\u001b[37m\u001b[0m \u001b[1m0s\u001b[0m 23ms/step\n",
      "\u001b[1m7/7\u001b[0m \u001b[32m━━━━━━━━━━━━━━━━━━━━\u001b[0m\u001b[37m\u001b[0m \u001b[1m0s\u001b[0m 22ms/step\n",
      "\u001b[1m7/7\u001b[0m \u001b[32m━━━━━━━━━━━━━━━━━━━━\u001b[0m\u001b[37m\u001b[0m \u001b[1m0s\u001b[0m 23ms/step\n"
     ]
    },
    {
     "name": "stderr",
     "output_type": "stream",
     "text": [
      "[I 2025-08-23 03:06:15,209] Trial 2 finished with value: 0.003852291997975887 and parameters: {'lr': 0.0004029088501147607, 'hs': 25, 'dropout': 0.16517859656886735}. Best is trial 1 with value: 0.0034778911306976488.\n"
     ]
    },
    {
     "name": "stdout",
     "output_type": "stream",
     "text": [
      "\u001b[1m7/7\u001b[0m \u001b[32m━━━━━━━━━━━━━━━━━━━━\u001b[0m\u001b[37m\u001b[0m \u001b[1m0s\u001b[0m 23ms/step\n",
      "\u001b[1m7/7\u001b[0m \u001b[32m━━━━━━━━━━━━━━━━━━━━\u001b[0m\u001b[37m\u001b[0m \u001b[1m0s\u001b[0m 22ms/step\n",
      "\u001b[1m7/7\u001b[0m \u001b[32m━━━━━━━━━━━━━━━━━━━━\u001b[0m\u001b[37m\u001b[0m \u001b[1m0s\u001b[0m 22ms/step\n"
     ]
    },
    {
     "name": "stderr",
     "output_type": "stream",
     "text": [
      "[I 2025-08-23 03:07:58,124] Trial 3 finished with value: 0.002592003257189671 and parameters: {'lr': 0.006178423208933401, 'hs': 9, 'dropout': 0.10375620636193218}. Best is trial 3 with value: 0.002592003257189671.\n"
     ]
    },
    {
     "name": "stdout",
     "output_type": "stream",
     "text": [
      "\u001b[1m7/7\u001b[0m \u001b[32m━━━━━━━━━━━━━━━━━━━━\u001b[0m\u001b[37m\u001b[0m \u001b[1m0s\u001b[0m 23ms/step\n",
      "\u001b[1m7/7\u001b[0m \u001b[32m━━━━━━━━━━━━━━━━━━━━\u001b[0m\u001b[37m\u001b[0m \u001b[1m0s\u001b[0m 23ms/step\n",
      "\u001b[1m7/7\u001b[0m \u001b[32m━━━━━━━━━━━━━━━━━━━━\u001b[0m\u001b[37m\u001b[0m \u001b[1m0s\u001b[0m 23ms/step\n"
     ]
    },
    {
     "name": "stderr",
     "output_type": "stream",
     "text": [
      "[I 2025-08-23 03:09:43,097] Trial 4 finished with value: 0.0037035012273082986 and parameters: {'lr': 0.0004490840320001441, 'hs': 21, 'dropout': 0.18229068340455884}. Best is trial 3 with value: 0.002592003257189671.\n"
     ]
    },
    {
     "name": "stdout",
     "output_type": "stream",
     "text": [
      "\u001b[1m7/7\u001b[0m \u001b[32m━━━━━━━━━━━━━━━━━━━━\u001b[0m\u001b[37m\u001b[0m \u001b[1m0s\u001b[0m 24ms/step\n",
      "\u001b[1m7/7\u001b[0m \u001b[32m━━━━━━━━━━━━━━━━━━━━\u001b[0m\u001b[37m\u001b[0m \u001b[1m0s\u001b[0m 24ms/step\n",
      "\u001b[1m7/7\u001b[0m \u001b[32m━━━━━━━━━━━━━━━━━━━━\u001b[0m\u001b[37m\u001b[0m \u001b[1m0s\u001b[0m 23ms/step\n"
     ]
    },
    {
     "name": "stderr",
     "output_type": "stream",
     "text": [
      "[I 2025-08-23 03:11:34,488] Trial 5 finished with value: 0.002687786719466512 and parameters: {'lr': 0.006468821494353144, 'hs': 16, 'dropout': 0.13950643695214462}. Best is trial 3 with value: 0.002592003257189671.\n"
     ]
    },
    {
     "name": "stdout",
     "output_type": "stream",
     "text": [
      "\u001b[1m7/7\u001b[0m \u001b[32m━━━━━━━━━━━━━━━━━━━━\u001b[0m\u001b[37m\u001b[0m \u001b[1m0s\u001b[0m 23ms/step\n",
      "\u001b[1m7/7\u001b[0m \u001b[32m━━━━━━━━━━━━━━━━━━━━\u001b[0m\u001b[37m\u001b[0m \u001b[1m0s\u001b[0m 23ms/step\n",
      "\u001b[1m7/7\u001b[0m \u001b[32m━━━━━━━━━━━━━━━━━━━━\u001b[0m\u001b[37m\u001b[0m \u001b[1m0s\u001b[0m 23ms/step\n"
     ]
    },
    {
     "name": "stderr",
     "output_type": "stream",
     "text": [
      "[I 2025-08-23 03:13:21,397] Trial 6 finished with value: 0.0026060316248839744 and parameters: {'lr': 0.008247952535362304, 'hs': 17, 'dropout': 0.07216402556820584}. Best is trial 3 with value: 0.002592003257189671.\n"
     ]
    },
    {
     "name": "stdout",
     "output_type": "stream",
     "text": [
      "\u001b[1m7/7\u001b[0m \u001b[32m━━━━━━━━━━━━━━━━━━━━\u001b[0m\u001b[37m\u001b[0m \u001b[1m0s\u001b[0m 23ms/step\n",
      "\u001b[1m7/7\u001b[0m \u001b[32m━━━━━━━━━━━━━━━━━━━━\u001b[0m\u001b[37m\u001b[0m \u001b[1m0s\u001b[0m 23ms/step\n",
      "\u001b[1m7/7\u001b[0m \u001b[32m━━━━━━━━━━━━━━━━━━━━\u001b[0m\u001b[37m\u001b[0m \u001b[1m0s\u001b[0m 23ms/step\n"
     ]
    },
    {
     "name": "stderr",
     "output_type": "stream",
     "text": [
      "[I 2025-08-23 03:15:09,785] Trial 7 finished with value: 0.002756925619203073 and parameters: {'lr': 0.0005244704073927885, 'hs': 30, 'dropout': 0.05456904296004411}. Best is trial 3 with value: 0.002592003257189671.\n"
     ]
    },
    {
     "name": "stdout",
     "output_type": "stream",
     "text": [
      "\u001b[1m7/7\u001b[0m \u001b[32m━━━━━━━━━━━━━━━━━━━━\u001b[0m\u001b[37m\u001b[0m \u001b[1m0s\u001b[0m 23ms/step\n",
      "\u001b[1m7/7\u001b[0m \u001b[32m━━━━━━━━━━━━━━━━━━━━\u001b[0m\u001b[37m\u001b[0m \u001b[1m0s\u001b[0m 22ms/step\n",
      "\u001b[1m7/7\u001b[0m \u001b[32m━━━━━━━━━━━━━━━━━━━━\u001b[0m\u001b[37m\u001b[0m \u001b[1m0s\u001b[0m 23ms/step\n"
     ]
    },
    {
     "name": "stderr",
     "output_type": "stream",
     "text": [
      "[I 2025-08-23 03:16:56,583] Trial 8 finished with value: 0.004737547707858433 and parameters: {'lr': 0.0002953639044581962, 'hs': 31, 'dropout': 0.19056637592531622}. Best is trial 3 with value: 0.002592003257189671.\n"
     ]
    },
    {
     "name": "stdout",
     "output_type": "stream",
     "text": [
      "\u001b[1m7/7\u001b[0m \u001b[32m━━━━━━━━━━━━━━━━━━━━\u001b[0m\u001b[37m\u001b[0m \u001b[1m0s\u001b[0m 22ms/step\n",
      "\u001b[1m7/7\u001b[0m \u001b[32m━━━━━━━━━━━━━━━━━━━━\u001b[0m\u001b[37m\u001b[0m \u001b[1m0s\u001b[0m 23ms/step\n",
      "\u001b[1m7/7\u001b[0m \u001b[32m━━━━━━━━━━━━━━━━━━━━\u001b[0m\u001b[37m\u001b[0m \u001b[1m0s\u001b[0m 22ms/step\n"
     ]
    },
    {
     "name": "stderr",
     "output_type": "stream",
     "text": [
      "[I 2025-08-23 03:18:41,166] Trial 9 finished with value: 0.0034706769065885688 and parameters: {'lr': 0.0081674879718857, 'hs': 22, 'dropout': 0.062362022875788}. Best is trial 3 with value: 0.002592003257189671.\n"
     ]
    },
    {
     "name": "stdout",
     "output_type": "stream",
     "text": [
      "\u001b[1m7/7\u001b[0m \u001b[32m━━━━━━━━━━━━━━━━━━━━\u001b[0m\u001b[37m\u001b[0m \u001b[1m0s\u001b[0m 23ms/step\n",
      "\u001b[1m7/7\u001b[0m \u001b[32m━━━━━━━━━━━━━━━━━━━━\u001b[0m\u001b[37m\u001b[0m \u001b[1m0s\u001b[0m 22ms/step\n",
      "\u001b[1m7/7\u001b[0m \u001b[32m━━━━━━━━━━━━━━━━━━━━\u001b[0m\u001b[37m\u001b[0m \u001b[1m0s\u001b[0m 22ms/step\n"
     ]
    },
    {
     "name": "stderr",
     "output_type": "stream",
     "text": [
      "[I 2025-08-23 03:20:24,760] Trial 10 finished with value: 0.0033021291361604844 and parameters: {'lr': 0.003545828866759017, 'hs': 8, 'dropout': 0.10164924307143516}. Best is trial 3 with value: 0.002592003257189671.\n"
     ]
    },
    {
     "name": "stdout",
     "output_type": "stream",
     "text": [
      "\u001b[1m7/7\u001b[0m \u001b[32m━━━━━━━━━━━━━━━━━━━━\u001b[0m\u001b[37m\u001b[0m \u001b[1m0s\u001b[0m 23ms/step\n",
      "\u001b[1m7/7\u001b[0m \u001b[32m━━━━━━━━━━━━━━━━━━━━\u001b[0m\u001b[37m\u001b[0m \u001b[1m0s\u001b[0m 23ms/step\n",
      "\u001b[1m7/7\u001b[0m \u001b[32m━━━━━━━━━━━━━━━━━━━━\u001b[0m\u001b[37m\u001b[0m \u001b[1m0s\u001b[0m 23ms/step\n"
     ]
    },
    {
     "name": "stderr",
     "output_type": "stream",
     "text": [
      "[I 2025-08-23 03:22:08,406] Trial 11 finished with value: 0.003594295796785947 and parameters: {'lr': 0.00590065727447706, 'hs': 13, 'dropout': 0.09405221342566114}. Best is trial 3 with value: 0.002592003257189671.\n"
     ]
    },
    {
     "name": "stdout",
     "output_type": "stream",
     "text": [
      "\u001b[1m7/7\u001b[0m \u001b[32m━━━━━━━━━━━━━━━━━━━━\u001b[0m\u001b[37m\u001b[0m \u001b[1m0s\u001b[0m 23ms/step\n",
      "\u001b[1m7/7\u001b[0m \u001b[32m━━━━━━━━━━━━━━━━━━━━\u001b[0m\u001b[37m\u001b[0m \u001b[1m0s\u001b[0m 23ms/step\n",
      "\u001b[1m7/7\u001b[0m \u001b[32m━━━━━━━━━━━━━━━━━━━━\u001b[0m\u001b[37m\u001b[0m \u001b[1m0s\u001b[0m 23ms/step\n"
     ]
    },
    {
     "name": "stderr",
     "output_type": "stream",
     "text": [
      "[I 2025-08-23 03:23:51,866] Trial 12 finished with value: 0.0026261477860359352 and parameters: {'lr': 0.007413004793027719, 'hs': 11, 'dropout': 0.08667614397672965}. Best is trial 3 with value: 0.002592003257189671.\n"
     ]
    },
    {
     "name": "stdout",
     "output_type": "stream",
     "text": [
      "\u001b[1m7/7\u001b[0m \u001b[32m━━━━━━━━━━━━━━━━━━━━\u001b[0m\u001b[37m\u001b[0m \u001b[1m0s\u001b[0m 23ms/step\n",
      "\u001b[1m7/7\u001b[0m \u001b[32m━━━━━━━━━━━━━━━━━━━━\u001b[0m\u001b[37m\u001b[0m \u001b[1m0s\u001b[0m 23ms/step\n",
      "\u001b[1m7/7\u001b[0m \u001b[32m━━━━━━━━━━━━━━━━━━━━\u001b[0m\u001b[37m\u001b[0m \u001b[1m0s\u001b[0m 23ms/step\n"
     ]
    },
    {
     "name": "stderr",
     "output_type": "stream",
     "text": [
      "[I 2025-08-23 03:25:36,615] Trial 13 finished with value: 0.011113935786854644 and parameters: {'lr': 0.003613572546123831, 'hs': 6, 'dropout': 0.12499930914541775}. Best is trial 3 with value: 0.002592003257189671.\n"
     ]
    },
    {
     "name": "stdout",
     "output_type": "stream",
     "text": [
      "\u001b[1m7/7\u001b[0m \u001b[32m━━━━━━━━━━━━━━━━━━━━\u001b[0m\u001b[37m\u001b[0m \u001b[1m0s\u001b[0m 23ms/step\n",
      "\u001b[1m7/7\u001b[0m \u001b[32m━━━━━━━━━━━━━━━━━━━━\u001b[0m\u001b[37m\u001b[0m \u001b[1m0s\u001b[0m 22ms/step\n",
      "\u001b[1m7/7\u001b[0m \u001b[32m━━━━━━━━━━━━━━━━━━━━\u001b[0m\u001b[37m\u001b[0m \u001b[1m0s\u001b[0m 22ms/step\n"
     ]
    },
    {
     "name": "stderr",
     "output_type": "stream",
     "text": [
      "[I 2025-08-23 03:27:21,190] Trial 14 finished with value: 0.002835664427023847 and parameters: {'lr': 0.00492460402249624, 'hs': 18, 'dropout': 0.07422563288927206}. Best is trial 3 with value: 0.002592003257189671.\n"
     ]
    },
    {
     "name": "stdout",
     "output_type": "stream",
     "text": [
      "\u001b[1m7/7\u001b[0m \u001b[32m━━━━━━━━━━━━━━━━━━━━\u001b[0m\u001b[37m\u001b[0m \u001b[1m0s\u001b[0m 24ms/step\n",
      "\u001b[1m7/7\u001b[0m \u001b[32m━━━━━━━━━━━━━━━━━━━━\u001b[0m\u001b[37m\u001b[0m \u001b[1m0s\u001b[0m 23ms/step\n",
      "\u001b[1m7/7\u001b[0m \u001b[32m━━━━━━━━━━━━━━━━━━━━\u001b[0m\u001b[37m\u001b[0m \u001b[1m0s\u001b[0m 24ms/step\n"
     ]
    },
    {
     "name": "stderr",
     "output_type": "stream",
     "text": [
      "[I 2025-08-23 03:29:13,421] Trial 15 finished with value: 0.0028633856544886004 and parameters: {'lr': 0.007549072918302561, 'hs': 13, 'dropout': 0.11971378952795779}. Best is trial 3 with value: 0.002592003257189671.\n"
     ]
    },
    {
     "name": "stdout",
     "output_type": "stream",
     "text": [
      "\u001b[1m7/7\u001b[0m \u001b[32m━━━━━━━━━━━━━━━━━━━━\u001b[0m\u001b[37m\u001b[0m \u001b[1m0s\u001b[0m 23ms/step\n",
      "\u001b[1m7/7\u001b[0m \u001b[32m━━━━━━━━━━━━━━━━━━━━\u001b[0m\u001b[37m\u001b[0m \u001b[1m0s\u001b[0m 24ms/step\n",
      "\u001b[1m7/7\u001b[0m \u001b[32m━━━━━━━━━━━━━━━━━━━━\u001b[0m\u001b[37m\u001b[0m \u001b[1m0s\u001b[0m 23ms/step\n"
     ]
    },
    {
     "name": "stderr",
     "output_type": "stream",
     "text": [
      "[I 2025-08-23 03:31:00,859] Trial 16 finished with value: 0.004520539419625247 and parameters: {'lr': 0.004399154017162127, 'hs': 2, 'dropout': 0.10873871882574865}. Best is trial 3 with value: 0.002592003257189671.\n"
     ]
    },
    {
     "name": "stdout",
     "output_type": "stream",
     "text": [
      "\u001b[1m7/7\u001b[0m \u001b[32m━━━━━━━━━━━━━━━━━━━━\u001b[0m\u001b[37m\u001b[0m \u001b[1m0s\u001b[0m 22ms/step\n",
      "\u001b[1m7/7\u001b[0m \u001b[32m━━━━━━━━━━━━━━━━━━━━\u001b[0m\u001b[37m\u001b[0m \u001b[1m0s\u001b[0m 23ms/step\n",
      "\u001b[1m7/7\u001b[0m \u001b[32m━━━━━━━━━━━━━━━━━━━━\u001b[0m\u001b[37m\u001b[0m \u001b[1m0s\u001b[0m 23ms/step\n"
     ]
    },
    {
     "name": "stderr",
     "output_type": "stream",
     "text": [
      "[I 2025-08-23 03:32:45,626] Trial 17 finished with value: 0.003134701463153496 and parameters: {'lr': 0.006215654955951147, 'hs': 7, 'dropout': 0.14144385008966195}. Best is trial 3 with value: 0.002592003257189671.\n"
     ]
    },
    {
     "name": "stdout",
     "output_type": "stream",
     "text": [
      "\u001b[1m7/7\u001b[0m \u001b[32m━━━━━━━━━━━━━━━━━━━━\u001b[0m\u001b[37m\u001b[0m \u001b[1m0s\u001b[0m 22ms/step\n",
      "\u001b[1m7/7\u001b[0m \u001b[32m━━━━━━━━━━━━━━━━━━━━\u001b[0m\u001b[37m\u001b[0m \u001b[1m0s\u001b[0m 23ms/step\n",
      "\u001b[1m7/7\u001b[0m \u001b[32m━━━━━━━━━━━━━━━━━━━━\u001b[0m\u001b[37m\u001b[0m \u001b[1m0s\u001b[0m 23ms/step\n"
     ]
    },
    {
     "name": "stderr",
     "output_type": "stream",
     "text": [
      "[I 2025-08-23 03:34:30,352] Trial 18 finished with value: 0.0026031623928678056 and parameters: {'lr': 0.008576395445102808, 'hs': 17, 'dropout': 0.07912761421980091}. Best is trial 3 with value: 0.002592003257189671.\n"
     ]
    },
    {
     "name": "stdout",
     "output_type": "stream",
     "text": [
      "\u001b[1m7/7\u001b[0m \u001b[32m━━━━━━━━━━━━━━━━━━━━\u001b[0m\u001b[37m\u001b[0m \u001b[1m0s\u001b[0m 23ms/step\n",
      "\u001b[1m7/7\u001b[0m \u001b[32m━━━━━━━━━━━━━━━━━━━━\u001b[0m\u001b[37m\u001b[0m \u001b[1m0s\u001b[0m 22ms/step\n",
      "\u001b[1m7/7\u001b[0m \u001b[32m━━━━━━━━━━━━━━━━━━━━\u001b[0m\u001b[37m\u001b[0m \u001b[1m0s\u001b[0m 23ms/step\n"
     ]
    },
    {
     "name": "stderr",
     "output_type": "stream",
     "text": [
      "[I 2025-08-23 03:36:13,844] Trial 19 finished with value: 0.0026391714714779422 and parameters: {'lr': 0.003014733559164149, 'hs': 10, 'dropout': 0.08525849594640625}. Best is trial 3 with value: 0.002592003257189671.\n"
     ]
    },
    {
     "name": "stdout",
     "output_type": "stream",
     "text": [
      "\u001b[1m7/7\u001b[0m \u001b[32m━━━━━━━━━━━━━━━━━━━━\u001b[0m\u001b[37m\u001b[0m \u001b[1m0s\u001b[0m 23ms/step\n",
      "\u001b[1m7/7\u001b[0m \u001b[32m━━━━━━━━━━━━━━━━━━━━\u001b[0m\u001b[37m\u001b[0m \u001b[1m0s\u001b[0m 22ms/step\n",
      "\u001b[1m7/7\u001b[0m \u001b[32m━━━━━━━━━━━━━━━━━━━━\u001b[0m\u001b[37m\u001b[0m \u001b[1m0s\u001b[0m 23ms/step\n"
     ]
    },
    {
     "name": "stderr",
     "output_type": "stream",
     "text": [
      "[I 2025-08-23 03:37:59,186] Trial 20 finished with value: 0.0031214467477593245 and parameters: {'lr': 0.009398003269433934, 'hs': 26, 'dropout': 0.14407477659653978}. Best is trial 3 with value: 0.002592003257189671.\n"
     ]
    },
    {
     "name": "stdout",
     "output_type": "stream",
     "text": [
      "\u001b[1m7/7\u001b[0m \u001b[32m━━━━━━━━━━━━━━━━━━━━\u001b[0m\u001b[37m\u001b[0m \u001b[1m0s\u001b[0m 22ms/step\n",
      "\u001b[1m7/7\u001b[0m \u001b[32m━━━━━━━━━━━━━━━━━━━━\u001b[0m\u001b[37m\u001b[0m \u001b[1m0s\u001b[0m 23ms/step\n",
      "\u001b[1m7/7\u001b[0m \u001b[32m━━━━━━━━━━━━━━━━━━━━\u001b[0m\u001b[37m\u001b[0m \u001b[1m0s\u001b[0m 22ms/step\n"
     ]
    },
    {
     "name": "stderr",
     "output_type": "stream",
     "text": [
      "[I 2025-08-23 03:39:43,460] Trial 21 finished with value: 0.0024119450797434466 and parameters: {'lr': 0.008249801934572185, 'hs': 16, 'dropout': 0.067827385149967}. Best is trial 21 with value: 0.0024119450797434466.\n"
     ]
    },
    {
     "name": "stdout",
     "output_type": "stream",
     "text": [
      "\u001b[1m7/7\u001b[0m \u001b[32m━━━━━━━━━━━━━━━━━━━━\u001b[0m\u001b[37m\u001b[0m \u001b[1m0s\u001b[0m 23ms/step\n",
      "\u001b[1m7/7\u001b[0m \u001b[32m━━━━━━━━━━━━━━━━━━━━\u001b[0m\u001b[37m\u001b[0m \u001b[1m0s\u001b[0m 22ms/step\n",
      "\u001b[1m7/7\u001b[0m \u001b[32m━━━━━━━━━━━━━━━━━━━━\u001b[0m\u001b[37m\u001b[0m \u001b[1m0s\u001b[0m 22ms/step\n"
     ]
    },
    {
     "name": "stderr",
     "output_type": "stream",
     "text": [
      "[I 2025-08-23 03:41:27,880] Trial 22 finished with value: 0.0026465275635061225 and parameters: {'lr': 0.007148320460720331, 'hs': 15, 'dropout': 0.07234991086603776}. Best is trial 21 with value: 0.0024119450797434466.\n"
     ]
    },
    {
     "name": "stdout",
     "output_type": "stream",
     "text": [
      "\u001b[1m7/7\u001b[0m \u001b[32m━━━━━━━━━━━━━━━━━━━━\u001b[0m\u001b[37m\u001b[0m \u001b[1m0s\u001b[0m 23ms/step\n",
      "\u001b[1m7/7\u001b[0m \u001b[32m━━━━━━━━━━━━━━━━━━━━\u001b[0m\u001b[37m\u001b[0m \u001b[1m0s\u001b[0m 22ms/step\n",
      "\u001b[1m7/7\u001b[0m \u001b[32m━━━━━━━━━━━━━━━━━━━━\u001b[0m\u001b[37m\u001b[0m \u001b[1m0s\u001b[0m 23ms/step\n"
     ]
    },
    {
     "name": "stderr",
     "output_type": "stream",
     "text": [
      "[I 2025-08-23 03:43:12,874] Trial 23 finished with value: 0.0024739039185303967 and parameters: {'lr': 0.008603952644971428, 'hs': 20, 'dropout': 0.05075065952891877}. Best is trial 21 with value: 0.0024119450797434466.\n"
     ]
    },
    {
     "name": "stdout",
     "output_type": "stream",
     "text": [
      "\u001b[1m7/7\u001b[0m \u001b[32m━━━━━━━━━━━━━━━━━━━━\u001b[0m\u001b[37m\u001b[0m \u001b[1m0s\u001b[0m 23ms/step\n",
      "\u001b[1m7/7\u001b[0m \u001b[32m━━━━━━━━━━━━━━━━━━━━\u001b[0m\u001b[37m\u001b[0m \u001b[1m0s\u001b[0m 22ms/step\n",
      "\u001b[1m7/7\u001b[0m \u001b[32m━━━━━━━━━━━━━━━━━━━━\u001b[0m\u001b[37m\u001b[0m \u001b[1m0s\u001b[0m 23ms/step\n"
     ]
    },
    {
     "name": "stderr",
     "output_type": "stream",
     "text": [
      "[I 2025-08-23 03:44:58,144] Trial 24 finished with value: 0.002381295551695799 and parameters: {'lr': 0.005621382652594351, 'hs': 20, 'dropout': 0.05533960786454956}. Best is trial 24 with value: 0.002381295551695799.\n"
     ]
    },
    {
     "name": "stdout",
     "output_type": "stream",
     "text": [
      "\u001b[1m7/7\u001b[0m \u001b[32m━━━━━━━━━━━━━━━━━━━━\u001b[0m\u001b[37m\u001b[0m \u001b[1m0s\u001b[0m 23ms/step\n",
      "\u001b[1m7/7\u001b[0m \u001b[32m━━━━━━━━━━━━━━━━━━━━\u001b[0m\u001b[37m\u001b[0m \u001b[1m0s\u001b[0m 23ms/step\n",
      "\u001b[1m7/7\u001b[0m \u001b[32m━━━━━━━━━━━━━━━━━━━━\u001b[0m\u001b[37m\u001b[0m \u001b[1m0s\u001b[0m 22ms/step\n"
     ]
    },
    {
     "name": "stderr",
     "output_type": "stream",
     "text": [
      "[I 2025-08-23 03:46:43,226] Trial 25 finished with value: 0.0026373442755126997 and parameters: {'lr': 0.009891453397926547, 'hs': 21, 'dropout': 0.051584680225595515}. Best is trial 24 with value: 0.002381295551695799.\n"
     ]
    },
    {
     "name": "stdout",
     "output_type": "stream",
     "text": [
      "\u001b[1m7/7\u001b[0m \u001b[32m━━━━━━━━━━━━━━━━━━━━\u001b[0m\u001b[37m\u001b[0m \u001b[1m0s\u001b[0m 23ms/step\n",
      "\u001b[1m7/7\u001b[0m \u001b[32m━━━━━━━━━━━━━━━━━━━━\u001b[0m\u001b[37m\u001b[0m \u001b[1m0s\u001b[0m 27ms/step\n",
      "\u001b[1m7/7\u001b[0m \u001b[32m━━━━━━━━━━━━━━━━━━━━\u001b[0m\u001b[37m\u001b[0m \u001b[1m0s\u001b[0m 24ms/step\n"
     ]
    },
    {
     "name": "stderr",
     "output_type": "stream",
     "text": [
      "[I 2025-08-23 03:48:41,378] Trial 26 finished with value: 0.0025552657833253904 and parameters: {'lr': 0.001869856579311266, 'hs': 25, 'dropout': 0.06274917970941256}. Best is trial 24 with value: 0.002381295551695799.\n"
     ]
    },
    {
     "name": "stdout",
     "output_type": "stream",
     "text": [
      "\u001b[1m7/7\u001b[0m \u001b[32m━━━━━━━━━━━━━━━━━━━━\u001b[0m\u001b[37m\u001b[0m \u001b[1m0s\u001b[0m 24ms/step\n",
      "\u001b[1m7/7\u001b[0m \u001b[32m━━━━━━━━━━━━━━━━━━━━\u001b[0m\u001b[37m\u001b[0m \u001b[1m0s\u001b[0m 24ms/step\n",
      "\u001b[1m7/7\u001b[0m \u001b[32m━━━━━━━━━━━━━━━━━━━━\u001b[0m\u001b[37m\u001b[0m \u001b[1m0s\u001b[0m 23ms/step\n"
     ]
    },
    {
     "name": "stderr",
     "output_type": "stream",
     "text": [
      "[I 2025-08-23 03:50:31,096] Trial 27 finished with value: 0.0028973669250188044 and parameters: {'lr': 0.007191541235256345, 'hs': 20, 'dropout': 0.05087093448967642}. Best is trial 24 with value: 0.002381295551695799.\n"
     ]
    },
    {
     "name": "stdout",
     "output_type": "stream",
     "text": [
      "\u001b[1m7/7\u001b[0m \u001b[32m━━━━━━━━━━━━━━━━━━━━\u001b[0m\u001b[37m\u001b[0m \u001b[1m0s\u001b[0m 23ms/step\n",
      "\u001b[1m7/7\u001b[0m \u001b[32m━━━━━━━━━━━━━━━━━━━━\u001b[0m\u001b[37m\u001b[0m \u001b[1m0s\u001b[0m 23ms/step\n",
      "\u001b[1m7/7\u001b[0m \u001b[32m━━━━━━━━━━━━━━━━━━━━\u001b[0m\u001b[37m\u001b[0m \u001b[1m0s\u001b[0m 23ms/step\n"
     ]
    },
    {
     "name": "stderr",
     "output_type": "stream",
     "text": [
      "[I 2025-08-23 03:52:19,097] Trial 28 finished with value: 0.0023564263005222083 and parameters: {'lr': 0.005546679306137953, 'hs': 23, 'dropout': 0.06222871657803068}. Best is trial 28 with value: 0.0023564263005222083.\n"
     ]
    },
    {
     "name": "stdout",
     "output_type": "stream",
     "text": [
      "\u001b[1m7/7\u001b[0m \u001b[32m━━━━━━━━━━━━━━━━━━━━\u001b[0m\u001b[37m\u001b[0m \u001b[1m0s\u001b[0m 23ms/step\n",
      "\u001b[1m7/7\u001b[0m \u001b[32m━━━━━━━━━━━━━━━━━━━━\u001b[0m\u001b[37m\u001b[0m \u001b[1m0s\u001b[0m 22ms/step\n",
      "\u001b[1m7/7\u001b[0m \u001b[32m━━━━━━━━━━━━━━━━━━━━\u001b[0m\u001b[37m\u001b[0m \u001b[1m0s\u001b[0m 22ms/step\n"
     ]
    },
    {
     "name": "stderr",
     "output_type": "stream",
     "text": [
      "[I 2025-08-23 03:54:06,105] Trial 29 finished with value: 0.003244026910374759 and parameters: {'lr': 0.005384774580314116, 'hs': 27, 'dropout': 0.06572748738277119}. Best is trial 28 with value: 0.0023564263005222083.\n"
     ]
    },
    {
     "name": "stdout",
     "output_type": "stream",
     "text": [
      "\u001b[1m7/7\u001b[0m \u001b[32m━━━━━━━━━━━━━━━━━━━━\u001b[0m\u001b[37m\u001b[0m \u001b[1m0s\u001b[0m 23ms/step\n",
      "\u001b[1m7/7\u001b[0m \u001b[32m━━━━━━━━━━━━━━━━━━━━\u001b[0m\u001b[37m\u001b[0m \u001b[1m0s\u001b[0m 22ms/step\n",
      "\u001b[1m7/7\u001b[0m \u001b[32m━━━━━━━━━━━━━━━━━━━━\u001b[0m\u001b[37m\u001b[0m \u001b[1m0s\u001b[0m 23ms/step\n"
     ]
    },
    {
     "name": "stderr",
     "output_type": "stream",
     "text": [
      "[I 2025-08-23 03:55:51,618] Trial 30 finished with value: 0.002528291960895631 and parameters: {'lr': 0.004697831604963996, 'hs': 23, 'dropout': 0.09100931365001157}. Best is trial 28 with value: 0.0023564263005222083.\n"
     ]
    },
    {
     "name": "stdout",
     "output_type": "stream",
     "text": [
      "\u001b[1m7/7\u001b[0m \u001b[32m━━━━━━━━━━━━━━━━━━━━\u001b[0m\u001b[37m\u001b[0m \u001b[1m0s\u001b[0m 22ms/step\n",
      "\u001b[1m7/7\u001b[0m \u001b[32m━━━━━━━━━━━━━━━━━━━━\u001b[0m\u001b[37m\u001b[0m \u001b[1m0s\u001b[0m 22ms/step\n",
      "\u001b[1m7/7\u001b[0m \u001b[32m━━━━━━━━━━━━━━━━━━━━\u001b[0m\u001b[37m\u001b[0m \u001b[1m0s\u001b[0m 22ms/step\n"
     ]
    },
    {
     "name": "stderr",
     "output_type": "stream",
     "text": [
      "[I 2025-08-23 03:57:37,134] Trial 31 finished with value: 0.002528549022504893 and parameters: {'lr': 0.006748098431373137, 'hs': 19, 'dropout': 0.06039672417164725}. Best is trial 28 with value: 0.0023564263005222083.\n"
     ]
    },
    {
     "name": "stdout",
     "output_type": "stream",
     "text": [
      "\u001b[1m7/7\u001b[0m \u001b[32m━━━━━━━━━━━━━━━━━━━━\u001b[0m\u001b[37m\u001b[0m \u001b[1m0s\u001b[0m 22ms/step\n",
      "\u001b[1m7/7\u001b[0m \u001b[32m━━━━━━━━━━━━━━━━━━━━\u001b[0m\u001b[37m\u001b[0m \u001b[1m0s\u001b[0m 23ms/step\n",
      "\u001b[1m7/7\u001b[0m \u001b[32m━━━━━━━━━━━━━━━━━━━━\u001b[0m\u001b[37m\u001b[0m \u001b[1m0s\u001b[0m 23ms/step\n"
     ]
    },
    {
     "name": "stderr",
     "output_type": "stream",
     "text": [
      "[I 2025-08-23 03:59:23,488] Trial 32 finished with value: 0.0024829598679645434 and parameters: {'lr': 0.00893159594058773, 'hs': 28, 'dropout': 0.05061127449650425}. Best is trial 28 with value: 0.0023564263005222083.\n"
     ]
    },
    {
     "name": "stdout",
     "output_type": "stream",
     "text": [
      "\u001b[1m7/7\u001b[0m \u001b[32m━━━━━━━━━━━━━━━━━━━━\u001b[0m\u001b[37m\u001b[0m \u001b[1m0s\u001b[0m 23ms/step\n",
      "\u001b[1m7/7\u001b[0m \u001b[32m━━━━━━━━━━━━━━━━━━━━\u001b[0m\u001b[37m\u001b[0m \u001b[1m0s\u001b[0m 22ms/step\n",
      "\u001b[1m7/7\u001b[0m \u001b[32m━━━━━━━━━━━━━━━━━━━━\u001b[0m\u001b[37m\u001b[0m \u001b[1m0s\u001b[0m 23ms/step\n"
     ]
    },
    {
     "name": "stderr",
     "output_type": "stream",
     "text": [
      "[I 2025-08-23 04:01:07,746] Trial 33 finished with value: 0.003573158598483663 and parameters: {'lr': 0.007897011228039758, 'hs': 14, 'dropout': 0.07936014955828423}. Best is trial 28 with value: 0.0023564263005222083.\n"
     ]
    },
    {
     "name": "stdout",
     "output_type": "stream",
     "text": [
      "\u001b[1m7/7\u001b[0m \u001b[32m━━━━━━━━━━━━━━━━━━━━\u001b[0m\u001b[37m\u001b[0m \u001b[1m0s\u001b[0m 23ms/step\n",
      "\u001b[1m7/7\u001b[0m \u001b[32m━━━━━━━━━━━━━━━━━━━━\u001b[0m\u001b[37m\u001b[0m \u001b[1m0s\u001b[0m 22ms/step\n",
      "\u001b[1m7/7\u001b[0m \u001b[32m━━━━━━━━━━━━━━━━━━━━\u001b[0m\u001b[37m\u001b[0m \u001b[1m0s\u001b[0m 23ms/step\n"
     ]
    },
    {
     "name": "stderr",
     "output_type": "stream",
     "text": [
      "[I 2025-08-23 04:02:53,060] Trial 34 finished with value: 0.0030249565143984866 and parameters: {'lr': 0.0054794424776446644, 'hs': 23, 'dropout': 0.06693237012177622}. Best is trial 28 with value: 0.0023564263005222083.\n"
     ]
    },
    {
     "name": "stdout",
     "output_type": "stream",
     "text": [
      "\u001b[1m7/7\u001b[0m \u001b[32m━━━━━━━━━━━━━━━━━━━━\u001b[0m\u001b[37m\u001b[0m \u001b[1m0s\u001b[0m 22ms/step\n",
      "\u001b[1m7/7\u001b[0m \u001b[32m━━━━━━━━━━━━━━━━━━━━\u001b[0m\u001b[37m\u001b[0m \u001b[1m0s\u001b[0m 22ms/step\n",
      "\u001b[1m7/7\u001b[0m \u001b[32m━━━━━━━━━━━━━━━━━━━━\u001b[0m\u001b[37m\u001b[0m \u001b[1m0s\u001b[0m 23ms/step\n"
     ]
    },
    {
     "name": "stderr",
     "output_type": "stream",
     "text": [
      "[I 2025-08-23 04:04:38,324] Trial 35 finished with value: 0.002828844907403577 and parameters: {'lr': 0.009141760007598487, 'hs': 24, 'dropout': 0.06024186669061582}. Best is trial 28 with value: 0.0023564263005222083.\n"
     ]
    },
    {
     "name": "stdout",
     "output_type": "stream",
     "text": [
      "\u001b[1m7/7\u001b[0m \u001b[32m━━━━━━━━━━━━━━━━━━━━\u001b[0m\u001b[37m\u001b[0m \u001b[1m0s\u001b[0m 23ms/step\n",
      "\u001b[1m7/7\u001b[0m \u001b[32m━━━━━━━━━━━━━━━━━━━━\u001b[0m\u001b[37m\u001b[0m \u001b[1m0s\u001b[0m 23ms/step\n",
      "\u001b[1m7/7\u001b[0m \u001b[32m━━━━━━━━━━━━━━━━━━━━\u001b[0m\u001b[37m\u001b[0m \u001b[1m0s\u001b[0m 22ms/step\n"
     ]
    },
    {
     "name": "stderr",
     "output_type": "stream",
     "text": [
      "[I 2025-08-23 04:06:23,076] Trial 36 finished with value: 0.0034339081927676636 and parameters: {'lr': 0.0067324269598435125, 'hs': 20, 'dropout': 0.1587558816758066}. Best is trial 28 with value: 0.0023564263005222083.\n"
     ]
    },
    {
     "name": "stdout",
     "output_type": "stream",
     "text": [
      "\u001b[1m7/7\u001b[0m \u001b[32m━━━━━━━━━━━━━━━━━━━━\u001b[0m\u001b[37m\u001b[0m \u001b[1m0s\u001b[0m 23ms/step\n",
      "\u001b[1m7/7\u001b[0m \u001b[32m━━━━━━━━━━━━━━━━━━━━\u001b[0m\u001b[37m\u001b[0m \u001b[1m0s\u001b[0m 23ms/step\n",
      "\u001b[1m7/7\u001b[0m \u001b[32m━━━━━━━━━━━━━━━━━━━━\u001b[0m\u001b[37m\u001b[0m \u001b[1m0s\u001b[0m 22ms/step\n"
     ]
    },
    {
     "name": "stderr",
     "output_type": "stream",
     "text": [
      "[I 2025-08-23 04:08:07,930] Trial 37 finished with value: 0.0027814417991007304 and parameters: {'lr': 0.004132998247250708, 'hs': 18, 'dropout': 0.07703880294543422}. Best is trial 28 with value: 0.0023564263005222083.\n"
     ]
    },
    {
     "name": "stdout",
     "output_type": "stream",
     "text": [
      "\u001b[1m7/7\u001b[0m \u001b[32m━━━━━━━━━━━━━━━━━━━━\u001b[0m\u001b[37m\u001b[0m \u001b[1m0s\u001b[0m 22ms/step\n",
      "\u001b[1m7/7\u001b[0m \u001b[32m━━━━━━━━━━━━━━━━━━━━\u001b[0m\u001b[37m\u001b[0m \u001b[1m0s\u001b[0m 23ms/step\n",
      "\u001b[1m7/7\u001b[0m \u001b[32m━━━━━━━━━━━━━━━━━━━━\u001b[0m\u001b[37m\u001b[0m \u001b[1m0s\u001b[0m 23ms/step\n"
     ]
    },
    {
     "name": "stderr",
     "output_type": "stream",
     "text": [
      "[I 2025-08-23 04:09:54,141] Trial 38 finished with value: 0.002725117211993276 and parameters: {'lr': 0.0024952068369681057, 'hs': 29, 'dropout': 0.05838804943163657}. Best is trial 28 with value: 0.0023564263005222083.\n"
     ]
    },
    {
     "name": "stdout",
     "output_type": "stream",
     "text": [
      "\u001b[1m7/7\u001b[0m \u001b[32m━━━━━━━━━━━━━━━━━━━━\u001b[0m\u001b[37m\u001b[0m \u001b[1m0s\u001b[0m 23ms/step\n",
      "\u001b[1m7/7\u001b[0m \u001b[32m━━━━━━━━━━━━━━━━━━━━\u001b[0m\u001b[37m\u001b[0m \u001b[1m0s\u001b[0m 25ms/step\n",
      "\u001b[1m7/7\u001b[0m \u001b[32m━━━━━━━━━━━━━━━━━━━━\u001b[0m\u001b[37m\u001b[0m \u001b[1m0s\u001b[0m 23ms/step\n"
     ]
    },
    {
     "name": "stderr",
     "output_type": "stream",
     "text": [
      "[I 2025-08-23 04:11:39,386] Trial 39 finished with value: 0.002477360206118405 and parameters: {'lr': 0.005693545166060282, 'hs': 22, 'dropout': 0.06911359804455147}. Best is trial 28 with value: 0.0023564263005222083.\n"
     ]
    },
    {
     "name": "stdout",
     "output_type": "stream",
     "text": [
      "\u001b[1m7/7\u001b[0m \u001b[32m━━━━━━━━━━━━━━━━━━━━\u001b[0m\u001b[37m\u001b[0m \u001b[1m0s\u001b[0m 29ms/step\n",
      "\u001b[1m7/7\u001b[0m \u001b[32m━━━━━━━━━━━━━━━━━━━━\u001b[0m\u001b[37m\u001b[0m \u001b[1m0s\u001b[0m 24ms/step\n",
      "\u001b[1m7/7\u001b[0m \u001b[32m━━━━━━━━━━━━━━━━━━━━\u001b[0m\u001b[37m\u001b[0m \u001b[1m0s\u001b[0m 23ms/step\n"
     ]
    },
    {
     "name": "stderr",
     "output_type": "stream",
     "text": [
      "[I 2025-08-23 04:13:40,784] Trial 40 finished with value: 0.0031124486636778174 and parameters: {'lr': 0.007980699935046381, 'hs': 16, 'dropout': 0.11321600877879737}. Best is trial 28 with value: 0.0023564263005222083.\n"
     ]
    },
    {
     "name": "stdout",
     "output_type": "stream",
     "text": [
      "\u001b[1m7/7\u001b[0m \u001b[32m━━━━━━━━━━━━━━━━━━━━\u001b[0m\u001b[37m\u001b[0m \u001b[1m0s\u001b[0m 24ms/step\n",
      "\u001b[1m7/7\u001b[0m \u001b[32m━━━━━━━━━━━━━━━━━━━━\u001b[0m\u001b[37m\u001b[0m \u001b[1m0s\u001b[0m 23ms/step\n",
      "\u001b[1m7/7\u001b[0m \u001b[32m━━━━━━━━━━━━━━━━━━━━\u001b[0m\u001b[37m\u001b[0m \u001b[1m0s\u001b[0m 23ms/step\n"
     ]
    },
    {
     "name": "stderr",
     "output_type": "stream",
     "text": [
      "[I 2025-08-23 04:15:32,093] Trial 41 finished with value: 0.0030357683451349656 and parameters: {'lr': 0.005990628255891397, 'hs': 22, 'dropout': 0.0682783400283229}. Best is trial 28 with value: 0.0023564263005222083.\n"
     ]
    },
    {
     "name": "stdout",
     "output_type": "stream",
     "text": [
      "\u001b[1m7/7\u001b[0m \u001b[32m━━━━━━━━━━━━━━━━━━━━\u001b[0m\u001b[37m\u001b[0m \u001b[1m0s\u001b[0m 23ms/step\n",
      "\u001b[1m7/7\u001b[0m \u001b[32m━━━━━━━━━━━━━━━━━━━━\u001b[0m\u001b[37m\u001b[0m \u001b[1m0s\u001b[0m 23ms/step\n",
      "\u001b[1m7/7\u001b[0m \u001b[32m━━━━━━━━━━━━━━━━━━━━\u001b[0m\u001b[37m\u001b[0m \u001b[1m0s\u001b[0m 24ms/step\n"
     ]
    },
    {
     "name": "stderr",
     "output_type": "stream",
     "text": [
      "[I 2025-08-23 04:17:20,810] Trial 42 finished with value: 0.0027260370622844035 and parameters: {'lr': 0.005396489180235881, 'hs': 20, 'dropout': 0.09721596716158903}. Best is trial 28 with value: 0.0023564263005222083.\n"
     ]
    },
    {
     "name": "stdout",
     "output_type": "stream",
     "text": [
      "\u001b[1m7/7\u001b[0m \u001b[32m━━━━━━━━━━━━━━━━━━━━\u001b[0m\u001b[37m\u001b[0m \u001b[1m0s\u001b[0m 23ms/step\n",
      "\u001b[1m7/7\u001b[0m \u001b[32m━━━━━━━━━━━━━━━━━━━━\u001b[0m\u001b[37m\u001b[0m \u001b[1m0s\u001b[0m 24ms/step\n",
      "\u001b[1m7/7\u001b[0m \u001b[32m━━━━━━━━━━━━━━━━━━━━\u001b[0m\u001b[37m\u001b[0m \u001b[1m0s\u001b[0m 23ms/step\n"
     ]
    },
    {
     "name": "stderr",
     "output_type": "stream",
     "text": [
      "[I 2025-08-23 04:19:08,877] Trial 43 finished with value: 0.0028710631281397615 and parameters: {'lr': 0.005611338804202219, 'hs': 25, 'dropout': 0.0844337680625471}. Best is trial 28 with value: 0.0023564263005222083.\n"
     ]
    },
    {
     "name": "stdout",
     "output_type": "stream",
     "text": [
      "\u001b[1m7/7\u001b[0m \u001b[32m━━━━━━━━━━━━━━━━━━━━\u001b[0m\u001b[37m\u001b[0m \u001b[1m0s\u001b[0m 23ms/step\n",
      "\u001b[1m7/7\u001b[0m \u001b[32m━━━━━━━━━━━━━━━━━━━━\u001b[0m\u001b[37m\u001b[0m \u001b[1m0s\u001b[0m 23ms/step\n",
      "\u001b[1m7/7\u001b[0m \u001b[32m━━━━━━━━━━━━━━━━━━━━\u001b[0m\u001b[37m\u001b[0m \u001b[1m0s\u001b[0m 23ms/step\n"
     ]
    },
    {
     "name": "stderr",
     "output_type": "stream",
     "text": [
      "[I 2025-08-23 04:20:55,517] Trial 44 finished with value: 0.002846772732761835 and parameters: {'lr': 0.00878258850362865, 'hs': 22, 'dropout': 0.05545187641404269}. Best is trial 28 with value: 0.0023564263005222083.\n"
     ]
    },
    {
     "name": "stdout",
     "output_type": "stream",
     "text": [
      "\u001b[1m7/7\u001b[0m \u001b[32m━━━━━━━━━━━━━━━━━━━━\u001b[0m\u001b[37m\u001b[0m \u001b[1m0s\u001b[0m 24ms/step\n",
      "\u001b[1m7/7\u001b[0m \u001b[32m━━━━━━━━━━━━━━━━━━━━\u001b[0m\u001b[37m\u001b[0m \u001b[1m0s\u001b[0m 23ms/step\n",
      "\u001b[1m7/7\u001b[0m \u001b[32m━━━━━━━━━━━━━━━━━━━━\u001b[0m\u001b[37m\u001b[0m \u001b[1m0s\u001b[0m 23ms/step\n"
     ]
    },
    {
     "name": "stderr",
     "output_type": "stream",
     "text": [
      "[I 2025-08-23 04:22:40,430] Trial 45 finished with value: 0.0027072778670399447 and parameters: {'lr': 0.006702872454831542, 'hs': 17, 'dropout': 0.06960291558472073}. Best is trial 28 with value: 0.0023564263005222083.\n"
     ]
    },
    {
     "name": "stdout",
     "output_type": "stream",
     "text": [
      "\u001b[1m7/7\u001b[0m \u001b[32m━━━━━━━━━━━━━━━━━━━━\u001b[0m\u001b[37m\u001b[0m \u001b[1m0s\u001b[0m 23ms/step\n",
      "\u001b[1m7/7\u001b[0m \u001b[32m━━━━━━━━━━━━━━━━━━━━\u001b[0m\u001b[37m\u001b[0m \u001b[1m0s\u001b[0m 23ms/step\n",
      "\u001b[1m7/7\u001b[0m \u001b[32m━━━━━━━━━━━━━━━━━━━━\u001b[0m\u001b[37m\u001b[0m \u001b[1m0s\u001b[0m 23ms/step\n"
     ]
    },
    {
     "name": "stderr",
     "output_type": "stream",
     "text": [
      "[I 2025-08-23 04:24:25,945] Trial 46 finished with value: 0.002519957735686604 and parameters: {'lr': 0.004068441697152697, 'hs': 19, 'dropout': 0.0599539798750441}. Best is trial 28 with value: 0.0023564263005222083.\n"
     ]
    },
    {
     "name": "stdout",
     "output_type": "stream",
     "text": [
      "\u001b[1m7/7\u001b[0m \u001b[32m━━━━━━━━━━━━━━━━━━━━\u001b[0m\u001b[37m\u001b[0m \u001b[1m0s\u001b[0m 23ms/step\n",
      "\u001b[1m7/7\u001b[0m \u001b[32m━━━━━━━━━━━━━━━━━━━━\u001b[0m\u001b[37m\u001b[0m \u001b[1m0s\u001b[0m 22ms/step\n",
      "\u001b[1m7/7\u001b[0m \u001b[32m━━━━━━━━━━━━━━━━━━━━\u001b[0m\u001b[37m\u001b[0m \u001b[1m0s\u001b[0m 22ms/step\n"
     ]
    },
    {
     "name": "stderr",
     "output_type": "stream",
     "text": [
      "[I 2025-08-23 04:26:11,029] Trial 47 finished with value: 0.003070692206481429 and parameters: {'lr': 0.008488587364514093, 'hs': 23, 'dropout': 0.1761789521224726}. Best is trial 28 with value: 0.0023564263005222083.\n"
     ]
    },
    {
     "name": "stdout",
     "output_type": "stream",
     "text": [
      "\u001b[1m7/7\u001b[0m \u001b[32m━━━━━━━━━━━━━━━━━━━━\u001b[0m\u001b[37m\u001b[0m \u001b[1m0s\u001b[0m 22ms/step\n",
      "\u001b[1m7/7\u001b[0m \u001b[32m━━━━━━━━━━━━━━━━━━━━\u001b[0m\u001b[37m\u001b[0m \u001b[1m0s\u001b[0m 23ms/step\n",
      "\u001b[1m7/7\u001b[0m \u001b[32m━━━━━━━━━━━━━━━━━━━━\u001b[0m\u001b[37m\u001b[0m \u001b[1m0s\u001b[0m 22ms/step\n"
     ]
    },
    {
     "name": "stderr",
     "output_type": "stream",
     "text": [
      "[I 2025-08-23 04:27:56,466] Trial 48 finished with value: 0.0023826724718797715 and parameters: {'lr': 0.009395205835100895, 'hs': 21, 'dropout': 0.08037938462893557}. Best is trial 28 with value: 0.0023564263005222083.\n"
     ]
    },
    {
     "name": "stdout",
     "output_type": "stream",
     "text": [
      "\u001b[1m7/7\u001b[0m \u001b[32m━━━━━━━━━━━━━━━━━━━━\u001b[0m\u001b[37m\u001b[0m \u001b[1m0s\u001b[0m 23ms/step\n",
      "\u001b[1m7/7\u001b[0m \u001b[32m━━━━━━━━━━━━━━━━━━━━\u001b[0m\u001b[37m\u001b[0m \u001b[1m0s\u001b[0m 23ms/step\n",
      "\u001b[1m7/7\u001b[0m \u001b[32m━━━━━━━━━━━━━━━━━━━━\u001b[0m\u001b[37m\u001b[0m \u001b[1m0s\u001b[0m 22ms/step\n"
     ]
    },
    {
     "name": "stderr",
     "output_type": "stream",
     "text": [
      "[I 2025-08-23 04:29:40,937] Trial 49 finished with value: 0.008521377354511408 and parameters: {'lr': 0.00949730963623401, 'hs': 15, 'dropout': 0.08117039745513145}. Best is trial 28 with value: 0.0023564263005222083.\n"
     ]
    },
    {
     "name": "stdout",
     "output_type": "stream",
     "text": [
      "\u001b[1m10/10\u001b[0m \u001b[32m━━━━━━━━━━━━━━━━━━━━\u001b[0m\u001b[37m\u001b[0m \u001b[1m0s\u001b[0m 15ms/step\n"
     ]
    },
    {
     "name": "stderr",
     "output_type": "stream",
     "text": [
      "[I 2025-08-23 04:30:20,800] A new study created in memory with name: no-name-d3b38acd-ecda-402e-8a79-8d0afea79f5f\n"
     ]
    },
    {
     "name": "stdout",
     "output_type": "stream",
     "text": [
      "('GRU', 1.1203288554854458e+17, 155687041.39681706, 0.8395753896133564)\n",
      "\u001b[1m7/7\u001b[0m \u001b[32m━━━━━━━━━━━━━━━━━━━━\u001b[0m\u001b[37m\u001b[0m \u001b[1m1s\u001b[0m 57ms/step\n",
      "\u001b[1m7/7\u001b[0m \u001b[32m━━━━━━━━━━━━━━━━━━━━\u001b[0m\u001b[37m\u001b[0m \u001b[1m1s\u001b[0m 57ms/step\n",
      "\u001b[1m7/7\u001b[0m \u001b[32m━━━━━━━━━━━━━━━━━━━━\u001b[0m\u001b[37m\u001b[0m \u001b[1m1s\u001b[0m 57ms/step\n"
     ]
    },
    {
     "name": "stderr",
     "output_type": "stream",
     "text": [
      "[I 2025-08-23 04:30:42,981] Trial 0 finished with value: 0.006034536038549319 and parameters: {'lr': 0.0008304716512277068, 'hs': 18, 'dropout': 0.00040851360176610586}. Best is trial 0 with value: 0.006034536038549319.\n"
     ]
    },
    {
     "name": "stdout",
     "output_type": "stream",
     "text": [
      "\u001b[1m7/7\u001b[0m \u001b[32m━━━━━━━━━━━━━━━━━━━━\u001b[0m\u001b[37m\u001b[0m \u001b[1m1s\u001b[0m 57ms/step\n",
      "\u001b[1m7/7\u001b[0m \u001b[32m━━━━━━━━━━━━━━━━━━━━\u001b[0m\u001b[37m\u001b[0m \u001b[1m1s\u001b[0m 56ms/step\n",
      "\u001b[1m7/7\u001b[0m \u001b[32m━━━━━━━━━━━━━━━━━━━━\u001b[0m\u001b[37m\u001b[0m \u001b[1m1s\u001b[0m 56ms/step\n"
     ]
    },
    {
     "name": "stderr",
     "output_type": "stream",
     "text": [
      "[I 2025-08-23 04:31:05,337] Trial 1 finished with value: 0.11910376342474992 and parameters: {'lr': 0.0008675646091637449, 'hs': 31, 'dropout': 0.007122811666085183}. Best is trial 0 with value: 0.006034536038549319.\n"
     ]
    },
    {
     "name": "stdout",
     "output_type": "stream",
     "text": [
      "\u001b[1m7/7\u001b[0m \u001b[32m━━━━━━━━━━━━━━━━━━━━\u001b[0m\u001b[37m\u001b[0m \u001b[1m1s\u001b[0m 64ms/step\n",
      "\u001b[1m7/7\u001b[0m \u001b[32m━━━━━━━━━━━━━━━━━━━━\u001b[0m\u001b[37m\u001b[0m \u001b[1m1s\u001b[0m 59ms/step\n",
      "\u001b[1m7/7\u001b[0m \u001b[32m━━━━━━━━━━━━━━━━━━━━\u001b[0m\u001b[37m\u001b[0m \u001b[1m1s\u001b[0m 60ms/step\n"
     ]
    },
    {
     "name": "stderr",
     "output_type": "stream",
     "text": [
      "[I 2025-08-23 04:31:30,454] Trial 2 finished with value: 0.009678143657013773 and parameters: {'lr': 0.007267643927318037, 'hs': 22, 'dropout': 0.0025495876841571956}. Best is trial 0 with value: 0.006034536038549319.\n"
     ]
    },
    {
     "name": "stdout",
     "output_type": "stream",
     "text": [
      "\u001b[1m7/7\u001b[0m \u001b[32m━━━━━━━━━━━━━━━━━━━━\u001b[0m\u001b[37m\u001b[0m \u001b[1m1s\u001b[0m 57ms/step\n",
      "\u001b[1m7/7\u001b[0m \u001b[32m━━━━━━━━━━━━━━━━━━━━\u001b[0m\u001b[37m\u001b[0m \u001b[1m1s\u001b[0m 58ms/step\n",
      "\u001b[1m7/7\u001b[0m \u001b[32m━━━━━━━━━━━━━━━━━━━━\u001b[0m\u001b[37m\u001b[0m \u001b[1m1s\u001b[0m 59ms/step\n"
     ]
    },
    {
     "name": "stderr",
     "output_type": "stream",
     "text": [
      "[I 2025-08-23 04:31:53,448] Trial 3 finished with value: 0.09947279232358781 and parameters: {'lr': 0.0006525348299683365, 'hs': 4, 'dropout': 0.0008380262024045072}. Best is trial 0 with value: 0.006034536038549319.\n"
     ]
    },
    {
     "name": "stdout",
     "output_type": "stream",
     "text": [
      "\u001b[1m7/7\u001b[0m \u001b[32m━━━━━━━━━━━━━━━━━━━━\u001b[0m\u001b[37m\u001b[0m \u001b[1m1s\u001b[0m 57ms/step\n",
      "\u001b[1m7/7\u001b[0m \u001b[32m━━━━━━━━━━━━━━━━━━━━\u001b[0m\u001b[37m\u001b[0m \u001b[1m1s\u001b[0m 57ms/step\n",
      "\u001b[1m7/7\u001b[0m \u001b[32m━━━━━━━━━━━━━━━━━━━━\u001b[0m\u001b[37m\u001b[0m \u001b[1m1s\u001b[0m 57ms/step\n"
     ]
    },
    {
     "name": "stderr",
     "output_type": "stream",
     "text": [
      "[I 2025-08-23 04:32:14,084] Trial 4 finished with value: 0.0038394973554949845 and parameters: {'lr': 0.005357275488263267, 'hs': 27, 'dropout': 6.705211503439041e-05}. Best is trial 4 with value: 0.0038394973554949845.\n"
     ]
    },
    {
     "name": "stdout",
     "output_type": "stream",
     "text": [
      "\u001b[1m7/7\u001b[0m \u001b[32m━━━━━━━━━━━━━━━━━━━━\u001b[0m\u001b[37m\u001b[0m \u001b[1m1s\u001b[0m 57ms/step\n",
      "\u001b[1m7/7\u001b[0m \u001b[32m━━━━━━━━━━━━━━━━━━━━\u001b[0m\u001b[37m\u001b[0m \u001b[1m1s\u001b[0m 57ms/step\n",
      "\u001b[1m7/7\u001b[0m \u001b[32m━━━━━━━━━━━━━━━━━━━━\u001b[0m\u001b[37m\u001b[0m \u001b[1m1s\u001b[0m 57ms/step\n"
     ]
    },
    {
     "name": "stderr",
     "output_type": "stream",
     "text": [
      "[I 2025-08-23 04:32:36,412] Trial 5 finished with value: 0.008912057420916481 and parameters: {'lr': 0.0004480781143010768, 'hs': 27, 'dropout': 0.00810448091495268}. Best is trial 4 with value: 0.0038394973554949845.\n"
     ]
    },
    {
     "name": "stdout",
     "output_type": "stream",
     "text": [
      "\u001b[1m7/7\u001b[0m \u001b[32m━━━━━━━━━━━━━━━━━━━━\u001b[0m\u001b[37m\u001b[0m \u001b[1m1s\u001b[0m 57ms/step\n",
      "\u001b[1m7/7\u001b[0m \u001b[32m━━━━━━━━━━━━━━━━━━━━\u001b[0m\u001b[37m\u001b[0m \u001b[1m1s\u001b[0m 57ms/step\n",
      "\u001b[1m7/7\u001b[0m \u001b[32m━━━━━━━━━━━━━━━━━━━━\u001b[0m\u001b[37m\u001b[0m \u001b[1m1s\u001b[0m 57ms/step\n"
     ]
    },
    {
     "name": "stderr",
     "output_type": "stream",
     "text": [
      "[I 2025-08-23 04:32:57,796] Trial 6 finished with value: 0.005414814507950565 and parameters: {'lr': 0.004318628649098153, 'hs': 12, 'dropout': 0.0013004891769265497}. Best is trial 4 with value: 0.0038394973554949845.\n"
     ]
    },
    {
     "name": "stdout",
     "output_type": "stream",
     "text": [
      "\u001b[1m7/7\u001b[0m \u001b[32m━━━━━━━━━━━━━━━━━━━━\u001b[0m\u001b[37m\u001b[0m \u001b[1m1s\u001b[0m 58ms/step\n",
      "\u001b[1m7/7\u001b[0m \u001b[32m━━━━━━━━━━━━━━━━━━━━\u001b[0m\u001b[37m\u001b[0m \u001b[1m1s\u001b[0m 57ms/step\n",
      "\u001b[1m7/7\u001b[0m \u001b[32m━━━━━━━━━━━━━━━━━━━━\u001b[0m\u001b[37m\u001b[0m \u001b[1m1s\u001b[0m 57ms/step\n"
     ]
    },
    {
     "name": "stderr",
     "output_type": "stream",
     "text": [
      "[I 2025-08-23 04:33:18,835] Trial 7 finished with value: 0.003193324747322989 and parameters: {'lr': 0.007656050772881985, 'hs': 5, 'dropout': 0.0018211826450343842}. Best is trial 7 with value: 0.003193324747322989.\n"
     ]
    },
    {
     "name": "stdout",
     "output_type": "stream",
     "text": [
      "\u001b[1m7/7\u001b[0m \u001b[32m━━━━━━━━━━━━━━━━━━━━\u001b[0m\u001b[37m\u001b[0m \u001b[1m1s\u001b[0m 56ms/step\n",
      "\u001b[1m7/7\u001b[0m \u001b[32m━━━━━━━━━━━━━━━━━━━━\u001b[0m\u001b[37m\u001b[0m \u001b[1m1s\u001b[0m 57ms/step\n",
      "\u001b[1m7/7\u001b[0m \u001b[32m━━━━━━━━━━━━━━━━━━━━\u001b[0m\u001b[37m\u001b[0m \u001b[1m1s\u001b[0m 56ms/step\n"
     ]
    },
    {
     "name": "stderr",
     "output_type": "stream",
     "text": [
      "[I 2025-08-23 04:33:41,658] Trial 8 finished with value: 0.05031035768213319 and parameters: {'lr': 0.003095329057858103, 'hs': 15, 'dropout': 0.0038982676555290516}. Best is trial 7 with value: 0.003193324747322989.\n"
     ]
    },
    {
     "name": "stdout",
     "output_type": "stream",
     "text": [
      "\u001b[1m7/7\u001b[0m \u001b[32m━━━━━━━━━━━━━━━━━━━━\u001b[0m\u001b[37m\u001b[0m \u001b[1m1s\u001b[0m 63ms/step\n",
      "\u001b[1m7/7\u001b[0m \u001b[32m━━━━━━━━━━━━━━━━━━━━\u001b[0m\u001b[37m\u001b[0m \u001b[1m1s\u001b[0m 60ms/step\n",
      "\u001b[1m7/7\u001b[0m \u001b[32m━━━━━━━━━━━━━━━━━━━━\u001b[0m\u001b[37m\u001b[0m \u001b[1m1s\u001b[0m 59ms/step\n"
     ]
    },
    {
     "name": "stderr",
     "output_type": "stream",
     "text": [
      "[I 2025-08-23 04:34:08,797] Trial 9 finished with value: 0.003920042154046766 and parameters: {'lr': 0.00694888580037167, 'hs': 20, 'dropout': 0.009208700598069754}. Best is trial 7 with value: 0.003193324747322989.\n"
     ]
    },
    {
     "name": "stdout",
     "output_type": "stream",
     "text": [
      "\u001b[1m7/7\u001b[0m \u001b[32m━━━━━━━━━━━━━━━━━━━━\u001b[0m\u001b[37m\u001b[0m \u001b[1m1s\u001b[0m 59ms/step\n",
      "\u001b[1m7/7\u001b[0m \u001b[32m━━━━━━━━━━━━━━━━━━━━\u001b[0m\u001b[37m\u001b[0m \u001b[1m1s\u001b[0m 59ms/step\n",
      "\u001b[1m7/7\u001b[0m \u001b[32m━━━━━━━━━━━━━━━━━━━━\u001b[0m\u001b[37m\u001b[0m \u001b[1m1s\u001b[0m 58ms/step\n"
     ]
    },
    {
     "name": "stderr",
     "output_type": "stream",
     "text": [
      "[I 2025-08-23 04:34:30,854] Trial 10 finished with value: 0.004496179691163631 and parameters: {'lr': 0.009814746520185285, 'hs': 2, 'dropout': 0.00554577825644381}. Best is trial 7 with value: 0.003193324747322989.\n"
     ]
    },
    {
     "name": "stdout",
     "output_type": "stream",
     "text": [
      "\u001b[1m7/7\u001b[0m \u001b[32m━━━━━━━━━━━━━━━━━━━━\u001b[0m\u001b[37m\u001b[0m \u001b[1m1s\u001b[0m 57ms/step\n",
      "\u001b[1m7/7\u001b[0m \u001b[32m━━━━━━━━━━━━━━━━━━━━\u001b[0m\u001b[37m\u001b[0m \u001b[1m1s\u001b[0m 57ms/step\n",
      "\u001b[1m7/7\u001b[0m \u001b[32m━━━━━━━━━━━━━━━━━━━━\u001b[0m\u001b[37m\u001b[0m \u001b[1m1s\u001b[0m 57ms/step\n"
     ]
    },
    {
     "name": "stderr",
     "output_type": "stream",
     "text": [
      "[I 2025-08-23 04:34:53,319] Trial 11 finished with value: 0.10800429317247563 and parameters: {'lr': 0.006780638895078373, 'hs': 10, 'dropout': 0.0028440144912844426}. Best is trial 7 with value: 0.003193324747322989.\n"
     ]
    },
    {
     "name": "stdout",
     "output_type": "stream",
     "text": [
      "\u001b[1m7/7\u001b[0m \u001b[32m━━━━━━━━━━━━━━━━━━━━\u001b[0m\u001b[37m\u001b[0m \u001b[1m1s\u001b[0m 58ms/step\n",
      "\u001b[1m7/7\u001b[0m \u001b[32m━━━━━━━━━━━━━━━━━━━━\u001b[0m\u001b[37m\u001b[0m \u001b[1m1s\u001b[0m 56ms/step\n",
      "\u001b[1m7/7\u001b[0m \u001b[32m━━━━━━━━━━━━━━━━━━━━\u001b[0m\u001b[37m\u001b[0m \u001b[1m1s\u001b[0m 57ms/step\n"
     ]
    },
    {
     "name": "stderr",
     "output_type": "stream",
     "text": [
      "[I 2025-08-23 04:35:13,956] Trial 12 finished with value: 0.026000643772144155 and parameters: {'lr': 0.008970313432062916, 'hs': 25, 'dropout': 9.755593055018272e-05}. Best is trial 7 with value: 0.003193324747322989.\n"
     ]
    },
    {
     "name": "stdout",
     "output_type": "stream",
     "text": [
      "\u001b[1m7/7\u001b[0m \u001b[32m━━━━━━━━━━━━━━━━━━━━\u001b[0m\u001b[37m\u001b[0m \u001b[1m1s\u001b[0m 57ms/step\n",
      "\u001b[1m7/7\u001b[0m \u001b[32m━━━━━━━━━━━━━━━━━━━━\u001b[0m\u001b[37m\u001b[0m \u001b[1m1s\u001b[0m 57ms/step\n",
      "\u001b[1m7/7\u001b[0m \u001b[32m━━━━━━━━━━━━━━━━━━━━\u001b[0m\u001b[37m\u001b[0m \u001b[1m1s\u001b[0m 58ms/step\n"
     ]
    },
    {
     "name": "stderr",
     "output_type": "stream",
     "text": [
      "[I 2025-08-23 04:35:36,180] Trial 13 finished with value: 0.027176730762220543 and parameters: {'lr': 0.005254860032975792, 'hs': 7, 'dropout': 0.0018282595371197678}. Best is trial 7 with value: 0.003193324747322989.\n"
     ]
    },
    {
     "name": "stdout",
     "output_type": "stream",
     "text": [
      "\u001b[1m7/7\u001b[0m \u001b[32m━━━━━━━━━━━━━━━━━━━━\u001b[0m\u001b[37m\u001b[0m \u001b[1m1s\u001b[0m 57ms/step\n",
      "\u001b[1m7/7\u001b[0m \u001b[32m━━━━━━━━━━━━━━━━━━━━\u001b[0m\u001b[37m\u001b[0m \u001b[1m1s\u001b[0m 60ms/step\n",
      "\u001b[1m7/7\u001b[0m \u001b[32m━━━━━━━━━━━━━━━━━━━━\u001b[0m\u001b[37m\u001b[0m \u001b[1m1s\u001b[0m 57ms/step\n"
     ]
    },
    {
     "name": "stderr",
     "output_type": "stream",
     "text": [
      "[I 2025-08-23 04:35:58,078] Trial 14 finished with value: 0.03747616248787309 and parameters: {'lr': 0.005373435491964787, 'hs': 29, 'dropout': 0.004501342884374446}. Best is trial 7 with value: 0.003193324747322989.\n"
     ]
    },
    {
     "name": "stdout",
     "output_type": "stream",
     "text": [
      "\u001b[1m7/7\u001b[0m \u001b[32m━━━━━━━━━━━━━━━━━━━━\u001b[0m\u001b[37m\u001b[0m \u001b[1m1s\u001b[0m 56ms/step\n",
      "\u001b[1m7/7\u001b[0m \u001b[32m━━━━━━━━━━━━━━━━━━━━\u001b[0m\u001b[37m\u001b[0m \u001b[1m1s\u001b[0m 57ms/step\n",
      "\u001b[1m7/7\u001b[0m \u001b[32m━━━━━━━━━━━━━━━━━━━━\u001b[0m\u001b[37m\u001b[0m \u001b[1m1s\u001b[0m 58ms/step\n"
     ]
    },
    {
     "name": "stderr",
     "output_type": "stream",
     "text": [
      "[I 2025-08-23 04:36:20,506] Trial 15 finished with value: 0.14932466413343526 and parameters: {'lr': 0.008225711686994246, 'hs': 24, 'dropout': 0.0031862773643356996}. Best is trial 7 with value: 0.003193324747322989.\n"
     ]
    },
    {
     "name": "stdout",
     "output_type": "stream",
     "text": [
      "\u001b[1m7/7\u001b[0m \u001b[32m━━━━━━━━━━━━━━━━━━━━\u001b[0m\u001b[37m\u001b[0m \u001b[1m1s\u001b[0m 56ms/step\n",
      "\u001b[1m7/7\u001b[0m \u001b[32m━━━━━━━━━━━━━━━━━━━━\u001b[0m\u001b[37m\u001b[0m \u001b[1m1s\u001b[0m 57ms/step\n",
      "\u001b[1m7/7\u001b[0m \u001b[32m━━━━━━━━━━━━━━━━━━━━\u001b[0m\u001b[37m\u001b[0m \u001b[1m1s\u001b[0m 57ms/step\n"
     ]
    },
    {
     "name": "stderr",
     "output_type": "stream",
     "text": [
      "[I 2025-08-23 04:36:42,859] Trial 16 finished with value: 0.024955636683953866 and parameters: {'lr': 0.00321884774871988, 'hs': 15, 'dropout': 0.005304868659209207}. Best is trial 7 with value: 0.003193324747322989.\n"
     ]
    },
    {
     "name": "stdout",
     "output_type": "stream",
     "text": [
      "\u001b[1m7/7\u001b[0m \u001b[32m━━━━━━━━━━━━━━━━━━━━\u001b[0m\u001b[37m\u001b[0m \u001b[1m1s\u001b[0m 57ms/step\n",
      "\u001b[1m7/7\u001b[0m \u001b[32m━━━━━━━━━━━━━━━━━━━━\u001b[0m\u001b[37m\u001b[0m \u001b[1m1s\u001b[0m 64ms/step\n",
      "\u001b[1m7/7\u001b[0m \u001b[32m━━━━━━━━━━━━━━━━━━━━\u001b[0m\u001b[37m\u001b[0m \u001b[1m1s\u001b[0m 61ms/step\n"
     ]
    },
    {
     "name": "stderr",
     "output_type": "stream",
     "text": [
      "[I 2025-08-23 04:37:10,263] Trial 17 finished with value: 0.11316710193526784 and parameters: {'lr': 0.005899281017600845, 'hs': 32, 'dropout': 0.001554274043305545}. Best is trial 7 with value: 0.003193324747322989.\n"
     ]
    },
    {
     "name": "stdout",
     "output_type": "stream",
     "text": [
      "\u001b[1m7/7\u001b[0m \u001b[32m━━━━━━━━━━━━━━━━━━━━\u001b[0m\u001b[37m\u001b[0m \u001b[1m1s\u001b[0m 60ms/step\n",
      "\u001b[1m7/7\u001b[0m \u001b[32m━━━━━━━━━━━━━━━━━━━━\u001b[0m\u001b[37m\u001b[0m \u001b[1m1s\u001b[0m 57ms/step\n",
      "\u001b[1m7/7\u001b[0m \u001b[32m━━━━━━━━━━━━━━━━━━━━\u001b[0m\u001b[37m\u001b[0m \u001b[1m1s\u001b[0m 92ms/step\n"
     ]
    },
    {
     "name": "stderr",
     "output_type": "stream",
     "text": [
      "[I 2025-08-23 04:37:33,931] Trial 18 finished with value: 0.12334536750824228 and parameters: {'lr': 0.00389304090712007, 'hs': 8, 'dropout': 0.006351943778390198}. Best is trial 7 with value: 0.003193324747322989.\n"
     ]
    },
    {
     "name": "stdout",
     "output_type": "stream",
     "text": [
      "\u001b[1m7/7\u001b[0m \u001b[32m━━━━━━━━━━━━━━━━━━━━\u001b[0m\u001b[37m\u001b[0m \u001b[1m1s\u001b[0m 57ms/step\n",
      "\u001b[1m7/7\u001b[0m \u001b[32m━━━━━━━━━━━━━━━━━━━━\u001b[0m\u001b[37m\u001b[0m \u001b[1m1s\u001b[0m 57ms/step\n",
      "\u001b[1m7/7\u001b[0m \u001b[32m━━━━━━━━━━━━━━━━━━━━\u001b[0m\u001b[37m\u001b[0m \u001b[1m1s\u001b[0m 57ms/step\n"
     ]
    },
    {
     "name": "stderr",
     "output_type": "stream",
     "text": [
      "[I 2025-08-23 04:37:55,049] Trial 19 finished with value: 0.05844087150318971 and parameters: {'lr': 0.008112871197634115, 'hs': 18, 'dropout': 2.9853592225251505e-05}. Best is trial 7 with value: 0.003193324747322989.\n"
     ]
    },
    {
     "name": "stdout",
     "output_type": "stream",
     "text": [
      "\u001b[1m7/7\u001b[0m \u001b[32m━━━━━━━━━━━━━━━━━━━━\u001b[0m\u001b[37m\u001b[0m \u001b[1m1s\u001b[0m 58ms/step\n",
      "\u001b[1m7/7\u001b[0m \u001b[32m━━━━━━━━━━━━━━━━━━━━\u001b[0m\u001b[37m\u001b[0m \u001b[1m1s\u001b[0m 57ms/step\n",
      "\u001b[1m7/7\u001b[0m \u001b[32m━━━━━━━━━━━━━━━━━━━━\u001b[0m\u001b[37m\u001b[0m \u001b[1m1s\u001b[0m 56ms/step\n"
     ]
    },
    {
     "name": "stderr",
     "output_type": "stream",
     "text": [
      "[I 2025-08-23 04:38:17,383] Trial 20 finished with value: 0.027101752475831603 and parameters: {'lr': 0.0021750902943334276, 'hs': 13, 'dropout': 0.002376293271746322}. Best is trial 7 with value: 0.003193324747322989.\n"
     ]
    },
    {
     "name": "stdout",
     "output_type": "stream",
     "text": [
      "\u001b[1m7/7\u001b[0m \u001b[32m━━━━━━━━━━━━━━━━━━━━\u001b[0m\u001b[37m\u001b[0m \u001b[1m1s\u001b[0m 58ms/step\n",
      "\u001b[1m7/7\u001b[0m \u001b[32m━━━━━━━━━━━━━━━━━━━━\u001b[0m\u001b[37m\u001b[0m \u001b[1m1s\u001b[0m 56ms/step\n",
      "\u001b[1m7/7\u001b[0m \u001b[32m━━━━━━━━━━━━━━━━━━━━\u001b[0m\u001b[37m\u001b[0m \u001b[1m1s\u001b[0m 58ms/step\n"
     ]
    },
    {
     "name": "stderr",
     "output_type": "stream",
     "text": [
      "[I 2025-08-23 04:38:39,442] Trial 21 finished with value: 0.016802289683644746 and parameters: {'lr': 0.006768003801428629, 'hs': 21, 'dropout': 0.009947312049340521}. Best is trial 7 with value: 0.003193324747322989.\n"
     ]
    },
    {
     "name": "stdout",
     "output_type": "stream",
     "text": [
      "\u001b[1m7/7\u001b[0m \u001b[32m━━━━━━━━━━━━━━━━━━━━\u001b[0m\u001b[37m\u001b[0m \u001b[1m1s\u001b[0m 57ms/step\n",
      "\u001b[1m7/7\u001b[0m \u001b[32m━━━━━━━━━━━━━━━━━━━━\u001b[0m\u001b[37m\u001b[0m \u001b[1m1s\u001b[0m 57ms/step\n",
      "\u001b[1m7/7\u001b[0m \u001b[32m━━━━━━━━━━━━━━━━━━━━\u001b[0m\u001b[37m\u001b[0m \u001b[1m1s\u001b[0m 57ms/step\n"
     ]
    },
    {
     "name": "stderr",
     "output_type": "stream",
     "text": [
      "[I 2025-08-23 04:39:01,254] Trial 22 finished with value: 0.004543465548644599 and parameters: {'lr': 0.006311598542368636, 'hs': 21, 'dropout': 0.009367790063394965}. Best is trial 7 with value: 0.003193324747322989.\n"
     ]
    },
    {
     "name": "stdout",
     "output_type": "stream",
     "text": [
      "\u001b[1m7/7\u001b[0m \u001b[32m━━━━━━━━━━━━━━━━━━━━\u001b[0m\u001b[37m\u001b[0m \u001b[1m1s\u001b[0m 57ms/step\n",
      "\u001b[1m7/7\u001b[0m \u001b[32m━━━━━━━━━━━━━━━━━━━━\u001b[0m\u001b[37m\u001b[0m \u001b[1m1s\u001b[0m 57ms/step\n",
      "\u001b[1m7/7\u001b[0m \u001b[32m━━━━━━━━━━━━━━━━━━━━\u001b[0m\u001b[37m\u001b[0m \u001b[1m1s\u001b[0m 59ms/step\n"
     ]
    },
    {
     "name": "stderr",
     "output_type": "stream",
     "text": [
      "[I 2025-08-23 04:39:23,569] Trial 23 finished with value: 0.04044357819975172 and parameters: {'lr': 0.007717513355842418, 'hs': 27, 'dropout': 0.008287253333510181}. Best is trial 7 with value: 0.003193324747322989.\n"
     ]
    },
    {
     "name": "stdout",
     "output_type": "stream",
     "text": [
      "\u001b[1m7/7\u001b[0m \u001b[32m━━━━━━━━━━━━━━━━━━━━\u001b[0m\u001b[37m\u001b[0m \u001b[1m1s\u001b[0m 56ms/step\n",
      "\u001b[1m7/7\u001b[0m \u001b[32m━━━━━━━━━━━━━━━━━━━━\u001b[0m\u001b[37m\u001b[0m \u001b[1m1s\u001b[0m 57ms/step\n",
      "\u001b[1m7/7\u001b[0m \u001b[32m━━━━━━━━━━━━━━━━━━━━\u001b[0m\u001b[37m\u001b[0m \u001b[1m1s\u001b[0m 57ms/step\n"
     ]
    },
    {
     "name": "stderr",
     "output_type": "stream",
     "text": [
      "[I 2025-08-23 04:39:44,499] Trial 24 finished with value: 0.004357094198869342 and parameters: {'lr': 0.009016921368647287, 'hs': 19, 'dropout': 0.0036828246424163197}. Best is trial 7 with value: 0.003193324747322989.\n"
     ]
    },
    {
     "name": "stdout",
     "output_type": "stream",
     "text": [
      "\u001b[1m7/7\u001b[0m \u001b[32m━━━━━━━━━━━━━━━━━━━━\u001b[0m\u001b[37m\u001b[0m \u001b[1m1s\u001b[0m 57ms/step\n",
      "\u001b[1m7/7\u001b[0m \u001b[32m━━━━━━━━━━━━━━━━━━━━\u001b[0m\u001b[37m\u001b[0m \u001b[1m1s\u001b[0m 56ms/step\n",
      "\u001b[1m7/7\u001b[0m \u001b[32m━━━━━━━━━━━━━━━━━━━━\u001b[0m\u001b[37m\u001b[0m \u001b[1m1s\u001b[0m 57ms/step\n"
     ]
    },
    {
     "name": "stderr",
     "output_type": "stream",
     "text": [
      "[I 2025-08-23 04:40:06,219] Trial 25 finished with value: 0.006283494946040534 and parameters: {'lr': 0.004722741071270735, 'hs': 24, 'dropout': 0.0063551730898296285}. Best is trial 7 with value: 0.003193324747322989.\n"
     ]
    },
    {
     "name": "stdout",
     "output_type": "stream",
     "text": [
      "\u001b[1m7/7\u001b[0m \u001b[32m━━━━━━━━━━━━━━━━━━━━\u001b[0m\u001b[37m\u001b[0m \u001b[1m1s\u001b[0m 57ms/step\n",
      "\u001b[1m7/7\u001b[0m \u001b[32m━━━━━━━━━━━━━━━━━━━━\u001b[0m\u001b[37m\u001b[0m \u001b[1m1s\u001b[0m 57ms/step\n",
      "\u001b[1m7/7\u001b[0m \u001b[32m━━━━━━━━━━━━━━━━━━━━\u001b[0m\u001b[37m\u001b[0m \u001b[1m1s\u001b[0m 57ms/step\n"
     ]
    },
    {
     "name": "stderr",
     "output_type": "stream",
     "text": [
      "[I 2025-08-23 04:40:27,711] Trial 26 finished with value: 0.013760528749876835 and parameters: {'lr': 0.005770495422022282, 'hs': 27, 'dropout': 0.001085317402583644}. Best is trial 7 with value: 0.003193324747322989.\n"
     ]
    },
    {
     "name": "stdout",
     "output_type": "stream",
     "text": [
      "\u001b[1m7/7\u001b[0m \u001b[32m━━━━━━━━━━━━━━━━━━━━\u001b[0m\u001b[37m\u001b[0m \u001b[1m1s\u001b[0m 63ms/step\n",
      "\u001b[1m7/7\u001b[0m \u001b[32m━━━━━━━━━━━━━━━━━━━━\u001b[0m\u001b[37m\u001b[0m \u001b[1m1s\u001b[0m 62ms/step\n",
      "\u001b[1m7/7\u001b[0m \u001b[32m━━━━━━━━━━━━━━━━━━━━\u001b[0m\u001b[37m\u001b[0m \u001b[1m1s\u001b[0m 61ms/step\n"
     ]
    },
    {
     "name": "stderr",
     "output_type": "stream",
     "text": [
      "[I 2025-08-23 04:40:57,687] Trial 27 finished with value: 0.0303820789523935 and parameters: {'lr': 0.007076583615213174, 'hs': 6, 'dropout': 0.008515934126517669}. Best is trial 7 with value: 0.003193324747322989.\n"
     ]
    },
    {
     "name": "stdout",
     "output_type": "stream",
     "text": [
      "\u001b[1m7/7\u001b[0m \u001b[32m━━━━━━━━━━━━━━━━━━━━\u001b[0m\u001b[37m\u001b[0m \u001b[1m1s\u001b[0m 58ms/step\n",
      "\u001b[1m7/7\u001b[0m \u001b[32m━━━━━━━━━━━━━━━━━━━━\u001b[0m\u001b[37m\u001b[0m \u001b[1m1s\u001b[0m 63ms/step\n",
      "\u001b[1m7/7\u001b[0m \u001b[32m━━━━━━━━━━━━━━━━━━━━\u001b[0m\u001b[37m\u001b[0m \u001b[1m1s\u001b[0m 58ms/step\n"
     ]
    },
    {
     "name": "stderr",
     "output_type": "stream",
     "text": [
      "[I 2025-08-23 04:41:20,308] Trial 28 finished with value: 0.05282101189941702 and parameters: {'lr': 0.008804569414806559, 'hs': 15, 'dropout': 0.0019399738210930148}. Best is trial 7 with value: 0.003193324747322989.\n"
     ]
    },
    {
     "name": "stdout",
     "output_type": "stream",
     "text": [
      "\u001b[1m7/7\u001b[0m \u001b[32m━━━━━━━━━━━━━━━━━━━━\u001b[0m\u001b[37m\u001b[0m \u001b[1m1s\u001b[0m 57ms/step\n",
      "\u001b[1m7/7\u001b[0m \u001b[32m━━━━━━━━━━━━━━━━━━━━\u001b[0m\u001b[37m\u001b[0m \u001b[1m1s\u001b[0m 58ms/step\n",
      "\u001b[1m7/7\u001b[0m \u001b[32m━━━━━━━━━━━━━━━━━━━━\u001b[0m\u001b[37m\u001b[0m \u001b[1m1s\u001b[0m 57ms/step\n"
     ]
    },
    {
     "name": "stderr",
     "output_type": "stream",
     "text": [
      "[I 2025-08-23 04:41:41,717] Trial 29 finished with value: 0.03259269042460224 and parameters: {'lr': 0.006428527470403489, 'hs': 17, 'dropout': 0.0006285480183123035}. Best is trial 7 with value: 0.003193324747322989.\n"
     ]
    },
    {
     "name": "stdout",
     "output_type": "stream",
     "text": [
      "\u001b[1m7/7\u001b[0m \u001b[32m━━━━━━━━━━━━━━━━━━━━\u001b[0m\u001b[37m\u001b[0m \u001b[1m1s\u001b[0m 56ms/step\n",
      "\u001b[1m7/7\u001b[0m \u001b[32m━━━━━━━━━━━━━━━━━━━━\u001b[0m\u001b[37m\u001b[0m \u001b[1m1s\u001b[0m 56ms/step\n",
      "\u001b[1m7/7\u001b[0m \u001b[32m━━━━━━━━━━━━━━━━━━━━\u001b[0m\u001b[37m\u001b[0m \u001b[1m1s\u001b[0m 57ms/step\n"
     ]
    },
    {
     "name": "stderr",
     "output_type": "stream",
     "text": [
      "[I 2025-08-23 04:42:03,640] Trial 30 finished with value: 0.13303108424830193 and parameters: {'lr': 0.009775764001829598, 'hs': 10, 'dropout': 0.0037641050407044}. Best is trial 7 with value: 0.003193324747322989.\n"
     ]
    },
    {
     "name": "stdout",
     "output_type": "stream",
     "text": [
      "\u001b[1m7/7\u001b[0m \u001b[32m━━━━━━━━━━━━━━━━━━━━\u001b[0m\u001b[37m\u001b[0m \u001b[1m1s\u001b[0m 57ms/step\n",
      "\u001b[1m7/7\u001b[0m \u001b[32m━━━━━━━━━━━━━━━━━━━━\u001b[0m\u001b[37m\u001b[0m \u001b[1m1s\u001b[0m 56ms/step\n",
      "\u001b[1m7/7\u001b[0m \u001b[32m━━━━━━━━━━━━━━━━━━━━\u001b[0m\u001b[37m\u001b[0m \u001b[1m1s\u001b[0m 57ms/step\n"
     ]
    },
    {
     "name": "stderr",
     "output_type": "stream",
     "text": [
      "[I 2025-08-23 04:42:24,984] Trial 31 finished with value: 0.04428089923917625 and parameters: {'lr': 0.009066810663921163, 'hs': 19, 'dropout': 0.0036588900682660358}. Best is trial 7 with value: 0.003193324747322989.\n"
     ]
    },
    {
     "name": "stdout",
     "output_type": "stream",
     "text": [
      "\u001b[1m7/7\u001b[0m \u001b[32m━━━━━━━━━━━━━━━━━━━━\u001b[0m\u001b[37m\u001b[0m \u001b[1m1s\u001b[0m 56ms/step\n",
      "\u001b[1m7/7\u001b[0m \u001b[32m━━━━━━━━━━━━━━━━━━━━\u001b[0m\u001b[37m\u001b[0m \u001b[1m1s\u001b[0m 57ms/step\n",
      "\u001b[1m7/7\u001b[0m \u001b[32m━━━━━━━━━━━━━━━━━━━━\u001b[0m\u001b[37m\u001b[0m \u001b[1m1s\u001b[0m 56ms/step\n"
     ]
    },
    {
     "name": "stderr",
     "output_type": "stream",
     "text": [
      "[I 2025-08-23 04:42:46,831] Trial 32 finished with value: 0.047790094481004734 and parameters: {'lr': 0.007645696012820849, 'hs': 20, 'dropout': 0.004461255172977906}. Best is trial 7 with value: 0.003193324747322989.\n"
     ]
    },
    {
     "name": "stdout",
     "output_type": "stream",
     "text": [
      "\u001b[1m7/7\u001b[0m \u001b[32m━━━━━━━━━━━━━━━━━━━━\u001b[0m\u001b[37m\u001b[0m \u001b[1m1s\u001b[0m 58ms/step\n",
      "\u001b[1m7/7\u001b[0m \u001b[32m━━━━━━━━━━━━━━━━━━━━\u001b[0m\u001b[37m\u001b[0m \u001b[1m1s\u001b[0m 57ms/step\n",
      "\u001b[1m7/7\u001b[0m \u001b[32m━━━━━━━━━━━━━━━━━━━━\u001b[0m\u001b[37m\u001b[0m \u001b[1m1s\u001b[0m 56ms/step\n"
     ]
    },
    {
     "name": "stderr",
     "output_type": "stream",
     "text": [
      "[I 2025-08-23 04:43:07,338] Trial 33 finished with value: 0.028157853994918602 and parameters: {'lr': 0.008515858864218222, 'hs': 22, 'dropout': 0.0031472651294169917}. Best is trial 7 with value: 0.003193324747322989.\n"
     ]
    },
    {
     "name": "stdout",
     "output_type": "stream",
     "text": [
      "\u001b[1m7/7\u001b[0m \u001b[32m━━━━━━━━━━━━━━━━━━━━\u001b[0m\u001b[37m\u001b[0m \u001b[1m1s\u001b[0m 56ms/step\n",
      "\u001b[1m7/7\u001b[0m \u001b[32m━━━━━━━━━━━━━━━━━━━━\u001b[0m\u001b[37m\u001b[0m \u001b[1m1s\u001b[0m 57ms/step\n",
      "\u001b[1m7/7\u001b[0m \u001b[32m━━━━━━━━━━━━━━━━━━━━\u001b[0m\u001b[37m\u001b[0m \u001b[1m1s\u001b[0m 56ms/step\n"
     ]
    },
    {
     "name": "stderr",
     "output_type": "stream",
     "text": [
      "[I 2025-08-23 04:43:28,203] Trial 34 finished with value: 0.07069639436010715 and parameters: {'lr': 0.007434218632785255, 'hs': 30, 'dropout': 0.000699619548796765}. Best is trial 7 with value: 0.003193324747322989.\n"
     ]
    },
    {
     "name": "stdout",
     "output_type": "stream",
     "text": [
      "\u001b[1m7/7\u001b[0m \u001b[32m━━━━━━━━━━━━━━━━━━━━\u001b[0m\u001b[37m\u001b[0m \u001b[1m1s\u001b[0m 57ms/step\n",
      "\u001b[1m7/7\u001b[0m \u001b[32m━━━━━━━━━━━━━━━━━━━━\u001b[0m\u001b[37m\u001b[0m \u001b[1m1s\u001b[0m 56ms/step\n",
      "\u001b[1m7/7\u001b[0m \u001b[32m━━━━━━━━━━━━━━━━━━━━\u001b[0m\u001b[37m\u001b[0m \u001b[1m1s\u001b[0m 57ms/step\n"
     ]
    },
    {
     "name": "stderr",
     "output_type": "stream",
     "text": [
      "[I 2025-08-23 04:43:48,964] Trial 35 finished with value: 0.003918182706044958 and parameters: {'lr': 0.00927556353117599, 'hs': 17, 'dropout': 0.0021942539161602065}. Best is trial 7 with value: 0.003193324747322989.\n"
     ]
    },
    {
     "name": "stdout",
     "output_type": "stream",
     "text": [
      "\u001b[1m7/7\u001b[0m \u001b[32m━━━━━━━━━━━━━━━━━━━━\u001b[0m\u001b[37m\u001b[0m \u001b[1m1s\u001b[0m 56ms/step\n",
      "\u001b[1m7/7\u001b[0m \u001b[32m━━━━━━━━━━━━━━━━━━━━\u001b[0m\u001b[37m\u001b[0m \u001b[1m1s\u001b[0m 57ms/step\n",
      "\u001b[1m7/7\u001b[0m \u001b[32m━━━━━━━━━━━━━━━━━━━━\u001b[0m\u001b[37m\u001b[0m \u001b[1m1s\u001b[0m 58ms/step\n"
     ]
    },
    {
     "name": "stderr",
     "output_type": "stream",
     "text": [
      "[I 2025-08-23 04:44:11,007] Trial 36 finished with value: 0.08134868756822307 and parameters: {'lr': 0.009536932584672196, 'hs': 4, 'dropout': 0.0022559110404420713}. Best is trial 7 with value: 0.003193324747322989.\n"
     ]
    },
    {
     "name": "stdout",
     "output_type": "stream",
     "text": [
      "\u001b[1m7/7\u001b[0m \u001b[32m━━━━━━━━━━━━━━━━━━━━\u001b[0m\u001b[37m\u001b[0m \u001b[1m1s\u001b[0m 57ms/step\n",
      "\u001b[1m7/7\u001b[0m \u001b[32m━━━━━━━━━━━━━━━━━━━━\u001b[0m\u001b[37m\u001b[0m \u001b[1m1s\u001b[0m 57ms/step\n",
      "\u001b[1m7/7\u001b[0m \u001b[32m━━━━━━━━━━━━━━━━━━━━\u001b[0m\u001b[37m\u001b[0m \u001b[1m1s\u001b[0m 57ms/step\n"
     ]
    },
    {
     "name": "stderr",
     "output_type": "stream",
     "text": [
      "[I 2025-08-23 04:44:32,443] Trial 37 finished with value: 0.0053757010436939695 and parameters: {'lr': 0.007894190998554545, 'hs': 25, 'dropout': 0.007206377696272912}. Best is trial 7 with value: 0.003193324747322989.\n"
     ]
    },
    {
     "name": "stdout",
     "output_type": "stream",
     "text": [
      "\u001b[1m7/7\u001b[0m \u001b[32m━━━━━━━━━━━━━━━━━━━━\u001b[0m\u001b[37m\u001b[0m \u001b[1m1s\u001b[0m 58ms/step\n",
      "\u001b[1m7/7\u001b[0m \u001b[32m━━━━━━━━━━━━━━━━━━━━\u001b[0m\u001b[37m\u001b[0m \u001b[1m7s\u001b[0m 1s/step  \n",
      "\u001b[1m7/7\u001b[0m \u001b[32m━━━━━━━━━━━━━━━━━━━━\u001b[0m\u001b[37m\u001b[0m \u001b[1m1s\u001b[0m 65ms/step\n"
     ]
    },
    {
     "name": "stderr",
     "output_type": "stream",
     "text": [
      "[I 2025-08-23 04:45:02,172] Trial 38 finished with value: 0.03478455471746887 and parameters: {'lr': 0.006065055242131386, 'hs': 13, 'dropout': 0.0012635711959252918}. Best is trial 7 with value: 0.003193324747322989.\n"
     ]
    },
    {
     "name": "stdout",
     "output_type": "stream",
     "text": [
      "\u001b[1m7/7\u001b[0m \u001b[32m━━━━━━━━━━━━━━━━━━━━\u001b[0m\u001b[37m\u001b[0m \u001b[1m1s\u001b[0m 60ms/step\n",
      "\u001b[1m7/7\u001b[0m \u001b[32m━━━━━━━━━━━━━━━━━━━━\u001b[0m\u001b[37m\u001b[0m \u001b[1m1s\u001b[0m 61ms/step\n",
      "\u001b[1m7/7\u001b[0m \u001b[32m━━━━━━━━━━━━━━━━━━━━\u001b[0m\u001b[37m\u001b[0m \u001b[1m1s\u001b[0m 61ms/step\n"
     ]
    },
    {
     "name": "stderr",
     "output_type": "stream",
     "text": [
      "[I 2025-08-23 04:45:25,975] Trial 39 finished with value: 0.004271264779113188 and parameters: {'lr': 0.00468407837713205, 'hs': 17, 'dropout': 0.007501464891466891}. Best is trial 7 with value: 0.003193324747322989.\n"
     ]
    },
    {
     "name": "stdout",
     "output_type": "stream",
     "text": [
      "\u001b[1m7/7\u001b[0m \u001b[32m━━━━━━━━━━━━━━━━━━━━\u001b[0m\u001b[37m\u001b[0m \u001b[1m1s\u001b[0m 59ms/step\n",
      "\u001b[1m7/7\u001b[0m \u001b[32m━━━━━━━━━━━━━━━━━━━━\u001b[0m\u001b[37m\u001b[0m \u001b[1m1s\u001b[0m 59ms/step\n",
      "\u001b[1m7/7\u001b[0m \u001b[32m━━━━━━━━━━━━━━━━━━━━\u001b[0m\u001b[37m\u001b[0m \u001b[1m1s\u001b[0m 57ms/step\n"
     ]
    },
    {
     "name": "stderr",
     "output_type": "stream",
     "text": [
      "[I 2025-08-23 04:45:49,506] Trial 40 finished with value: 0.09769519547929982 and parameters: {'lr': 0.0013931829347872235, 'hs': 29, 'dropout': 0.0027123167340596666}. Best is trial 7 with value: 0.003193324747322989.\n"
     ]
    },
    {
     "name": "stdout",
     "output_type": "stream",
     "text": [
      "\u001b[1m7/7\u001b[0m \u001b[32m━━━━━━━━━━━━━━━━━━━━\u001b[0m\u001b[37m\u001b[0m \u001b[1m1s\u001b[0m 58ms/step\n",
      "\u001b[1m7/7\u001b[0m \u001b[32m━━━━━━━━━━━━━━━━━━━━\u001b[0m\u001b[37m\u001b[0m \u001b[1m1s\u001b[0m 57ms/step\n",
      "\u001b[1m7/7\u001b[0m \u001b[32m━━━━━━━━━━━━━━━━━━━━\u001b[0m\u001b[37m\u001b[0m \u001b[1m1s\u001b[0m 58ms/step\n"
     ]
    },
    {
     "name": "stderr",
     "output_type": "stream",
     "text": [
      "[I 2025-08-23 04:46:11,918] Trial 41 finished with value: 0.03121183665961272 and parameters: {'lr': 0.004678091377307123, 'hs': 16, 'dropout': 0.007513491306463378}. Best is trial 7 with value: 0.003193324747322989.\n"
     ]
    },
    {
     "name": "stdout",
     "output_type": "stream",
     "text": [
      "\u001b[1m7/7\u001b[0m \u001b[32m━━━━━━━━━━━━━━━━━━━━\u001b[0m\u001b[37m\u001b[0m \u001b[1m1s\u001b[0m 57ms/step\n",
      "\u001b[1m7/7\u001b[0m \u001b[32m━━━━━━━━━━━━━━━━━━━━\u001b[0m\u001b[37m\u001b[0m \u001b[1m1s\u001b[0m 57ms/step\n",
      "\u001b[1m7/7\u001b[0m \u001b[32m━━━━━━━━━━━━━━━━━━━━\u001b[0m\u001b[37m\u001b[0m \u001b[1m1s\u001b[0m 58ms/step\n"
     ]
    },
    {
     "name": "stderr",
     "output_type": "stream",
     "text": [
      "[I 2025-08-23 04:46:34,484] Trial 42 finished with value: 0.006234431720339303 and parameters: {'lr': 0.0036774893463612573, 'hs': 10, 'dropout': 0.008744099972206727}. Best is trial 7 with value: 0.003193324747322989.\n"
     ]
    },
    {
     "name": "stdout",
     "output_type": "stream",
     "text": [
      "\u001b[1m7/7\u001b[0m \u001b[32m━━━━━━━━━━━━━━━━━━━━\u001b[0m\u001b[37m\u001b[0m \u001b[1m1s\u001b[0m 57ms/step\n",
      "\u001b[1m7/7\u001b[0m \u001b[32m━━━━━━━━━━━━━━━━━━━━\u001b[0m\u001b[37m\u001b[0m \u001b[1m1s\u001b[0m 56ms/step\n",
      "\u001b[1m7/7\u001b[0m \u001b[32m━━━━━━━━━━━━━━━━━━━━\u001b[0m\u001b[37m\u001b[0m \u001b[1m1s\u001b[0m 57ms/step\n"
     ]
    },
    {
     "name": "stderr",
     "output_type": "stream",
     "text": [
      "[I 2025-08-23 04:46:55,869] Trial 43 finished with value: 0.004062830609605634 and parameters: {'lr': 0.005587402993047801, 'hs': 12, 'dropout': 0.006305974314273867}. Best is trial 7 with value: 0.003193324747322989.\n"
     ]
    },
    {
     "name": "stdout",
     "output_type": "stream",
     "text": [
      "\u001b[1m7/7\u001b[0m \u001b[32m━━━━━━━━━━━━━━━━━━━━\u001b[0m\u001b[37m\u001b[0m \u001b[1m1s\u001b[0m 58ms/step\n",
      "\u001b[1m7/7\u001b[0m \u001b[32m━━━━━━━━━━━━━━━━━━━━\u001b[0m\u001b[37m\u001b[0m \u001b[1m1s\u001b[0m 57ms/step\n",
      "\u001b[1m7/7\u001b[0m \u001b[32m━━━━━━━━━━━━━━━━━━━━\u001b[0m\u001b[37m\u001b[0m \u001b[1m1s\u001b[0m 56ms/step\n"
     ]
    },
    {
     "name": "stderr",
     "output_type": "stream",
     "text": [
      "[I 2025-08-23 04:47:17,676] Trial 44 finished with value: 0.015115865484776754 and parameters: {'lr': 0.0055947001035286225, 'hs': 12, 'dropout': 0.006219999122024365}. Best is trial 7 with value: 0.003193324747322989.\n"
     ]
    },
    {
     "name": "stdout",
     "output_type": "stream",
     "text": [
      "\u001b[1m7/7\u001b[0m \u001b[32m━━━━━━━━━━━━━━━━━━━━\u001b[0m\u001b[37m\u001b[0m \u001b[1m1s\u001b[0m 57ms/step\n",
      "\u001b[1m7/7\u001b[0m \u001b[32m━━━━━━━━━━━━━━━━━━━━\u001b[0m\u001b[37m\u001b[0m \u001b[1m1s\u001b[0m 57ms/step\n",
      "\u001b[1m7/7\u001b[0m \u001b[32m━━━━━━━━━━━━━━━━━━━━\u001b[0m\u001b[37m\u001b[0m \u001b[1m1s\u001b[0m 56ms/step\n"
     ]
    },
    {
     "name": "stderr",
     "output_type": "stream",
     "text": [
      "[I 2025-08-23 04:47:38,900] Trial 45 finished with value: 0.058470500776923486 and parameters: {'lr': 0.006996346875691785, 'hs': 3, 'dropout': 0.004579083625606375}. Best is trial 7 with value: 0.003193324747322989.\n"
     ]
    },
    {
     "name": "stdout",
     "output_type": "stream",
     "text": [
      "\u001b[1m7/7\u001b[0m \u001b[32m━━━━━━━━━━━━━━━━━━━━\u001b[0m\u001b[37m\u001b[0m \u001b[1m1s\u001b[0m 57ms/step\n",
      "\u001b[1m7/7\u001b[0m \u001b[32m━━━━━━━━━━━━━━━━━━━━\u001b[0m\u001b[37m\u001b[0m \u001b[1m1s\u001b[0m 57ms/step\n",
      "\u001b[1m7/7\u001b[0m \u001b[32m━━━━━━━━━━━━━━━━━━━━\u001b[0m\u001b[37m\u001b[0m \u001b[1m1s\u001b[0m 57ms/step\n"
     ]
    },
    {
     "name": "stderr",
     "output_type": "stream",
     "text": [
      "[I 2025-08-23 04:47:59,688] Trial 46 finished with value: 0.0049290692201698115 and parameters: {'lr': 0.005204733580560068, 'hs': 5, 'dropout': 0.0003608453157888016}. Best is trial 7 with value: 0.003193324747322989.\n"
     ]
    },
    {
     "name": "stdout",
     "output_type": "stream",
     "text": [
      "\u001b[1m7/7\u001b[0m \u001b[32m━━━━━━━━━━━━━━━━━━━━\u001b[0m\u001b[37m\u001b[0m \u001b[1m1s\u001b[0m 56ms/step\n",
      "\u001b[1m7/7\u001b[0m \u001b[32m━━━━━━━━━━━━━━━━━━━━\u001b[0m\u001b[37m\u001b[0m \u001b[1m1s\u001b[0m 58ms/step\n",
      "\u001b[1m7/7\u001b[0m \u001b[32m━━━━━━━━━━━━━━━━━━━━\u001b[0m\u001b[37m\u001b[0m \u001b[1m1s\u001b[0m 57ms/step\n"
     ]
    },
    {
     "name": "stderr",
     "output_type": "stream",
     "text": [
      "[I 2025-08-23 04:48:22,050] Trial 47 finished with value: 0.14276978950375618 and parameters: {'lr': 0.006693655471999979, 'hs': 8, 'dropout': 0.0056577747119674685}. Best is trial 7 with value: 0.003193324747322989.\n"
     ]
    },
    {
     "name": "stdout",
     "output_type": "stream",
     "text": [
      "\u001b[1m7/7\u001b[0m \u001b[32m━━━━━━━━━━━━━━━━━━━━\u001b[0m\u001b[37m\u001b[0m \u001b[1m1s\u001b[0m 56ms/step\n",
      "\u001b[1m7/7\u001b[0m \u001b[32m━━━━━━━━━━━━━━━━━━━━\u001b[0m\u001b[37m\u001b[0m \u001b[1m1s\u001b[0m 56ms/step\n",
      "\u001b[1m7/7\u001b[0m \u001b[32m━━━━━━━━━━━━━━━━━━━━\u001b[0m\u001b[37m\u001b[0m \u001b[1m1s\u001b[0m 57ms/step\n"
     ]
    },
    {
     "name": "stderr",
     "output_type": "stream",
     "text": [
      "[I 2025-08-23 04:48:44,831] Trial 48 finished with value: 0.2130224327130491 and parameters: {'lr': 0.004087334607276333, 'hs': 23, 'dropout': 0.001686669779366094}. Best is trial 7 with value: 0.003193324747322989.\n"
     ]
    },
    {
     "name": "stdout",
     "output_type": "stream",
     "text": [
      "\u001b[1m7/7\u001b[0m \u001b[32m━━━━━━━━━━━━━━━━━━━━\u001b[0m\u001b[37m\u001b[0m \u001b[1m1s\u001b[0m 58ms/step\n",
      "\u001b[1m7/7\u001b[0m \u001b[32m━━━━━━━━━━━━━━━━━━━━\u001b[0m\u001b[37m\u001b[0m \u001b[1m1s\u001b[0m 56ms/step\n",
      "\u001b[1m7/7\u001b[0m \u001b[32m━━━━━━━━━━━━━━━━━━━━\u001b[0m\u001b[37m\u001b[0m \u001b[1m1s\u001b[0m 58ms/step\n"
     ]
    },
    {
     "name": "stderr",
     "output_type": "stream",
     "text": [
      "[I 2025-08-23 04:49:06,589] Trial 49 finished with value: 0.01737380534398426 and parameters: {'lr': 0.008252115486885453, 'hs': 11, 'dropout': 0.008966401355487779}. Best is trial 7 with value: 0.003193324747322989.\n"
     ]
    },
    {
     "name": "stdout",
     "output_type": "stream",
     "text": [
      "\u001b[1m10/10\u001b[0m \u001b[32m━━━━━━━━━━━━━━━━━━━━\u001b[0m\u001b[37m\u001b[0m \u001b[1m1s\u001b[0m 38ms/step\n",
      "('TKAN', 2.7461739803763886e+18, 1417101712.8852923, -2.9323622283000943)\n"
     ]
    }
   ],
   "source": [
    "from sklearn.model_selection import train_test_split\n",
    "from tensorflow.keras.callbacks import ModelCheckpoint, ReduceLROnPlateau\n",
    "from tensorflow.keras import regularizers\n",
    "from tkan import TKAN\n",
    "from tensorflow.keras.models import load_model\n",
    "from tensorflow.keras import ops\n",
    "from tensorflow.keras import Loss\n",
    "from tensorflow import keras\n",
    "#np.bool = np.bool_\n",
    "\n",
    "from sklearn.model_selection import KFold\n",
    "#xgb.set_config(verbosity=2)\n",
    "targs = []\n",
    "datas = []\n",
    "\n",
    "for c, y in cluster_year:\n",
    "    for j,k in cluster_year[c,y][1]:\n",
    "        targs += [cluster_year[c,y][1][j,k][1]]\n",
    "        datas += [cluster_year[c,y][1][j,k][0]]\n",
    "\n",
    "X = np.vstack(datas).reshape(-1,5,4)\n",
    "y = np.vstack(targs)\n",
    "\n",
    "X_train, X_test, ynn_train,ynn_test = train_test_split(X,y,test_size = 0.33)\n",
    "\n",
    "def make_modelLSTM(input_shape, hidden_size, dropout):\n",
    "    input_layer = tf.keras.layers.Input(input_shape)\n",
    "    #dim = tf.zeros([batch_size,hidden_size])  \n",
    "    output_layer = tf.keras.layers.LSTM(hidden_size, kernel_regularizer=regularizers.L2(0.001),return_sequences=True,dropout=dropout)(input_layer)#, initial_state=[dim, dim])\n",
    "    output_layer2 = tf.keras.layers.TimeDistributed(tf.keras.layers.Dense(1, activation='tanh'))(output_layer)    \n",
    "    return tf.keras.models.Model(inputs=input_layer, outputs=output_layer2)\n",
    " \n",
    "def make_GRU(input_shape, hidden_size, dropout):\n",
    "    input_layer = tf.keras.layers.Input(input_shape)\n",
    "    output_layer = tf.keras.layers.GRU(hidden_size, kernel_regularizer=regularizers.L2(0.001),return_sequences=True,dropout=dropout)(input_layer)#, initial_state=[dim, dim])\n",
    "    output_layer2 = tf.keras.layers.TimeDistributed(tf.keras.layers.Dense(1, activation='tanh'))(output_layer)    \n",
    "    return tf.keras.models.Model(inputs=input_layer, outputs=output_layer2)\n",
    "\n",
    "def make_modelTKAN(input_shape, hidden_size, dropout):\n",
    "    model = tf.keras.Sequential([\n",
    "          tf.keras.layers.InputLayer(input_shape=input_shape),\n",
    "          TKAN(hidden_size, sub_kan_configs=[{'spline_order':3}], return_sequences=True, use_bias=True, kernel_regularizer=regularizers.L2(dropout),\n",
    "    bias_regularizer=regularizers.L2(dropout), recurrent_regularizer=regularizers.L2(dropout)),\n",
    "          tf.keras.layers.TimeDistributed(tf.keras.layers.Dense(1, activation='tanh')),\n",
    "    ])\n",
    "    return model\n",
    "\n",
    "models = {\"LSTM\":make_modelLSTM, \"GRU\": make_GRU, \"TKAN\": make_modelTKAN}\n",
    "#models = {\"TKAN\": make_modelTKAN}\n",
    "\n",
    "for model_name in models:\n",
    "    make_model = models[model_name]\n",
    "    batch_size = 64       \n",
    "\n",
    "    def objective(trial):\n",
    "        lr = trial.suggest_float('lr', 0.00001, 0.01)\n",
    "        hidden_size = trial.suggest_int('hs', 2, 32)\n",
    "\n",
    "        if model_name == \"TKAN\":\n",
    "            do = trial.suggest_float('dropout', 1e-5, 1e-2)\n",
    "            ep = 50\n",
    "        else:    \n",
    "            do = trial.suggest_float('dropout', 0.05, 0.2)\n",
    "            ep = 1000\n",
    "            \n",
    "        kf = KFold(n_splits=3)\n",
    "        scores = []\n",
    "        for _, (train_index, test_index) in enumerate(kf.split(X_train)):\n",
    "            model = make_model(input_shape=X_train.shape[1:],hidden_size=hidden_size, dropout = do)\n",
    "        # \n",
    "            opt = tf.keras.optimizers.Adam(learning_rate=lr)\n",
    "            # callback = tf.keras.callbacks.EarlyStopping(monitor='loss',\n",
    "            #                                patience=10)\n",
    "\n",
    "            checkpoint_filepath = 'checkpoint.keras'\n",
    "            model_checkpoint_callback = ModelCheckpoint(\n",
    "                filepath=checkpoint_filepath,\n",
    "                save_best_only=True,\n",
    "                monitor='loss',  # Or 'val_accuracy', or any other metric\n",
    "                mode='min',  # Or 'max' if you are monitoring a metric to be maximized\n",
    "            )\n",
    "            \n",
    "            reduce_lr = ReduceLROnPlateau(monitor='loss', factor=0.2,\n",
    "                                          patience=10, min_lr=0.00001)        \n",
    "            \n",
    "            model.compile(\n",
    "                 optimizer=opt,\n",
    "                 loss='binary_crossentropy',\n",
    "                 metrics=[\"mean_squared_error\"],\n",
    "            )\n",
    "\n",
    "            history = model.fit(\n",
    "                 X_train[train_index],\n",
    "                 ynn_train[train_index],\n",
    "                 batch_size=batch_size,\n",
    "                 epochs=ep,\n",
    "                 verbose=0,callbacks=[model_checkpoint_callback, reduce_lr]\n",
    "            )\n",
    "\n",
    "            best_model = load_model(checkpoint_filepath)\n",
    "            try:\n",
    "                y_pred = best_model.predict(X_train[test_index]) #, batch_size=batch_size)\n",
    "                scores.append(mean_squared_error(ynn_train[test_index].flatten(),y_pred.flatten()))\n",
    "            except Exception as e:\n",
    "                print(e)\n",
    "                scores.append(1e26)\n",
    "            del history\n",
    "            del model    \n",
    "        return np.asarray(scores).mean() \n",
    "        \n",
    "    study = optuna.create_study(direction='minimize')\n",
    "    study.optimize(objective, n_trials=50)    \n",
    "    \n",
    "    lr = study.best_trial.params[\"lr\"]     \n",
    "    hs = study.best_trial.params[\"hs\"]     \n",
    "    do = study.best_trial.params[\"dropout\"]   \n",
    "\n",
    "    model = make_model(input_shape=X_train.shape[1:],hidden_size=hs, dropout = do)\n",
    "# \n",
    "    opt = tf.keras.optimizers.Adam(learning_rate=lr)\n",
    "    #callback = tf.keras.callbacks.EarlyStopping(monitor='loss',\n",
    "    #                               patience=10)\n",
    "\n",
    "    model.compile(\n",
    "         optimizer=opt,\n",
    "         loss='binary_crossentropy',\n",
    "         metrics=[\"mean_squared_error\"],\n",
    "    )\n",
    "\n",
    "    if model_name == \"TKAN\":\n",
    "        ep = 50\n",
    "    else:\n",
    "        ep = 1000    \n",
    "\n",
    "    checkpoint_filepath = 'checkpoint.keras'\n",
    "    model_checkpoint_callback = ModelCheckpoint(\n",
    "        filepath=checkpoint_filepath,\n",
    "        save_best_only=True,\n",
    "        monitor='loss',  # Or 'val_accuracy', or any other metric\n",
    "        mode='min',  # Or 'max' if you are monitoring a metric to be maximized\n",
    "    )\n",
    "\n",
    "    reduce_lr = ReduceLROnPlateau(monitor='loss', factor=0.2,\n",
    "                                  patience=10, min_lr=0.00001)  \n",
    "    \n",
    "    history = model.fit(\n",
    "         X_train,\n",
    "         ynn_train,\n",
    "         batch_size=batch_size,\n",
    "         epochs=ep,\n",
    "         verbose=0,callbacks=[model_checkpoint_callback, reduce_lr]\n",
    "    )   \n",
    "    model = load_model(checkpoint_filepath)   \n",
    "    try:\n",
    "        y_pred = model.predict(X_test) #, batch_size=batch_size)\n",
    "        mse_score = mean_squared_error(ynn_test.flatten() * features_max[0],y_pred.flatten() * features_max[0])\n",
    "        mae_score = mean_absolute_error(ynn_test.flatten() * features_max[0],y_pred.flatten() * features_max[0])\n",
    "        r2_ = r2_score(ynn_test.flatten(),y_pred.flatten())\n",
    "        printf(model_name,mse_score, mae_score, r2_,fname=\"baseline_output.txt\")     \n",
    "        #nn_data.append([model_name,mse_score, mae_score])\n",
    "    except Exception as e:\n",
    "        print(e)\n",
    "    del model"
   ]
  },
  {
   "cell_type": "markdown",
   "id": "872e1c93-8cb4-493f-9758-dd2c97a3fa36",
   "metadata": {},
   "source": [
    "# Transformer regressor"
   ]
  },
  {
   "cell_type": "code",
   "execution_count": null,
   "id": "bdede718-fc3e-45a0-b94d-d30f8ad6cd8c",
   "metadata": {},
   "outputs": [
    {
     "name": "stdout",
     "output_type": "stream",
     "text": [
      "[!] Adding Laplacian positional encoding.\n",
      "Time LapPE: 9.05491590499878\n",
      "[!] Adding WL positional encoding.\n",
      "Time WL PE: 1.41568922996521\n"
     ]
    },
    {
     "name": "stderr",
     "output_type": "stream",
     "text": [
      "Epoch 1:   0%| | 1/1000 [00:00<09:20,  1.78it/s, lr=0.01, time=0.557, train_loss"
     ]
    },
    {
     "name": "stdout",
     "output_type": "stream",
     "text": [
      "0.6405973219411465\n"
     ]
    },
    {
     "name": "stderr",
     "output_type": "stream",
     "text": [
      "Epoch 2:   0%| | 2/1000 [00:01<08:41,  1.91it/s, lr=0.01, time=0.492, train_loss"
     ]
    },
    {
     "name": "stdout",
     "output_type": "stream",
     "text": [
      "0.33981088984889085\n"
     ]
    },
    {
     "name": "stderr",
     "output_type": "stream",
     "text": [
      "Epoch 3:   0%| | 3/1000 [00:01<08:30,  1.95it/s, lr=0.01, time=0.496, train_loss"
     ]
    },
    {
     "name": "stdout",
     "output_type": "stream",
     "text": [
      "0.33086369632528195\n"
     ]
    },
    {
     "name": "stderr",
     "output_type": "stream",
     "text": [
      "Epoch 4:   0%| | 4/1000 [00:02<09:23,  1.77it/s, lr=0.01, time=0.645, train_loss"
     ]
    },
    {
     "name": "stdout",
     "output_type": "stream",
     "text": [
      "0.24506010450312296\n"
     ]
    },
    {
     "name": "stderr",
     "output_type": "stream",
     "text": [
      "Epoch 5:   0%| | 5/1000 [00:02<09:32,  1.74it/s, lr=0.01, time=0.588, train_loss"
     ]
    },
    {
     "name": "stdout",
     "output_type": "stream",
     "text": [
      "0.2442385150320801\n"
     ]
    },
    {
     "name": "stderr",
     "output_type": "stream",
     "text": [
      "Epoch 6:   1%| | 6/1000 [00:03<09:40,  1.71it/s, lr=0.01, time=0.596, train_loss"
     ]
    },
    {
     "name": "stdout",
     "output_type": "stream",
     "text": [
      "0.23331919732668868\n"
     ]
    },
    {
     "name": "stderr",
     "output_type": "stream",
     "text": [
      "Epoch 7:   1%| | 7/1000 [00:03<09:24,  1.76it/s, lr=0.01, time=0.533, train_loss"
     ]
    },
    {
     "name": "stdout",
     "output_type": "stream",
     "text": [
      "0.18939470483923834\n"
     ]
    },
    {
     "name": "stderr",
     "output_type": "stream",
     "text": [
      "Epoch 21:   2%| | 21/1000 [00:12<11:47,  1.38it/s, lr=0.01, time=0.876, train_lo"
     ]
    },
    {
     "name": "stdout",
     "output_type": "stream",
     "text": [
      "0.18232091806966724\n"
     ]
    },
    {
     "name": "stderr",
     "output_type": "stream",
     "text": [
      "Epoch 23:   2%| | 23/1000 [00:13<10:03,  1.62it/s, lr=0.01, time=0.488, train_lo"
     ]
    },
    {
     "name": "stdout",
     "output_type": "stream",
     "text": [
      "0.17729928677988724\n"
     ]
    },
    {
     "name": "stderr",
     "output_type": "stream",
     "text": [
      "Epoch 36:   4%| | 36/1000 [00:20<08:34,  1.87it/s, lr=0.01, time=0.501, train_lo"
     ]
    },
    {
     "name": "stdout",
     "output_type": "stream",
     "text": [
      "0.16934729859705167\n"
     ]
    },
    {
     "name": "stderr",
     "output_type": "stream",
     "text": [
      "Epoch 44:   4%| | 44/1000 [00:25<10:42,  1.49it/s, lr=0.01, time=0.526, train_lo"
     ]
    },
    {
     "name": "stdout",
     "output_type": "stream",
     "text": [
      "0.15902716096176134\n"
     ]
    },
    {
     "name": "stderr",
     "output_type": "stream",
     "text": [
      "Epoch 45:   4%| | 45/1000 [00:26<09:58,  1.59it/s, lr=0.01, time=0.519, train_lo"
     ]
    },
    {
     "name": "stdout",
     "output_type": "stream",
     "text": [
      "0.1496903127078508\n"
     ]
    },
    {
     "name": "stderr",
     "output_type": "stream",
     "text": [
      "Epoch 52:   5%| | 52/1000 [00:29<08:07,  1.95it/s, lr=0.01, time=0.51, train_los"
     ]
    },
    {
     "name": "stdout",
     "output_type": "stream",
     "text": [
      "0.14581150615567345\n"
     ]
    },
    {
     "name": "stderr",
     "output_type": "stream",
     "text": [
      "Epoch 57:   6%| | 57/1000 [00:32<08:42,  1.80it/s, lr=0.01, time=0.49, train_los"
     ]
    },
    {
     "name": "stdout",
     "output_type": "stream",
     "text": [
      "0.12352101688862267\n"
     ]
    },
    {
     "name": "stderr",
     "output_type": "stream",
     "text": [
      "Epoch 82:   8%| | 82/1000 [00:46<08:00,  1.91it/s, lr=0.01, time=0.494, train_lo"
     ]
    },
    {
     "name": "stdout",
     "output_type": "stream",
     "text": [
      "0.12283131885607905\n"
     ]
    },
    {
     "name": "stderr",
     "output_type": "stream",
     "text": [
      "Epoch 89:   9%| | 89/1000 [00:50<09:32,  1.59it/s, lr=0.01, time=0.775, train_lo"
     ]
    },
    {
     "name": "stdout",
     "output_type": "stream",
     "text": [
      "0.11153042414344654\n"
     ]
    },
    {
     "name": "stderr",
     "output_type": "stream",
     "text": [
      "Epoch 552:  55%|▌| 552/1000 [05:32<04:12,  1.77it/s, lr=9.77e-6, time=0.652, tra"
     ]
    },
    {
     "name": "stdout",
     "output_type": "stream",
     "text": [
      "0.11081491935148255\n"
     ]
    },
    {
     "name": "stderr",
     "output_type": "stream",
     "text": [
      "Epoch 560:  56%|▌| 560/1000 [05:37<04:29,  1.63it/s, lr=9.77e-6, time=0.52, trai"
     ]
    },
    {
     "name": "stdout",
     "output_type": "stream",
     "text": [
      "0.10957929877638843\n"
     ]
    },
    {
     "name": "stderr",
     "output_type": "stream",
     "text": [
      "Epoch 999: 100%|█| 1000/1000 [10:03<00:00,  1.66it/s, lr=1.91e-8, time=0.599, tr\n"
     ]
    },
    {
     "name": "stdout",
     "output_type": "stream",
     "text": [
      "Convergence Time (Epochs): 999.0000\n",
      "Min loss: 0.10957929877638843 0.16710570503275946\n",
      "('Transformer: encoder', True, 1.1745897988723093e+17, 136661382.8019454, 0.8186817446516286)\n",
      "[!] Adding Laplacian positional encoding.\n",
      "Time LapPE: 9.152012825012207\n",
      "[!] Adding WL positional encoding.\n",
      "Time WL PE: 3.2408206462860107\n"
     ]
    },
    {
     "name": "stderr",
     "output_type": "stream",
     "text": [
      "Epoch 1:   0%| | 1/1000 [00:00<10:30,  1.59it/s, lr=0.01, time=0.628, train_loss"
     ]
    },
    {
     "name": "stdout",
     "output_type": "stream",
     "text": [
      "0.6069810070435979\n"
     ]
    },
    {
     "name": "stderr",
     "output_type": "stream",
     "text": [
      "Epoch 2:   0%| | 2/1000 [00:01<10:10,  1.64it/s, lr=0.01, time=0.593, train_loss"
     ]
    },
    {
     "name": "stdout",
     "output_type": "stream",
     "text": [
      "0.44127574135595315\n"
     ]
    },
    {
     "name": "stderr",
     "output_type": "stream",
     "text": [
      "Epoch 3:   0%| | 3/1000 [00:01<09:46,  1.70it/s, lr=0.01, time=0.556, train_loss"
     ]
    },
    {
     "name": "stdout",
     "output_type": "stream",
     "text": [
      "0.2945040320795574\n"
     ]
    },
    {
     "name": "stderr",
     "output_type": "stream",
     "text": [
      "Epoch 5:   0%| | 5/1000 [00:02<09:15,  1.79it/s, lr=0.01, time=0.533, train_loss"
     ]
    },
    {
     "name": "stdout",
     "output_type": "stream",
     "text": [
      "0.21060385545821686\n"
     ]
    },
    {
     "name": "stderr",
     "output_type": "stream",
     "text": [
      "Epoch 7:   1%| | 7/1000 [00:04<09:25,  1.76it/s, lr=0.01, time=0.584, train_loss"
     ]
    },
    {
     "name": "stdout",
     "output_type": "stream",
     "text": [
      "0.18322252869428418\n"
     ]
    },
    {
     "name": "stderr",
     "output_type": "stream",
     "text": [
      "Epoch 21:   2%| | 21/1000 [00:12<11:57,  1.36it/s, lr=0.01, time=1.01, train_los"
     ]
    },
    {
     "name": "stdout",
     "output_type": "stream",
     "text": [
      "0.16668754788171192\n"
     ]
    },
    {
     "name": "stderr",
     "output_type": "stream",
     "text": [
      "Epoch 24:   2%| | 24/1000 [00:14<10:41,  1.52it/s, lr=0.01, time=0.566, train_lo"
     ]
    },
    {
     "name": "stdout",
     "output_type": "stream",
     "text": [
      "0.15330169831059812\n"
     ]
    },
    {
     "name": "stderr",
     "output_type": "stream",
     "text": [
      "Epoch 29:   3%| | 29/1000 [00:17<09:48,  1.65it/s, lr=0.01, time=0.621, train_lo"
     ]
    },
    {
     "name": "stdout",
     "output_type": "stream",
     "text": [
      "0.1417562807327018\n"
     ]
    },
    {
     "name": "stderr",
     "output_type": "stream",
     "text": [
      "Epoch 43:   4%| | 43/1000 [00:29<15:50,  1.01it/s, lr=0.01, time=0.687, train_lo"
     ]
    },
    {
     "name": "stdout",
     "output_type": "stream",
     "text": [
      "0.1412120588713818\n"
     ]
    },
    {
     "name": "stderr",
     "output_type": "stream",
     "text": [
      "Epoch 51:   5%| | 51/1000 [00:33<10:20,  1.53it/s, lr=0.01, time=0.757, train_lo"
     ]
    },
    {
     "name": "stdout",
     "output_type": "stream",
     "text": [
      "0.13873865460713197\n"
     ]
    },
    {
     "name": "stderr",
     "output_type": "stream",
     "text": [
      "Epoch 65:   6%| | 65/1000 [00:42<10:28,  1.49it/s, lr=0.01, time=0.566, train_lo"
     ]
    }
   ],
   "source": [
    "import time\n",
    "from torch import optim\n",
    "from torch.utils.data import DataLoader\n",
    "from tqdm import tqdm\n",
    "import os\n",
    "import warnings\n",
    "import copy\n",
    "\n",
    "warnings.filterwarnings(\"ignore\")\n",
    "\n",
    "for fft in [True, False]:\n",
    "    \n",
    "    max_cluster_size = 0\n",
    "    \n",
    "    lap_pos_enc = True\n",
    "    wl_pos_enc = True\n",
    "    device = \"cpu\"\n",
    "    batch_size = 8\n",
    "    epochs = 1000\n",
    "    \n",
    "    root_log_dir = \"\"\n",
    "    root_ckpt_dir = \"checkpoints\"\n",
    "    write_file_name = \"\"\n",
    "    write_config_file = \"\"\n",
    "    min_lr = 0.00000001\n",
    "    if fft:\n",
    "        cluster_year_ = copy.deepcopy(cluster_year)\n",
    "        for c,y in cluster_year_:\n",
    "            for j,k in cluster_year_[(c,y)][1]: \n",
    "                f1 = torch.fft.rfft2(torch.from_numpy(cluster_year_[(c,y)][1][j,k][0][:,:2]),norm=\"ortho\")\n",
    "                f2 = torch.fft.rfft2(torch.from_numpy(cluster_year_[(c,y)][1][j,k][0][:,2:4]),norm=\"ortho\")\n",
    "                #print(f1.shape,f2.shape,cluster_year_[(c,y)][1][j,k][0].shape)\n",
    "                cluster_year_[(c,y)][1][j,k][0] =  torch.hstack([f1,f2])\n",
    "    else:\n",
    "        cluster_year_ = cluster_year\n",
    "    \n",
    "    dataset = TradeDGL(cluster_year_,device)\n",
    "    net_params = {}\n",
    "    \n",
    "    net_params['fft'] = fft\n",
    "    net_params['num_trade_indicators'] = 1\n",
    "    net_params['hidden_dim'] = 4\n",
    "    net_params['n_heads'] = 2\n",
    "    net_params['out_dim'] = 1\n",
    "    net_params['in_feat_dropout'] = 0.0\n",
    "    net_params['dropout'] = 0.05\n",
    "    net_params['L'] = 2\n",
    "    net_params['layer_norm'] = False\n",
    "    net_params['batch_norm'] = False\n",
    "    net_params['residual'] = True\n",
    "    net_params['edge_feat'] = True\n",
    "    net_params['device'] = device\n",
    "    net_params['lap_pos_enc'] = lap_pos_enc\n",
    "    net_params['wl_pos_enc'] = wl_pos_enc\n",
    "    net_params['max_cluster_size'] = len(dataset.all_countries)\n",
    "    net_params['pos_enc_dim'] = 4\n",
    "    \n",
    "    \n",
    "    net_params['num_states'] = len(dataset.all_countries)\n",
    "    \n",
    "    train_len = int(dataset.n_samples * 0.6)\n",
    "    val_len = int(dataset.n_samples * 0.2)\n",
    "    \n",
    "    \n",
    "    test_len = dataset.n_samples - train_len - val_len\n",
    "    \n",
    "    if lap_pos_enc:\n",
    "        st = time.time()\n",
    "    \n",
    "        \n",
    "        print(\"[!] Adding Laplacian positional encoding.\")\n",
    "        dataset._add_laplacian_positional_encodings(net_params['pos_enc_dim'])\n",
    "        print('Time LapPE:',time.time()-st)\n",
    "        \n",
    "    if wl_pos_enc:\n",
    "        st = time.time()\n",
    "        print(\"[!] Adding WL positional encoding.\")\n",
    "        dataset._add_wl_positional_encodings()\n",
    "        print('Time WL PE:',time.time()-st)\n",
    "    \n",
    "    trainset, valset, testset = torch.utils.data.random_split(dataset, [train_len, val_len, test_len])\n",
    "    \n",
    "    \n",
    "    model = GraphTransformerNet(net_params)\n",
    "    \n",
    "    model = model.to(device)\n",
    "    \n",
    "    optimizer = optim.Adam(model.parameters(), lr=0.01, weight_decay=0.)\n",
    "    scheduler = optim.lr_scheduler.ReduceLROnPlateau(optimizer, mode='min',\n",
    "                                                     factor=0.5,\n",
    "                                                     patience=30,\n",
    "                                                     verbose=True)\n",
    "    \n",
    "    epoch_train_losses, epoch_val_losses = [], []\n",
    "        \n",
    "    \n",
    "    train_loader = DataLoader(trainset, batch_size=batch_size, shuffle=True, collate_fn=dataset.collate)\n",
    "    val_loader = DataLoader(valset, batch_size=batch_size, shuffle=False, collate_fn=dataset.collate)\n",
    "    test_loader = DataLoader(testset, batch_size=batch_size, shuffle=False, collate_fn=dataset.collate)\n",
    "    min_loss = 100\n",
    "    min_val = 0\n",
    "    min_name = \"\"    \n",
    "    try:\n",
    "        with tqdm(range(epochs)) as t:\n",
    "            for epoch in t:\n",
    "    \n",
    "                t.set_description('Epoch %d' % epoch)\n",
    "    \n",
    "                start = time.time()\n",
    "    \n",
    "                epoch_train_loss, optimizer = train_epoch(model, optimizer, device, train_loader, epoch)\n",
    "                    \n",
    "                epoch_val_loss = evaluate_network(model, device, val_loader, epoch)\n",
    "    \n",
    "                # Saving checkpoint\n",
    "                ckpt_dir = os.path.join(root_ckpt_dir, \"RUN_\")\n",
    "                if not os.path.exists(ckpt_dir):\n",
    "                    os.makedirs(ckpt_dir)\n",
    "                    \n",
    "                if epoch_train_loss < min_loss:\n",
    "                    min_loss = epoch_train_loss\n",
    "                    min_val = epoch_val_loss\n",
    "                    min_name = '{}.pkl'.format(ckpt_dir + \"/epoch_\" + str(epoch))\n",
    "                    print(min_loss)\n",
    "                    \n",
    "                epoch_train_losses.append(epoch_train_loss)\n",
    "                epoch_val_losses.append(epoch_val_loss)\n",
    "                t.set_postfix(time=time.time()-start, lr=optimizer.param_groups[0]['lr'],\n",
    "                              train_loss=epoch_train_loss, val_loss=epoch_val_loss)\n",
    "                \n",
    "                #per_epoch_time.append(time.time()-start)\n",
    "    \n",
    "    \n",
    "                torch.save(model.state_dict(), '{}.pkl'.format(ckpt_dir + \"/epoch_\" + str(epoch)))\n",
    "    \n",
    "    \n",
    "                scheduler.step(epoch_val_loss)\n",
    "    \n",
    "                #if optimizer.param_groups[0]['lr'] < min_lr:\n",
    "                #    print(\"\\n!! LR EQUAL TO MIN LR SET.\")\n",
    "                #    break\n",
    "                \n",
    "    except KeyboardInterrupt:\n",
    "        print('-' * 89)\n",
    "        print('Exiting from training early because of KeyboardInterrupt')\n",
    "    \n",
    "    print(\"Convergence Time (Epochs): {:.4f}\".format(epoch))\n",
    "    \n",
    "    print(\"Min loss:\", min_loss,min_val)\n",
    "    \n",
    "    model = GraphTransformerNet(net_params)\n",
    "    model.load_state_dict(torch.load(min_name, weights_only=True))\n",
    "    sq,a,r,residuals = test_network(model, device, test_loader)\n",
    "    printf('Transformer: encoder',fft,sq,a,r)\n",
    "#writer.close()"
   ]
  },
  {
   "cell_type": "markdown",
   "id": "d07e10fe-c04a-4ae8-a74e-9a57d75e3566",
   "metadata": {},
   "source": [
    "# Decoder"
   ]
  },
  {
   "cell_type": "code",
   "execution_count": 9,
   "id": "92a36b90-b9e1-441f-b8a4-a1251924a27d",
   "metadata": {},
   "outputs": [
    {
     "name": "stdout",
     "output_type": "stream",
     "text": [
      "[!] Adding Laplacian positional encoding.\n",
      "Time LapPE: 5.278119087219238\n",
      "[!] Adding WL positional encoding.\n",
      "Time WL PE: 1.0828883647918701\n"
     ]
    },
    {
     "name": "stderr",
     "output_type": "stream",
     "text": [
      "Epoch 1:   0%| | 1/3000 [00:08<7:05:44,  8.52s/it, lr=0.01, time=8.51, train_los"
     ]
    },
    {
     "name": "stdout",
     "output_type": "stream",
     "text": [
      "0.5815591007623894 0.5326838215561298\n"
     ]
    },
    {
     "name": "stderr",
     "output_type": "stream",
     "text": [
      "Epoch 2:   0%| | 2/3000 [00:16<7:02:29,  8.46s/it, lr=0.01, time=8.41, train_los"
     ]
    },
    {
     "name": "stdout",
     "output_type": "stream",
     "text": [
      "0.45648708532822724 0.39255612040856935\n"
     ]
    },
    {
     "name": "stderr",
     "output_type": "stream",
     "text": [
      "Epoch 3:   0%| | 3/3000 [00:25<6:59:50,  8.41s/it, lr=0.01, time=8.34, train_los"
     ]
    },
    {
     "name": "stdout",
     "output_type": "stream",
     "text": [
      "0.30140916913708604 0.32475004045830047\n"
     ]
    },
    {
     "name": "stderr",
     "output_type": "stream",
     "text": [
      "Epoch 4:   0%| | 4/3000 [00:33<7:01:16,  8.44s/it, lr=0.01, time=8.48, train_los"
     ]
    },
    {
     "name": "stdout",
     "output_type": "stream",
     "text": [
      "0.2455968832877451 0.3595992116503769\n"
     ]
    },
    {
     "name": "stderr",
     "output_type": "stream",
     "text": [
      "Epoch 5:   0%| | 5/3000 [00:42<7:01:01,  8.43s/it, lr=0.01, time=8.43, train_los"
     ]
    },
    {
     "name": "stdout",
     "output_type": "stream",
     "text": [
      "0.2402316470375503 0.3408719465500792\n"
     ]
    },
    {
     "name": "stderr",
     "output_type": "stream",
     "text": [
      "Epoch 6:   0%| | 6/3000 [00:50<7:00:14,  8.42s/it, lr=0.01, time=8.39, train_los"
     ]
    },
    {
     "name": "stdout",
     "output_type": "stream",
     "text": [
      "0.23901484517368127 0.3112976818162791\n"
     ]
    },
    {
     "name": "stderr",
     "output_type": "stream",
     "text": [
      "Epoch 7:   0%| | 7/3000 [00:59<7:00:53,  8.44s/it, lr=0.01, time=8.46, train_los"
     ]
    },
    {
     "name": "stdout",
     "output_type": "stream",
     "text": [
      "0.2249791090994318 0.3100181229209533\n"
     ]
    },
    {
     "name": "stderr",
     "output_type": "stream",
     "text": [
      "Epoch 10:   0%| | 10/3000 [01:24<7:03:47,  8.50s/it, lr=0.01, time=8.67, train_l"
     ]
    },
    {
     "name": "stdout",
     "output_type": "stream",
     "text": [
      "0.21665497738233858 0.32200296064819134\n"
     ]
    },
    {
     "name": "stderr",
     "output_type": "stream",
     "text": [
      "Epoch 12:   0%| | 12/3000 [01:42<7:16:05,  8.76s/it, lr=0.01, time=8.55, train_l"
     ]
    },
    {
     "name": "stdout",
     "output_type": "stream",
     "text": [
      "0.21117630580963742 0.3076630639829691\n"
     ]
    },
    {
     "name": "stderr",
     "output_type": "stream",
     "text": [
      "Epoch 13:   0%| | 13/3000 [01:51<7:09:44,  8.63s/it, lr=0.01, time=8.34, train_l"
     ]
    },
    {
     "name": "stdout",
     "output_type": "stream",
     "text": [
      "0.2102383190152981 0.3113443288342713\n"
     ]
    },
    {
     "name": "stderr",
     "output_type": "stream",
     "text": [
      "Epoch 15:   0%| | 15/3000 [02:08<7:12:47,  8.70s/it, lr=0.01, time=8.92, train_l"
     ]
    },
    {
     "name": "stdout",
     "output_type": "stream",
     "text": [
      "0.20931480606297392 0.30236897102981697\n"
     ]
    },
    {
     "name": "stderr",
     "output_type": "stream",
     "text": [
      "Epoch 16:   1%| | 16/3000 [02:17<7:13:06,  8.71s/it, lr=0.01, time=8.73, train_l"
     ]
    },
    {
     "name": "stdout",
     "output_type": "stream",
     "text": [
      "0.19580726054673595 0.30132635993276013\n"
     ]
    },
    {
     "name": "stderr",
     "output_type": "stream",
     "text": [
      "Epoch 17:   1%| | 17/3000 [02:25<7:07:49,  8.61s/it, lr=0.01, time=8.36, train_l"
     ]
    },
    {
     "name": "stdout",
     "output_type": "stream",
     "text": [
      "0.18997355534734126 0.2860376617456029\n"
     ]
    },
    {
     "name": "stderr",
     "output_type": "stream",
     "text": [
      "Epoch 18:   1%| | 18/3000 [02:34<7:04:47,  8.55s/it, lr=0.01, time=8.4, train_lo"
     ]
    },
    {
     "name": "stdout",
     "output_type": "stream",
     "text": [
      "0.17585485945711604 0.24851988504131273\n"
     ]
    },
    {
     "name": "stderr",
     "output_type": "stream",
     "text": [
      "Epoch 19:   1%| | 19/3000 [02:42<7:08:03,  8.62s/it, lr=0.01, time=8.77, train_l"
     ]
    },
    {
     "name": "stdout",
     "output_type": "stream",
     "text": [
      "0.15792023283860077 0.25117016507129425\n"
     ]
    },
    {
     "name": "stderr",
     "output_type": "stream",
     "text": [
      "Epoch 20:   1%| | 20/3000 [02:51<7:05:18,  8.56s/it, lr=0.01, time=8.43, train_l"
     ]
    },
    {
     "name": "stdout",
     "output_type": "stream",
     "text": [
      "0.15508874061170905 0.24720364792097696\n"
     ]
    },
    {
     "name": "stderr",
     "output_type": "stream",
     "text": [
      "Epoch 24:   1%| | 24/3000 [03:25<7:00:06,  8.47s/it, lr=0.01, time=8.37, train_l"
     ]
    },
    {
     "name": "stdout",
     "output_type": "stream",
     "text": [
      "0.1453793554598259 0.24472327743819366\n"
     ]
    },
    {
     "name": "stderr",
     "output_type": "stream",
     "text": [
      "Epoch 29:   1%| | 29/3000 [04:07<6:59:58,  8.48s/it, lr=0.01, time=8.4, train_lo"
     ]
    },
    {
     "name": "stdout",
     "output_type": "stream",
     "text": [
      "0.14407283820798897 0.2475189899445308\n"
     ]
    },
    {
     "name": "stderr",
     "output_type": "stream",
     "text": [
      "Epoch 38:   1%| | 38/3000 [05:23<6:56:23,  8.43s/it, lr=0.01, time=8.45, train_l"
     ]
    },
    {
     "name": "stdout",
     "output_type": "stream",
     "text": [
      "0.14242737990721951 0.24255621396771046\n"
     ]
    },
    {
     "name": "stderr",
     "output_type": "stream",
     "text": [
      "Epoch 52:   2%| | 52/3000 [07:21<6:57:14,  8.49s/it, lr=0.01, time=8.55, train_l"
     ]
    },
    {
     "name": "stdout",
     "output_type": "stream",
     "text": [
      "0.13953814661325298 0.24178712701419575\n"
     ]
    },
    {
     "name": "stderr",
     "output_type": "stream",
     "text": [
      "Epoch 57:   2%| | 57/3000 [08:04<7:01:16,  8.59s/it, lr=0.01, time=8.37, train_l"
     ]
    },
    {
     "name": "stdout",
     "output_type": "stream",
     "text": [
      "0.13773131628651153 0.24171007702003103\n"
     ]
    },
    {
     "name": "stderr",
     "output_type": "stream",
     "text": [
      "Epoch 61:   2%| | 61/3000 [08:38<6:55:18,  8.48s/it, lr=0.01, time=8.39, train_l"
     ]
    },
    {
     "name": "stdout",
     "output_type": "stream",
     "text": [
      "0.13600273213782965 0.24610752164993438\n"
     ]
    },
    {
     "name": "stderr",
     "output_type": "stream",
     "text": [
      "Epoch 98:   3%| | 98/3000 [13:51<6:47:03,  8.42s/it, lr=0.01, time=8.36, train_l"
     ]
    },
    {
     "name": "stdout",
     "output_type": "stream",
     "text": [
      "0.1304646137431324 0.24122150557735872\n"
     ]
    },
    {
     "name": "stderr",
     "output_type": "stream",
     "text": [
      "Epoch 526:  18%|▏| 526/3000 [1:11:57<5:33:57,  8.10s/it, lr=3.91e-5, time=8.09, "
     ]
    },
    {
     "name": "stdout",
     "output_type": "stream",
     "text": [
      "0.1298767787986324 0.24146668469676846\n"
     ]
    },
    {
     "name": "stderr",
     "output_type": "stream",
     "text": [
      "Epoch 1039:  35%|▎| 1039/3000 [2:21:31<4:24:57,  8.11s/it, lr=3.81e-8, time=8.07"
     ]
    },
    {
     "name": "stdout",
     "output_type": "stream",
     "text": [
      "0.12755724235993265 0.24149728175280044\n"
     ]
    },
    {
     "name": "stderr",
     "output_type": "stream",
     "text": [
      "Epoch 2999: 100%|█| 3000/3000 [6:47:09<00:00,  8.14s/it, lr=1.91e-8, time=8.3, t"
     ]
    },
    {
     "name": "stdout",
     "output_type": "stream",
     "text": [
      "Convergence Time (Epochs): 2999.0000\n",
      "Min loss: 0.12755724235993265 0.24149728175280044\n"
     ]
    },
    {
     "name": "stderr",
     "output_type": "stream",
     "text": [
      "\n"
     ]
    },
    {
     "data": {
      "text/plain": [
       "<All keys matched successfully>"
      ]
     },
     "execution_count": 9,
     "metadata": {},
     "output_type": "execute_result"
    }
   ],
   "source": [
    "import time\n",
    "from torch import optim\n",
    "from torch.utils.data import DataLoader\n",
    "from tqdm import tqdm\n",
    "import os\n",
    "import warnings\n",
    "from sklearn.model_selection import train_test_split\n",
    "\n",
    "warnings.filterwarnings(\"ignore\")\n",
    "\n",
    "max_cluster_size = 0\n",
    "\n",
    "lap_pos_enc = True\n",
    "wl_pos_enc = True\n",
    "device = \"cpu\"\n",
    "batch_size = 8\n",
    "epochs = 3000\n",
    "\n",
    "root_log_dir = \"\"\n",
    "root_ckpt_dir = \"checkpoints\"\n",
    "write_file_name = \"\"\n",
    "write_config_file = \"\"\n",
    "min_lr = 0.00000001\n",
    "\n",
    "cy_train, cy_test = train_test_split(list(cluster_year.keys()),train_size=0.8)\n",
    "\n",
    "train_dataset = TradeDGLDecoder({k:cluster_year[k] for k in cy_train},device,random_ratio = 0.5)\n",
    "test_dataset = TradeDGLDecoder({k:cluster_year[k] for k in cy_test},device,random_ratio = 1.0)\n",
    "net_params = {}\n",
    "\n",
    "net_params['fft'] = False\n",
    "net_params['num_trade_indicators'] = 1\n",
    "net_params['hidden_dim'] = 4\n",
    "net_params['n_heads'] = 2\n",
    "net_params['out_dim'] = 1\n",
    "net_params['in_feat_dropout'] = 0.\n",
    "net_params['dropout'] = 0.0\n",
    "net_params['encL'] = 1\n",
    "net_params['decL'] = 1\n",
    "net_params['layer_norm'] = False\n",
    "net_params['batch_norm'] = False\n",
    "net_params['residual'] = True\n",
    "net_params['edge_feat'] = True\n",
    "net_params['device'] = device\n",
    "net_params['lap_pos_enc'] = lap_pos_enc\n",
    "net_params['wl_pos_enc'] = wl_pos_enc\n",
    "net_params['max_cluster_size'] = max(len(train_dataset.all_countries),len(test_dataset.all_countries))\n",
    "net_params['pos_enc_dim'] = 4\n",
    "\n",
    "\n",
    "net_params['num_states'] = max(len(train_dataset.all_countries),len(test_dataset.all_countries))\n",
    "\n",
    "if lap_pos_enc:\n",
    "    st = time.time()\n",
    "\n",
    "    \n",
    "    print(\"[!] Adding Laplacian positional encoding.\")\n",
    "    train_dataset._add_laplacian_positional_encodings(net_params['pos_enc_dim'])\n",
    "    test_dataset._add_laplacian_positional_encodings(net_params['pos_enc_dim'])\n",
    "    print('Time LapPE:',time.time()-st)\n",
    "    \n",
    "if wl_pos_enc:\n",
    "    st = time.time()\n",
    "    print(\"[!] Adding WL positional encoding.\")\n",
    "    train_dataset._add_wl_positional_encodings()\n",
    "    test_dataset._add_wl_positional_encodings()\n",
    "    print('Time WL PE:',time.time()-st)\n",
    "\n",
    "trainset, valset = torch.utils.data.random_split(train_dataset, [0.8,0.2])\n",
    "\n",
    "\n",
    "model = GraphTransformerNetDec(net_params)\n",
    "#model = SimpleGRU(net_params['hidden_dim'])\n",
    "model = model.to(device)\n",
    "\n",
    "optimizer = optim.Adam(model.parameters(), lr=0.01, weight_decay=0.)\n",
    "scheduler = optim.lr_scheduler.ReduceLROnPlateau(optimizer, mode='min',\n",
    "                                                 factor=0.5,\n",
    "                                                 patience=50,\n",
    "                                                 verbose=True)\n",
    "\n",
    "epoch_train_losses, epoch_val_losses = [], []\n",
    "    \n",
    "\n",
    "train_loader = DataLoader(trainset, batch_size=batch_size, shuffle=True, collate_fn=train_dataset.collate)\n",
    "val_loader = DataLoader(valset, batch_size=batch_size, shuffle=False, collate_fn=train_dataset.collate)\n",
    "test_loader = DataLoader(test_dataset, batch_size=batch_size, shuffle=False, collate_fn=test_dataset.collate)\n",
    "min_loss = 100000\n",
    "min_val = 0\n",
    "min_name = \"\"    \n",
    "try:\n",
    "    with tqdm(range(epochs)) as t:\n",
    "        for epoch in t:\n",
    "\n",
    "            t.set_description('Epoch %d' % epoch)\n",
    "\n",
    "            start = time.time()\n",
    "\n",
    "            epoch_train_loss, optimizer = train_epoch(model, optimizer, device, train_loader, epoch)\n",
    "                \n",
    "            epoch_val_loss = evaluate_network(model, device, val_loader, epoch)\n",
    "\n",
    "            # Saving checkpoint\n",
    "            ckpt_dir = os.path.join(root_ckpt_dir, \"RUN_\")\n",
    "            if not os.path.exists(ckpt_dir):\n",
    "                os.makedirs(ckpt_dir)\n",
    "                \n",
    "            if epoch_train_loss < min_loss:\n",
    "                min_loss = epoch_train_loss\n",
    "                print(min_loss,epoch_val_loss)\n",
    "                min_val = epoch_val_loss\n",
    "                min_name = '{}.pkl'.format(ckpt_dir + \"/epoch_\" + str(epoch))\n",
    "                \n",
    "            epoch_train_losses.append(epoch_train_loss)\n",
    "            epoch_val_losses.append(epoch_val_loss)\n",
    "            t.set_postfix(time=time.time()-start, lr=optimizer.param_groups[0]['lr'],\n",
    "                          train_loss=epoch_train_loss, val_loss=epoch_val_loss)\n",
    "            \n",
    "\n",
    "            torch.save(model.state_dict(), '{}.pkl'.format(ckpt_dir + \"/epoch_\" + str(epoch)))\n",
    "\n",
    "\n",
    "            scheduler.step(epoch_val_loss)\n",
    "\n",
    "except KeyboardInterrupt:\n",
    "    print('-' * 89)\n",
    "    print('Exiting from training early because of KeyboardInterrupt')\n",
    "\n",
    "print(\"Convergence Time (Epochs): {:.4f}\".format(epoch))\n",
    "\n",
    "print(\"Min loss:\", min_loss,min_val)\n",
    "\n",
    "model = GraphTransformerNetDec(net_params)\n",
    "model.load_state_dict(torch.load(min_name, weights_only=True))\n",
    "\n",
    "#writer.close()"
   ]
  },
  {
   "cell_type": "code",
   "execution_count": 10,
   "id": "27ece9a2-6380-4dd8-9028-d5914ae3ccbc",
   "metadata": {},
   "outputs": [
    {
     "name": "stdout",
     "output_type": "stream",
     "text": [
      "[6.67143422e-03 2.32827331e-02 2.76407730e-01 1.63385886e-02\n",
      " 2.19863103e-01 1.13026799e-01 7.80935515e-03 3.59803578e-03\n",
      " 4.31692693e-02 1.46970502e-02 1.23295891e-02 6.61448770e-04\n",
      " 4.65270111e-02 8.93450713e-02 1.60435914e-02 3.76402024e-04\n",
      " 2.85426598e-04 3.53031983e-04 1.58078292e-02 2.32046415e-02\n",
      " 4.86398262e-02 7.76321327e-02 2.91139900e-03 5.03105253e-02\n",
      " 1.84605005e-02 3.54295211e-01 1.25459034e-01 4.67457258e-02\n",
      " 1.17590546e-01 1.64828041e-02] [0.01748795 0.06323804 0.00997239 0.00718756 0.16782949 0.05457494\n",
      " 0.00213992 0.00284901 0.03818799 0.00343212 0.00511989 0.00198032\n",
      " 0.05160219 0.03539711 0.0454592  0.00158577 0.00161337 0.00163251\n",
      " 0.00435363 0.03110227 0.00722455 0.06322904 0.0020618  0.01129585\n",
      " 0.02538064 0.2565765  0.00175113 0.04249722 0.10644878 0.00417612]\n",
      "('Transformer: encoder-decoder', 9.714085832707962e+16, 142403652.58810768, 0.8695477575437767)\n"
     ]
    }
   ],
   "source": [
    "sq,a,r,residuals,_ = test_network(model, device, test_loader)\n",
    "printf('Transformer: encoder-decoder',sq,a,r)"
   ]
  },
  {
   "cell_type": "code",
   "execution_count": null,
   "id": "8b6f358e-ebcb-4ee1-a3ea-2b056f7e7785",
   "metadata": {},
   "outputs": [],
   "source": []
  }
 ],
 "metadata": {
  "kernelspec": {
   "display_name": "Python 3 (ipykernel)",
   "language": "python",
   "name": "python3"
  },
  "language_info": {
   "codemirror_mode": {
    "name": "ipython",
    "version": 3
   },
   "file_extension": ".py",
   "mimetype": "text/x-python",
   "name": "python",
   "nbconvert_exporter": "python",
   "pygments_lexer": "ipython3",
   "version": "3.9.13"
  }
 },
 "nbformat": 4,
 "nbformat_minor": 5
}
